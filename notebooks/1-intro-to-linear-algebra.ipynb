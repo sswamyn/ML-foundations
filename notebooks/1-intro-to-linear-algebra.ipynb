{
 "cells": [
  {
   "cell_type": "markdown",
   "metadata": {
    "colab_type": "text",
    "id": "view-in-github"
   },
   "source": [
    "<a href=\"https://colab.research.google.com/github/jonkrohn/ML-foundations/blob/master/notebooks/1-intro-to-linear-algebra.ipynb\" target=\"_parent\"><img src=\"https://colab.research.google.com/assets/colab-badge.svg\" alt=\"Open In Colab\"/></a>"
   ]
  },
<<<<<<< HEAD
  "cells": [
    {
      "cell_type": "markdown",
      "metadata": {
        "id": "view-in-github",
        "colab_type": "text"
      },
      "source": [
        "<a href=\"https://colab.research.google.com/github/sswamyn/ML-foundations/blob/master/notebooks/1-intro-to-linear-algebra.ipynb\" target=\"_parent\"><img src=\"https://colab.research.google.com/assets/colab-badge.svg\" alt=\"Open In Colab\"/></a>"
      ]
    },
    {
      "cell_type": "markdown",
      "metadata": {
        "id": "aTOLgsbN69-P"
      },
      "source": [
        "# Intro to Linear Algebra"
      ]
    },
    {
      "cell_type": "markdown",
      "metadata": {
        "id": "yqUB9FTRAxd-"
      },
      "source": [
        "This topic, *Intro to Linear Algebra*, is the first in the *Machine Learning Foundations* series.\n",
        "\n",
        "It is essential because linear algebra lies at the heart of most machine learning approaches and is especially predominant in deep learning, the branch of ML at the forefront of today’s artificial intelligence advances. Through the measured exposition of theory paired with interactive examples, you’ll develop an understanding of how linear algebra is used to solve for unknown values in high-dimensional spaces, thereby enabling machines to recognize patterns and make predictions.\n",
        "\n",
        "The content covered in *Intro to Linear Algebra* is itself foundational for all the other topics in the Machine Learning Foundations series and it is especially relevant to *Linear Algebra II*."
      ]
    },
    {
      "cell_type": "markdown",
      "metadata": {
        "id": "d4tBvI88BheF"
      },
      "source": [
        "Over the course of studying this topic, you'll:\n",
        "\n",
        "* Understand the fundamentals of linear algebra, a ubiquitous approach for solving for unknowns within high-dimensional spaces.\n",
        "\n",
        "* Develop a geometric intuition of what’s going on beneath the hood of machine learning algorithms, including those used for deep learning.\n",
        "* Be able to more intimately grasp the details of machine learning papers as well as all of the other subjects that underlie ML, including calculus, statistics, and optimization algorithms."
      ]
    },
    {
      "cell_type": "markdown",
      "metadata": {
        "id": "Z68nQ0ekCYhF"
      },
      "source": [
        "**Note that this Jupyter notebook is not intended to stand alone. It is the companion code to a lecture or to videos from Jon Krohn's [Machine Learning Foundations](https://github.com/jonkrohn/ML-foundations) series, which offer detail on the following:**\n",
        "\n",
        "*Segment 1: Data Structures for Algebra*\n",
        "\n",
        "* What Linear Algebra Is  \n",
        "* A Brief History of Algebra\n",
        "* Tensors\n",
        "* Scalars\n",
        "* Vectors and Vector Transposition\n",
        "* Norms and Unit Vectors\n",
        "* Basis, Orthogonal, and Orthonormal Vectors\n",
        "* Arrays in NumPy  \n",
        "* Matrices\n",
        "* Tensors in TensorFlow and PyTorch\n",
        "\n",
        "*Segment 2: Common Tensor Operations*\n",
        "\n",
        "* Tensor Transposition\n",
        "* Basic Tensor Arithmetic\n",
        "* Reduction\n",
        "* The Dot Product\n",
        "* Solving Linear Systems\n",
        "\n",
        "*Segment 3: Matrix Properties*\n",
        "\n",
        "* The Frobenius Norm\n",
        "* Matrix Multiplication\n",
        "* Symmetric and Identity Matrices\n",
        "* Matrix Inversion\n",
        "* Diagonal Matrices\n",
        "* Orthogonal Matrices\n"
      ]
    },
    {
      "cell_type": "markdown",
      "metadata": {
        "id": "2khww76J5w9n"
      },
      "source": [
        "## Segment 1: Data Structures for Algebra\n",
        "\n",
        "**Slides used to begin segment, with focus on introducing what linear algebra is, including hands-on paper and pencil exercises.**"
      ]
    },
    {
      "cell_type": "markdown",
      "metadata": {
        "id": "niG_MgK-iV6K"
      },
      "source": [
        "### What Linear Algebra Is"
      ]
    },
    {
      "cell_type": "code",
      "metadata": {
        "id": "LApX90aliab_"
      },
      "source": [
        "import numpy as np\n",
        "import matplotlib.pyplot as plt"
      ],
      "execution_count": 1,
      "outputs": []
    },
    {
      "cell_type": "code",
      "metadata": {
        "id": "E4odh9Shic1S"
      },
      "source": [
        "t = np.linspace(0, 40, 1000) # start, finish, n points"
      ],
      "execution_count": 2,
      "outputs": []
    },
    {
      "cell_type": "markdown",
      "metadata": {
        "id": "N-tYny12nIyO"
      },
      "source": [
        "Distance travelled by robber: $d = 2.5t$"
      ]
    },
    {
      "cell_type": "code",
      "metadata": {
        "id": "e_zDOxgHiezz"
      },
      "source": [
        "d_r = 2.5 * t"
      ],
      "execution_count": 3,
      "outputs": []
    },
    {
      "cell_type": "markdown",
      "metadata": {
        "id": "djVjXZy-nPaR"
      },
      "source": [
        "Distance travelled by sheriff: $d = 3(t-5)$"
      ]
    },
    {
      "cell_type": "code",
      "metadata": {
        "id": "JtaNeYSCifrI"
      },
      "source": [
        "d_s = 3 * (t-5)"
      ],
      "execution_count": 7,
      "outputs": []
    },
    {
      "cell_type": "code",
      "metadata": {
        "id": "SaaIjJSEigic",
        "colab": {
          "base_uri": "https://localhost:8080/",
          "height": 472
        },
        "outputId": "3cb1eafd-36db-40ae-ec62-cb4b401b73dd"
      },
      "source": [
        "fig, ax = plt.subplots()\n",
        "plt.title('A Bank Robber Caught')\n",
        "plt.xlabel('time (in minutes)')\n",
        "plt.ylabel('distance (in km)')\n",
        "ax.set_xlim([0, 40])\n",
        "ax.set_ylim([0, 100])\n",
        "ax.plot(t, d_r, c='green')\n",
        "ax.plot(t, d_s, c='brown')\n",
        "plt.axvline(x=30, color='purple', linestyle='--')\n",
        "_ = plt.axhline(y=75, color='purple', linestyle='--')"
      ],
      "execution_count": 8,
      "outputs": [
        {
          "output_type": "display_data",
          "data": {
            "text/plain": [
              "<Figure size 640x480 with 1 Axes>"
            ],
            "image/png": "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\n"
          },
          "metadata": {}
        }
      ]
    },
    {
      "cell_type": "markdown",
      "metadata": {
        "id": "kpwZw64EYfs6"
      },
      "source": [
        "**Return to slides here.**"
      ]
    },
    {
      "cell_type": "markdown",
      "metadata": {
        "id": "NgGMhK4B51oe"
      },
      "source": [
        "### Scalars (Rank 0 Tensors) in Base Python"
      ]
    },
    {
      "cell_type": "code",
      "metadata": {
        "id": "ZXnTHDn_EW6b",
        "colab": {
          "base_uri": "https://localhost:8080/"
        },
        "outputId": "a90be17e-8a40-41d8-80be-ce2d58682e68"
      },
      "source": [
        "x = 25\n",
        "x"
      ],
      "execution_count": 9,
      "outputs": [
        {
          "output_type": "execute_result",
          "data": {
            "text/plain": [
              "25"
            ]
          },
          "metadata": {},
          "execution_count": 9
        }
      ]
    },
    {
      "cell_type": "code",
      "metadata": {
        "id": "VF8Jam76R4KJ",
        "colab": {
          "base_uri": "https://localhost:8080/"
        },
        "outputId": "2a285e3d-ca8a-439a-813c-5947ca1a7dc0"
      },
      "source": [
        "type(x) # if we'd like more specificity (e.g., int16, uint8), we need NumPy or another numeric library"
      ],
      "execution_count": 10,
      "outputs": [
        {
          "output_type": "execute_result",
          "data": {
            "text/plain": [
              "int"
            ]
          },
          "metadata": {},
          "execution_count": 10
        }
      ]
    },
    {
      "cell_type": "code",
      "metadata": {
        "id": "ZBzYlL0mRd-P"
      },
      "source": [
        "y = 3"
      ],
      "execution_count": 11,
      "outputs": []
    },
    {
      "cell_type": "code",
      "metadata": {
        "id": "1i-hW0bcReyy",
        "colab": {
          "base_uri": "https://localhost:8080/"
        },
        "outputId": "50263270-4d45-4a90-c388-64df6038b8ff"
      },
      "source": [
        "py_sum = x + y\n",
        "py_sum"
      ],
      "execution_count": 12,
      "outputs": [
        {
          "output_type": "execute_result",
          "data": {
            "text/plain": [
              "28"
            ]
          },
          "metadata": {},
          "execution_count": 12
        }
      ]
    },
    {
      "cell_type": "code",
      "metadata": {
        "id": "CpyUxB6XRk6y",
        "colab": {
          "base_uri": "https://localhost:8080/"
        },
        "outputId": "b24c15d5-b0a3-4cc3-f9d9-1dc72aac68a7"
      },
      "source": [
        "type(py_sum)"
      ],
      "execution_count": 13,
      "outputs": [
        {
          "output_type": "execute_result",
          "data": {
            "text/plain": [
              "int"
            ]
          },
          "metadata": {},
          "execution_count": 13
        }
      ]
    },
    {
      "cell_type": "code",
      "metadata": {
        "id": "V2UiLj-JR8Ij",
        "colab": {
          "base_uri": "https://localhost:8080/"
        },
        "outputId": "160059a7-1417-4cd1-bfa9-3072b7b68018"
      },
      "source": [
        "x_float = 25.0\n",
        "float_sum = x_float + y\n",
        "float_sum"
      ],
      "execution_count": 14,
      "outputs": [
        {
          "output_type": "execute_result",
          "data": {
            "text/plain": [
              "28.0"
            ]
          },
          "metadata": {},
          "execution_count": 14
        }
      ]
    },
    {
      "cell_type": "code",
      "metadata": {
        "id": "ikOwjp6ASCaf",
        "colab": {
          "base_uri": "https://localhost:8080/"
        },
        "outputId": "ab2f4dcd-3ba8-40d3-f9dd-b3e4dcc6a052"
      },
      "source": [
        "type(float_sum)"
      ],
      "execution_count": 15,
      "outputs": [
        {
          "output_type": "execute_result",
          "data": {
            "text/plain": [
              "float"
            ]
          },
          "metadata": {},
          "execution_count": 15
        }
      ]
    },
    {
      "cell_type": "markdown",
      "metadata": {
        "id": "SgUvioyUz8T2"
      },
      "source": [
        "### Scalars in PyTorch\n",
        "\n",
        "* PyTorch and TensorFlow are the two most popular *automatic differentiation* libraries (a focus of the [*Calculus I*](https://github.com/jonkrohn/ML-foundations/blob/master/notebooks/3-calculus-i.ipynb) and [*Calculus II*](https://github.com/jonkrohn/ML-foundations/blob/master/notebooks/4-calculus-ii.ipynb) subjects in the *ML Foundations* series) in Python, itself the most popular programming language in ML.\n",
        "* PyTorch tensors are designed to be pythonic, i.e., to feel and behave like NumPy arrays.\n",
        "* The advantage of PyTorch tensors relative to NumPy arrays is that they easily be used for operations on GPU (see [here](https://pytorch.org/tutorials/beginner/examples_tensor/two_layer_net_tensor.html) for example).\n",
        "* Documentation on PyTorch tensors, including available data types, is [here](https://pytorch.org/docs/stable/tensors.html)."
      ]
    },
    {
      "cell_type": "code",
      "metadata": {
        "id": "A9Hhazt2zKeD"
      },
      "source": [
        "import torch"
      ],
      "execution_count": 16,
      "outputs": []
    },
    {
      "cell_type": "code",
      "metadata": {
        "id": "a211IRW_0-iY",
        "colab": {
          "base_uri": "https://localhost:8080/"
        },
        "outputId": "8f130f78-7d3d-4cfd-f37a-8e76cb708b5b"
      },
      "source": [
        "x_pt = torch.tensor(25) # type specification optional, e.g.: dtype=torch.float16\n",
        "x_pt"
      ],
      "execution_count": 17,
      "outputs": [
        {
          "output_type": "execute_result",
          "data": {
            "text/plain": [
              "tensor(25)"
            ]
          },
          "metadata": {},
          "execution_count": 17
        }
      ]
    },
    {
      "cell_type": "code",
      "metadata": {
        "id": "LvxzMa_HhUNB",
        "colab": {
          "base_uri": "https://localhost:8080/"
        },
        "outputId": "7d2d0594-edf1-4a22-9aa2-4e3f880cc566"
      },
      "source": [
        "x_pt.shape"
      ],
      "execution_count": 18,
      "outputs": [
        {
          "output_type": "execute_result",
          "data": {
            "text/plain": [
              "torch.Size([])"
            ]
          },
          "metadata": {},
          "execution_count": 18
        }
      ]
    },
    {
      "cell_type": "markdown",
      "metadata": {
        "id": "eUyuZXlWS8T9"
      },
      "source": [
        "### Scalars in TensorFlow (version 2.0 or later)\n",
        "\n",
        "Tensors created with a wrapper, all of which [you can read about here](https://www.tensorflow.org/guide/tensor):  \n",
        "\n",
        "* `tf.Variable`\n",
        "* `tf.constant`\n",
        "* `tf.placeholder`\n",
        "* `tf.SparseTensor`\n",
        "\n",
        "Most widely-used is `tf.Variable`, which we'll use here.\n",
        "\n",
        "As with TF tensors, in PyTorch we can similarly perform operations, and we can easily convert to and from NumPy arrays.\n",
        "\n",
        "Also, a full list of tensor data types is available [here](https://www.tensorflow.org/api_docs/python/tf/dtypes/DType)."
      ]
    },
    {
      "cell_type": "code",
      "metadata": {
        "id": "CHBYse_MEqZM"
      },
      "source": [
        "import tensorflow as tf"
      ],
      "execution_count": 19,
      "outputs": []
    },
    {
      "cell_type": "code",
      "metadata": {
        "id": "sDv92Nh-NSOU",
        "colab": {
          "base_uri": "https://localhost:8080/"
        },
        "outputId": "04aa5008-8981-4816-d3a8-08c31470a97f"
      },
      "source": [
        "x_tf = tf.Variable(25, dtype=tf.int16) # dtype is optional\n",
        "x_tf"
      ],
      "execution_count": 20,
      "outputs": [
        {
          "output_type": "execute_result",
          "data": {
            "text/plain": [
              "<tf.Variable 'Variable:0' shape=() dtype=int16, numpy=25>"
            ]
          },
          "metadata": {},
          "execution_count": 20
        }
      ]
    },
    {
      "cell_type": "code",
      "metadata": {
        "id": "EmPMBIV9RQjS",
        "colab": {
          "base_uri": "https://localhost:8080/"
        },
        "outputId": "a3c4ad84-b4d0-441a-ce8a-95dd17cfb9b8"
      },
      "source": [
        "x_tf.shape"
      ],
      "execution_count": 21,
      "outputs": [
        {
          "output_type": "execute_result",
          "data": {
            "text/plain": [
              "TensorShape([])"
            ]
          },
          "metadata": {},
          "execution_count": 21
        }
      ]
    },
    {
      "cell_type": "code",
      "metadata": {
        "id": "mEILtO9pPctO"
      },
      "source": [
        "y_tf = tf.Variable(3, dtype=tf.int16)"
      ],
      "execution_count": 22,
      "outputs": []
    },
    {
      "cell_type": "code",
      "metadata": {
        "id": "dvvWuaw6Ph_D",
        "colab": {
          "base_uri": "https://localhost:8080/"
        },
        "outputId": "c80f809c-7b04-403c-edd8-a332acec79b2"
      },
      "source": [
        "x_tf + y_tf"
      ],
      "execution_count": 23,
      "outputs": [
        {
          "output_type": "execute_result",
          "data": {
            "text/plain": [
              "<tf.Tensor: shape=(), dtype=int16, numpy=28>"
            ]
          },
          "metadata": {},
          "execution_count": 23
        }
      ]
    },
    {
      "cell_type": "code",
      "metadata": {
        "id": "JZVhRnX9RUGW",
        "colab": {
          "base_uri": "https://localhost:8080/"
        },
        "outputId": "5b33dd4d-592f-4e13-82d5-62eb3503c1e6"
      },
      "source": [
        "tf_sum = tf.add(x_tf, y_tf)\n",
        "tf_sum"
      ],
      "execution_count": 24,
      "outputs": [
        {
          "output_type": "execute_result",
          "data": {
            "text/plain": [
              "<tf.Tensor: shape=(), dtype=int16, numpy=28>"
            ]
          },
          "metadata": {},
          "execution_count": 24
        }
      ]
    },
    {
      "cell_type": "code",
      "metadata": {
        "id": "sVbMxT1Ey6Y3",
        "colab": {
          "base_uri": "https://localhost:8080/"
        },
        "outputId": "3f24896d-a44d-467a-81f4-8f888b5e74e4"
      },
      "source": [
        "tf_sum.numpy() # note that NumPy operations automatically convert tensors to NumPy arrays, and vice versa"
      ],
      "execution_count": 25,
      "outputs": [
        {
          "output_type": "execute_result",
          "data": {
            "text/plain": [
              "28"
            ]
          },
          "metadata": {},
          "execution_count": 25
        }
      ]
    },
    {
      "cell_type": "code",
      "metadata": {
        "id": "LXpv69t0y-f6",
        "colab": {
          "base_uri": "https://localhost:8080/"
        },
        "outputId": "7ec9e4f2-f435-4fd1-8e83-24bfa7bcc132"
      },
      "source": [
        "type(tf_sum.numpy())"
      ],
      "execution_count": 26,
      "outputs": [
        {
          "output_type": "execute_result",
          "data": {
            "text/plain": [
              "numpy.int16"
            ]
          },
          "metadata": {},
          "execution_count": 26
        }
      ]
    },
    {
      "cell_type": "code",
      "metadata": {
        "id": "VszuTUAg1uXk",
        "colab": {
          "base_uri": "https://localhost:8080/"
        },
        "outputId": "cf5b7af9-3f1c-4ed4-dff1-dc8459d90567"
      },
      "source": [
        "tf_float = tf.Variable(25., dtype=tf.float16)\n",
        "tf_float"
      ],
      "execution_count": null,
      "outputs": [
        {
          "output_type": "execute_result",
          "data": {
            "text/plain": [
              "<tf.Variable 'Variable:0' shape=() dtype=float16, numpy=25.0>"
            ]
          },
          "metadata": {},
          "execution_count": 24
        }
      ]
    },
    {
      "cell_type": "markdown",
      "metadata": {
        "id": "B5VRGo1H6010"
      },
      "source": [
        "**Return to slides here.**"
      ]
    },
    {
      "cell_type": "markdown",
      "metadata": {
        "id": "4CURG9Er6aZI"
      },
      "source": [
        "### Vectors (Rank 1 Tensors) in NumPy"
      ]
    },
    {
      "cell_type": "code",
      "metadata": {
        "id": "T9ME4kBr4wg0",
        "colab": {
          "base_uri": "https://localhost:8080/"
        },
        "outputId": "fe23648e-9fda-4e84-8c45-d05852642b1f"
      },
      "source": [
        "x = np.array([25, 2, 5]) # type argument is optional, e.g.: dtype=np.float16\n",
        "x"
      ],
      "execution_count": null,
      "outputs": [
        {
          "output_type": "execute_result",
          "data": {
            "text/plain": [
              "array([25,  2,  5])"
            ]
          },
          "metadata": {},
          "execution_count": 25
        }
      ]
    },
    {
      "cell_type": "code",
      "metadata": {
        "id": "ZuotxmlZL2wp",
        "colab": {
          "base_uri": "https://localhost:8080/"
        },
        "outputId": "46573b45-8ff1-4d80-a0be-11322fc7a7e6"
      },
      "source": [
        "len(x)"
      ],
      "execution_count": null,
      "outputs": [
        {
          "output_type": "execute_result",
          "data": {
            "text/plain": [
              "3"
            ]
          },
          "metadata": {},
          "execution_count": 26
        }
      ]
    },
    {
      "cell_type": "code",
      "metadata": {
        "id": "OlPYy6GOaIVy",
        "colab": {
          "base_uri": "https://localhost:8080/"
        },
        "outputId": "b9e7b1d6-c780-4fad-8737-0e7c7dfc3353"
      },
      "source": [
        "x.shape"
      ],
      "execution_count": null,
      "outputs": [
        {
          "output_type": "execute_result",
          "data": {
            "text/plain": [
              "(3,)"
            ]
          },
          "metadata": {},
          "execution_count": 27
        }
      ]
    },
    {
      "cell_type": "code",
      "metadata": {
        "id": "sWbYGwObcgtK",
        "colab": {
          "base_uri": "https://localhost:8080/"
        },
        "outputId": "489b8c9a-0a29-40e2-f294-09216be93fac"
      },
      "source": [
        "type(x)"
      ],
      "execution_count": null,
      "outputs": [
        {
          "output_type": "execute_result",
          "data": {
            "text/plain": [
              "numpy.ndarray"
            ]
          },
          "metadata": {},
          "execution_count": 28
        }
      ]
    },
    {
      "cell_type": "code",
      "metadata": {
        "id": "ME_xuvD_oTPg",
        "colab": {
          "base_uri": "https://localhost:8080/"
        },
        "outputId": "36265cc4-43b2-4510-d296-a0b7d6846979"
      },
      "source": [
        "x[0] # zero-indexed"
      ],
      "execution_count": null,
      "outputs": [
        {
          "output_type": "execute_result",
          "data": {
            "text/plain": [
              "25"
            ]
          },
          "metadata": {},
          "execution_count": 29
        }
      ]
    },
    {
      "cell_type": "code",
      "metadata": {
        "id": "hXmBHZQ-nxFw",
        "colab": {
          "base_uri": "https://localhost:8080/"
        },
        "outputId": "ddb7f5f0-a04b-437d-fda8-5d9c8503ab2e"
      },
      "source": [
        "type(x[0])"
      ],
      "execution_count": null,
      "outputs": [
        {
          "output_type": "execute_result",
          "data": {
            "text/plain": [
              "numpy.int64"
            ]
          },
          "metadata": {},
          "execution_count": 30
        }
      ]
    },
    {
      "cell_type": "markdown",
      "metadata": {
        "id": "NiEofCzYZBrQ"
      },
      "source": [
        "### Vector Transposition"
      ]
    },
    {
      "cell_type": "code",
      "metadata": {
        "id": "hxGFNDx6V95l",
        "colab": {
          "base_uri": "https://localhost:8080/"
        },
        "outputId": "c76eb8db-2df5-41d3-ef83-87df72f7a4d7"
      },
      "source": [
        "# Transposing a regular 1-D array has no effect...\n",
        "x_t = x.T\n",
        "x_t"
      ],
      "execution_count": null,
      "outputs": [
        {
          "output_type": "execute_result",
          "data": {
            "text/plain": [
              "array([25,  2,  5])"
            ]
          },
          "metadata": {},
          "execution_count": 31
        }
      ]
    },
    {
      "cell_type": "code",
      "metadata": {
        "id": "_f8E9ExDWw4p",
        "colab": {
          "base_uri": "https://localhost:8080/"
        },
        "outputId": "024104e6-7d16-49f9-e886-e1c9a08c756f"
      },
      "source": [
        "x_t.shape"
      ],
      "execution_count": null,
      "outputs": [
        {
          "output_type": "execute_result",
          "data": {
            "text/plain": [
              "(3,)"
            ]
          },
          "metadata": {},
          "execution_count": 32
        }
      ]
    },
    {
      "cell_type": "code",
      "metadata": {
        "id": "AEd8jB7YcgtT",
        "colab": {
          "base_uri": "https://localhost:8080/"
        },
        "outputId": "b5489d91-8f91-4582-e990-0d02ecdd4095"
      },
      "source": [
        "# ...but it does we use nested \"matrix-style\" brackets:\n",
        "y = np.array([[25, 2, 5]])\n",
        "y"
      ],
      "execution_count": null,
      "outputs": [
        {
          "output_type": "execute_result",
          "data": {
            "text/plain": [
              "array([[25,  2,  5]])"
            ]
          },
          "metadata": {},
          "execution_count": 33
        }
      ]
    },
    {
      "cell_type": "code",
      "metadata": {
        "id": "UHQd92oRcgtV",
        "colab": {
          "base_uri": "https://localhost:8080/"
        },
        "outputId": "19065b81-34fa-41ba-b65c-7f65efca1478"
      },
      "source": [
        "y.shape"
      ],
      "execution_count": null,
      "outputs": [
        {
          "output_type": "execute_result",
          "data": {
            "text/plain": [
              "(1, 3)"
            ]
          },
          "metadata": {},
          "execution_count": 34
        }
      ]
    },
    {
      "cell_type": "code",
      "metadata": {
        "id": "SPi1JqGEXXUc",
        "colab": {
          "base_uri": "https://localhost:8080/"
        },
        "outputId": "12f118dd-a5bd-491e-9e1f-73f4a265426c"
      },
      "source": [
        "# ...but can transpose a matrix with a dimension of length 1, which is mathematically equivalent:\n",
        "y_t = y.T\n",
        "y_t"
      ],
      "execution_count": null,
      "outputs": [
        {
          "output_type": "execute_result",
          "data": {
            "text/plain": [
              "array([[25],\n",
              "       [ 2],\n",
              "       [ 5]])"
            ]
          },
          "metadata": {},
          "execution_count": 35
        }
      ]
    },
    {
      "cell_type": "code",
      "metadata": {
        "id": "6rzUv762Yjis",
        "colab": {
          "base_uri": "https://localhost:8080/"
        },
        "outputId": "39c8296e-f074-4010-dc21-b79325a8ac3a"
      },
      "source": [
        "y_t.shape # this is a column vector as it has 3 rows and 1 column"
      ],
      "execution_count": null,
      "outputs": [
        {
          "output_type": "execute_result",
          "data": {
            "text/plain": [
              "(3, 1)"
            ]
          },
          "metadata": {},
          "execution_count": 36
        }
      ]
    },
    {
      "cell_type": "code",
      "metadata": {
        "id": "xVnQMLOrYtra",
        "colab": {
          "base_uri": "https://localhost:8080/"
        },
        "outputId": "2117f2c2-dc95-42c9-af92-507f5b1a97ec"
      },
      "source": [
        "# Column vector can be transposed back to original row vector:\n",
        "y_t.T"
      ],
      "execution_count": null,
      "outputs": [
        {
          "output_type": "execute_result",
          "data": {
            "text/plain": [
              "array([[25,  2,  5]])"
            ]
          },
          "metadata": {},
          "execution_count": 37
        }
      ]
    },
    {
      "cell_type": "code",
      "metadata": {
        "id": "QIAA2NLRZIXC",
        "colab": {
          "base_uri": "https://localhost:8080/"
        },
        "outputId": "8f77c7c5-7fe1-49ae-d4cd-dc232ef944f4"
      },
      "source": [
        "y_t.T.shape"
      ],
      "execution_count": null,
      "outputs": [
        {
          "output_type": "execute_result",
          "data": {
            "text/plain": [
              "(1, 3)"
            ]
          },
          "metadata": {},
          "execution_count": 38
        }
      ]
    },
    {
      "cell_type": "markdown",
      "metadata": {
        "id": "Voj26mSpZLuh"
      },
      "source": [
        "### Zero Vectors\n",
        "\n",
        "Have no effect if added to another vector"
      ]
    },
    {
      "cell_type": "code",
      "metadata": {
        "id": "-46AbOdkZVn_",
        "colab": {
          "base_uri": "https://localhost:8080/"
        },
        "outputId": "48e0ffe6-6c0b-40b9-ca08-1a68178da82b"
      },
      "source": [
        "z = np.zeros(3)\n",
        "z"
      ],
      "execution_count": null,
      "outputs": [
        {
          "output_type": "execute_result",
          "data": {
            "text/plain": [
              "array([0., 0., 0.])"
            ]
          },
          "metadata": {},
          "execution_count": 39
        }
      ]
    },
    {
      "cell_type": "markdown",
      "metadata": {
        "id": "c6xyYiwSnSGC"
      },
      "source": [
        "### Vectors in PyTorch and TensorFlow"
      ]
    },
    {
      "cell_type": "code",
      "metadata": {
        "id": "s2TGDeqXnitZ",
        "colab": {
          "base_uri": "https://localhost:8080/"
        },
        "outputId": "dca2930e-9dc8-4db3-bff1-7a0771b0be76"
      },
      "source": [
        "x_pt = torch.tensor([25, 2, 5])\n",
        "x_pt"
      ],
      "execution_count": null,
      "outputs": [
        {
          "output_type": "execute_result",
          "data": {
            "text/plain": [
              "tensor([25,  2,  5])"
            ]
          },
          "metadata": {},
          "execution_count": 40
        }
      ]
    },
    {
      "cell_type": "code",
      "metadata": {
        "id": "-0jbHgc5iijG",
        "scrolled": true,
        "colab": {
          "base_uri": "https://localhost:8080/"
        },
        "outputId": "6c7b8c17-b848-44d2-8ba0-da1296a2d0c4"
      },
      "source": [
        "x_tf = tf.Variable([25, 2, 5])\n",
        "x_tf"
      ],
      "execution_count": null,
      "outputs": [
        {
          "output_type": "execute_result",
          "data": {
            "text/plain": [
              "<tf.Variable 'Variable:0' shape=(3,) dtype=int32, numpy=array([25,  2,  5], dtype=int32)>"
            ]
          },
          "metadata": {},
          "execution_count": 41
        }
      ]
    },
    {
      "cell_type": "markdown",
      "metadata": {
        "id": "rTDDta1Ro4Pf"
      },
      "source": [
        "**Return to slides here.**"
      ]
    },
    {
      "cell_type": "markdown",
      "metadata": {
        "id": "8fU5qVTI6SLD"
      },
      "source": [
        "### $L^2$ Norm"
      ]
    },
    {
      "cell_type": "code",
      "metadata": {
        "id": "lLc2FbGG6SLD",
        "colab": {
          "base_uri": "https://localhost:8080/"
        },
        "outputId": "d2baf173-70e9-4f1f-f773-64803527483d"
      },
      "source": [
        "x"
      ],
      "execution_count": null,
      "outputs": [
        {
          "output_type": "execute_result",
          "data": {
            "text/plain": [
              "array([25,  2,  5])"
            ]
          },
          "metadata": {},
          "execution_count": 42
        }
      ]
    },
    {
      "cell_type": "code",
      "metadata": {
        "id": "AN43hsl86SLG",
        "colab": {
          "base_uri": "https://localhost:8080/"
        },
        "outputId": "c821c7fd-5aa7-4c77-ccee-feeb90c1722f"
      },
      "source": [
        "(25**2 + 2**2 + 5**2)**(1/2)"
      ],
      "execution_count": null,
      "outputs": [
        {
          "output_type": "execute_result",
          "data": {
            "text/plain": [
              "25.573423705088842"
            ]
          },
          "metadata": {},
          "execution_count": 43
        }
      ]
    },
    {
      "cell_type": "code",
      "metadata": {
        "id": "D9CyWo-l6SLI",
        "colab": {
          "base_uri": "https://localhost:8080/"
        },
        "outputId": "936d1404-2538-4511-9db8-c5b5806bc5e4"
      },
      "source": [
        "np.linalg.norm(x)"
      ],
      "execution_count": null,
      "outputs": [
        {
          "output_type": "execute_result",
          "data": {
            "text/plain": [
              "25.573423705088842"
            ]
          },
          "metadata": {},
          "execution_count": 44
        }
      ]
    },
    {
      "cell_type": "markdown",
      "metadata": {
        "id": "TNEMRi926SLK"
      },
      "source": [
        "So, if units in this 3-dimensional vector space are meters, then the vector $x$ has a length of 25.6m"
      ]
    },
    {
      "cell_type": "markdown",
      "metadata": {
        "id": "ugQC6k4h6SLK"
      },
      "source": [
        "**Return to slides here.**"
      ]
    },
    {
      "cell_type": "markdown",
      "metadata": {
        "id": "PwiRlMuC6SLK"
      },
      "source": [
        "### $L^1$ Norm"
      ]
    },
    {
      "cell_type": "code",
      "metadata": {
        "id": "lcYKyc5H6SLL",
        "colab": {
          "base_uri": "https://localhost:8080/"
        },
        "outputId": "905fe7dc-6b8e-4e8b-a65d-839c3564e1c5"
      },
      "source": [
        "x"
      ],
      "execution_count": null,
      "outputs": [
        {
          "output_type": "execute_result",
          "data": {
            "text/plain": [
              "array([25,  2,  5])"
            ]
          },
          "metadata": {},
          "execution_count": 45
        }
      ]
    },
    {
      "cell_type": "code",
      "metadata": {
        "id": "8jNb6nYl6SLM",
        "colab": {
          "base_uri": "https://localhost:8080/"
        },
        "outputId": "629afdb9-02c7-4f3b-ea4d-210269cffb00"
      },
      "source": [
        "np.abs(25) + np.abs(2) + np.abs(5)"
      ],
      "execution_count": null,
      "outputs": [
        {
          "output_type": "execute_result",
          "data": {
            "text/plain": [
              "32"
            ]
          },
          "metadata": {},
          "execution_count": 46
        }
      ]
    },
    {
      "cell_type": "markdown",
      "metadata": {
        "id": "WTPz0EBSAVee"
      },
      "source": [
        "**Return to slides here.**"
      ]
    },
    {
      "cell_type": "markdown",
      "metadata": {
        "id": "lQP73B916SLP"
      },
      "source": [
        "### Squared $L^2$ Norm"
      ]
    },
    {
      "cell_type": "code",
      "metadata": {
        "id": "Qv1ouJ8r6SLP",
        "colab": {
          "base_uri": "https://localhost:8080/"
        },
        "outputId": "6cb6eebf-e88a-4b41-aa9f-ac82a78f99e6"
      },
      "source": [
        "x"
      ],
      "execution_count": null,
      "outputs": [
        {
          "output_type": "execute_result",
          "data": {
            "text/plain": [
              "array([25,  2,  5])"
            ]
          },
          "metadata": {},
          "execution_count": 47
        }
      ]
    },
    {
      "cell_type": "code",
      "metadata": {
        "id": "eG3WSB5R6SLT",
        "colab": {
          "base_uri": "https://localhost:8080/"
        },
        "outputId": "b1971235-6180-4f41-f4fb-d539583f5748"
      },
      "source": [
        "(25**2 + 2**2 + 5**2)"
      ],
      "execution_count": null,
      "outputs": [
        {
          "output_type": "execute_result",
          "data": {
            "text/plain": [
              "654"
            ]
          },
          "metadata": {},
          "execution_count": 48
        }
      ]
    },
    {
      "cell_type": "code",
      "metadata": {
        "id": "bXwzSudS6SLV",
        "colab": {
          "base_uri": "https://localhost:8080/"
        },
        "outputId": "264e1226-1066-4b64-db16-0070ba65b245"
      },
      "source": [
        "# we'll cover tensor multiplication more soon but to prove point quickly:\n",
        "np.dot(x, x)"
      ],
      "execution_count": null,
      "outputs": [
        {
          "output_type": "execute_result",
          "data": {
            "text/plain": [
              "654"
            ]
          },
          "metadata": {},
          "execution_count": 49
        }
      ]
    },
    {
      "cell_type": "markdown",
      "metadata": {
        "id": "q3CIH9ba6SLX"
      },
      "source": [
        "**Return to slides here.**"
      ]
    },
    {
      "cell_type": "markdown",
      "metadata": {
        "id": "BHWxVPFC6SLX"
      },
      "source": [
        "### Max Norm"
      ]
    },
    {
      "cell_type": "code",
      "metadata": {
        "id": "vO-zfvDG6SLX",
        "colab": {
          "base_uri": "https://localhost:8080/"
        },
        "outputId": "e3c17461-b374-47ed-e95b-f7ef61f1bfca"
      },
      "source": [
        "x"
      ],
      "execution_count": null,
      "outputs": [
        {
          "output_type": "execute_result",
          "data": {
            "text/plain": [
              "array([25,  2,  5])"
            ]
          },
          "metadata": {},
          "execution_count": 50
        }
      ]
    },
    {
      "cell_type": "code",
      "metadata": {
        "id": "vXXLgbyW6SLZ",
        "colab": {
          "base_uri": "https://localhost:8080/"
        },
        "outputId": "eae3e34d-ae6f-46f0-bb0b-a518792c2cb7"
      },
      "source": [
        "np.max([np.abs(25), np.abs(2), np.abs(5)])"
      ],
      "execution_count": null,
      "outputs": [
        {
          "output_type": "execute_result",
          "data": {
            "text/plain": [
              "25"
            ]
          },
          "metadata": {},
          "execution_count": 51
        }
      ]
    },
    {
      "cell_type": "markdown",
      "metadata": {
        "id": "3MVTsXA8nNR0"
      },
      "source": [
        "**Return to slides here.**"
      ]
    },
    {
      "cell_type": "markdown",
      "metadata": {
        "id": "JzKlIpYZcgt9"
      },
      "source": [
        "### Orthogonal Vectors"
      ]
    },
    {
      "cell_type": "code",
      "metadata": {
        "id": "4jHg9La-cgt9",
        "colab": {
          "base_uri": "https://localhost:8080/"
        },
        "outputId": "ece7c34c-c185-44bf-c5cd-218ab3e80c87"
      },
      "source": [
        "i = np.array([1, 0])\n",
        "i"
      ],
      "execution_count": null,
      "outputs": [
        {
          "output_type": "execute_result",
          "data": {
            "text/plain": [
              "array([1, 0])"
            ]
          },
          "metadata": {},
          "execution_count": 52
        }
      ]
    },
    {
      "cell_type": "code",
      "metadata": {
        "id": "3FyLhPK3cguA",
        "colab": {
          "base_uri": "https://localhost:8080/"
        },
        "outputId": "580fea73-ce7a-406e-c9b5-70ebe1f26a79"
      },
      "source": [
        "j = np.array([0, 1])\n",
        "j"
      ],
      "execution_count": null,
      "outputs": [
        {
          "output_type": "execute_result",
          "data": {
            "text/plain": [
              "array([0, 1])"
            ]
          },
          "metadata": {},
          "execution_count": 53
        }
      ]
    },
    {
      "cell_type": "code",
      "metadata": {
        "id": "7eQtKhaDcguC",
        "scrolled": false,
        "colab": {
          "base_uri": "https://localhost:8080/"
        },
        "outputId": "4422976d-b8de-4526-88ba-be0e7aa43754"
      },
      "source": [
        "np.dot(i, j) # detail on the dot operation coming up..."
      ],
      "execution_count": null,
      "outputs": [
        {
          "output_type": "execute_result",
          "data": {
            "text/plain": [
              "0"
            ]
          },
          "metadata": {},
          "execution_count": 54
        }
      ]
    },
    {
      "cell_type": "markdown",
      "metadata": {
        "id": "C6eMVPu4nNR7"
      },
      "source": [
        "**Return to slides here.**"
      ]
    },
    {
      "cell_type": "markdown",
      "metadata": {
        "id": "mK3AZH53o8Br"
      },
      "source": [
        "### Matrices (Rank 2 Tensors) in NumPy"
      ]
    },
    {
      "cell_type": "code",
      "metadata": {
        "id": "stk57cmaESW1",
        "colab": {
          "base_uri": "https://localhost:8080/"
        },
        "outputId": "3c147c9a-7d8a-4b1b-aebd-9656a7c1f368"
      },
      "source": [
        "# Use array() with nested brackets:\n",
        "X = np.array([[25, 2], [5, 26], [3, 7]])\n",
        "X"
      ],
      "execution_count": null,
      "outputs": [
        {
          "output_type": "execute_result",
          "data": {
            "text/plain": [
              "array([[25,  2],\n",
              "       [ 5, 26],\n",
              "       [ 3,  7]])"
            ]
          },
          "metadata": {},
          "execution_count": 55
        }
      ]
    },
    {
      "cell_type": "code",
      "metadata": {
        "id": "IhDL4L8S6SLc",
        "colab": {
          "base_uri": "https://localhost:8080/"
        },
        "outputId": "599b1ac9-bae5-4bd0-ca42-2e437b22dcbf"
      },
      "source": [
        "X.shape"
      ],
      "execution_count": null,
      "outputs": [
        {
          "output_type": "execute_result",
          "data": {
            "text/plain": [
              "(3, 2)"
            ]
          },
          "metadata": {},
          "execution_count": 56
        }
      ]
    },
    {
      "cell_type": "code",
      "metadata": {
        "id": "q3oyaAK36SLe",
        "colab": {
          "base_uri": "https://localhost:8080/"
        },
        "outputId": "b12026d0-5614-4261-cdaa-15e06d33289f"
      },
      "source": [
        "X.size"
      ],
      "execution_count": null,
      "outputs": [
        {
          "output_type": "execute_result",
          "data": {
            "text/plain": [
              "6"
            ]
          },
          "metadata": {},
          "execution_count": 57
        }
      ]
    },
    {
      "cell_type": "code",
      "metadata": {
        "id": "YN9CHzja6SLg",
        "colab": {
          "base_uri": "https://localhost:8080/"
        },
        "outputId": "fd31c5a0-75ea-4274-9d5e-43e07464edbe"
      },
      "source": [
        "# Select left column of matrix X (zero-indexed)\n",
        "X[:,0]"
      ],
      "execution_count": null,
      "outputs": [
        {
          "output_type": "execute_result",
          "data": {
            "text/plain": [
              "array([25,  5,  3])"
            ]
          },
          "metadata": {},
          "execution_count": 58
        }
      ]
    },
    {
      "cell_type": "code",
      "metadata": {
        "id": "ih7nh4qC6SLi",
        "colab": {
          "base_uri": "https://localhost:8080/"
        },
        "outputId": "30cd3a8b-0daa-4137-e6d6-0464eb263353"
      },
      "source": [
        "# Select middle row of matrix X:\n",
        "X[1,:]"
      ],
      "execution_count": null,
      "outputs": [
        {
          "output_type": "execute_result",
          "data": {
            "text/plain": [
              "array([ 5, 26])"
            ]
          },
          "metadata": {},
          "execution_count": 59
        }
      ]
    },
    {
      "cell_type": "code",
      "metadata": {
        "id": "pg7numxP6SLl",
        "colab": {
          "base_uri": "https://localhost:8080/"
        },
        "outputId": "83d7da30-ec2a-448a-f3d0-c6a87736b5df"
      },
      "source": [
        "# Another slicing-by-index example:\n",
        "X[0:2, 0:2]"
      ],
      "execution_count": null,
      "outputs": [
        {
          "output_type": "execute_result",
          "data": {
            "text/plain": [
              "array([[25,  2],\n",
              "       [ 5, 26]])"
            ]
          },
          "metadata": {},
          "execution_count": 60
        }
      ]
    },
    {
      "cell_type": "markdown",
      "metadata": {
        "id": "HGEfZiBb6SLt"
      },
      "source": [
        "### Matrices in PyTorch"
      ]
    },
    {
      "cell_type": "code",
      "metadata": {
        "id": "-bibT9ye6SLt",
        "colab": {
          "base_uri": "https://localhost:8080/"
        },
        "outputId": "c0b079b1-6fa6-48c5-85cd-2713dc27d8d6"
      },
      "source": [
        "X_pt = torch.tensor([[25, 2], [5, 26], [3, 7]])\n",
        "X_pt"
      ],
      "execution_count": null,
      "outputs": [
        {
          "output_type": "execute_result",
          "data": {
            "text/plain": [
              "tensor([[25,  2],\n",
              "        [ 5, 26],\n",
              "        [ 3,  7]])"
            ]
          },
          "metadata": {},
          "execution_count": 61
        }
      ]
    },
    {
      "cell_type": "code",
      "metadata": {
        "id": "TBPu1L7P6SLv",
        "colab": {
          "base_uri": "https://localhost:8080/"
        },
        "outputId": "7f0dcc6a-237e-409e-f6c2-e2bb267208be"
      },
      "source": [
        "X_pt.shape # pythonic relative to TensorFlow"
      ],
      "execution_count": null,
      "outputs": [
        {
          "output_type": "execute_result",
          "data": {
            "text/plain": [
              "torch.Size([3, 2])"
            ]
          },
          "metadata": {},
          "execution_count": 62
        }
      ]
    },
    {
      "cell_type": "code",
      "metadata": {
        "id": "4mTj56M16SLw",
        "colab": {
          "base_uri": "https://localhost:8080/"
        },
        "outputId": "1b03c6e8-10ce-40d5-97e0-357936b1c510"
      },
      "source": [
        "X_pt[1,:] # N.B.: Python is zero-indexed; written algebra is one-indexed"
      ],
      "execution_count": null,
      "outputs": [
        {
          "output_type": "execute_result",
          "data": {
            "text/plain": [
              "tensor([ 5, 26])"
            ]
          },
          "metadata": {},
          "execution_count": 63
        }
      ]
    },
    {
      "cell_type": "markdown",
      "metadata": {
        "id": "E026fQlD6SLn"
      },
      "source": [
        "### Matrices in TensorFlow"
      ]
    },
    {
      "cell_type": "code",
      "metadata": {
        "id": "1gtGH6oA6SLn",
        "colab": {
          "base_uri": "https://localhost:8080/"
        },
        "outputId": "c0ce4bd3-5e6d-48f4-d2f6-6a89fb2be5fa"
      },
      "source": [
        "X_tf = tf.Variable([[25, 2], [5, 26], [3, 7]])\n",
        "X_tf"
      ],
      "execution_count": null,
      "outputs": [
        {
          "output_type": "execute_result",
          "data": {
            "text/plain": [
              "<tf.Variable 'Variable:0' shape=(3, 2) dtype=int32, numpy=\n",
              "array([[25,  2],\n",
              "       [ 5, 26],\n",
              "       [ 3,  7]], dtype=int32)>"
            ]
          },
          "metadata": {},
          "execution_count": 64
        }
      ]
    },
    {
      "cell_type": "code",
      "metadata": {
        "id": "4CV_KiTP6SLp",
        "colab": {
          "base_uri": "https://localhost:8080/"
        },
        "outputId": "aa1c1260-ad22-47df-ade8-acb92b37a406"
      },
      "source": [
        "tf.rank(X_tf)"
      ],
      "execution_count": null,
      "outputs": [
        {
          "output_type": "execute_result",
          "data": {
            "text/plain": [
              "<tf.Tensor: shape=(), dtype=int32, numpy=2>"
            ]
          },
          "metadata": {},
          "execution_count": 65
        }
      ]
    },
    {
      "cell_type": "code",
      "metadata": {
        "id": "vUsce8tC6SLq",
        "colab": {
          "base_uri": "https://localhost:8080/"
        },
        "outputId": "6a67de12-22c8-45be-f757-2abc7a07e56e"
      },
      "source": [
        "tf.shape(X_tf)"
      ],
      "execution_count": null,
      "outputs": [
        {
          "output_type": "execute_result",
          "data": {
            "text/plain": [
              "<tf.Tensor: shape=(2,), dtype=int32, numpy=array([3, 2], dtype=int32)>"
            ]
          },
          "metadata": {},
          "execution_count": 66
        }
      ]
    },
    {
      "cell_type": "code",
      "metadata": {
        "id": "QNpfvNPj6SLr",
        "colab": {
          "base_uri": "https://localhost:8080/"
        },
        "outputId": "af5fc194-5874-4894-dfc9-0d8a11087bcf"
      },
      "source": [
        "X_tf[1,:]"
      ],
      "execution_count": null,
      "outputs": [
        {
          "output_type": "execute_result",
          "data": {
            "text/plain": [
              "<tf.Tensor: shape=(2,), dtype=int32, numpy=array([ 5, 26], dtype=int32)>"
            ]
          },
          "metadata": {},
          "execution_count": 67
        }
      ]
    },
    {
      "cell_type": "markdown",
      "metadata": {
        "id": "CodS4evY6SLy"
      },
      "source": [
        "**Return to slides here.**"
      ]
    },
    {
      "cell_type": "markdown",
      "metadata": {
        "id": "cMpfujF_6SLy"
      },
      "source": [
        "### Higher-Rank Tensors\n",
        "\n",
        "As an example, rank 4 tensors are common for images, where each dimension corresponds to:\n",
        "\n",
        "1. Number of images in training batch, e.g., 32\n",
        "2. Image height in pixels, e.g., 28 for [MNIST digits](http://yann.lecun.com/exdb/mnist/)\n",
        "3. Image width in pixels, e.g., 28\n",
        "4. Number of color channels, e.g., 3 for full-color images (RGB)"
      ]
    },
    {
      "cell_type": "code",
      "metadata": {
        "id": "KSZlICRR6SL1"
      },
      "source": [
        "images_pt = torch.zeros([32, 28, 28, 3])"
      ],
      "execution_count": null,
      "outputs": []
    },
    {
      "cell_type": "code",
      "metadata": {
        "id": "6Dqj0vmh6SL2"
      },
      "source": [
        "# images_pt"
      ],
      "execution_count": null,
      "outputs": []
    },
    {
      "cell_type": "code",
      "metadata": {
        "id": "7TASTVD96SLy"
      },
      "source": [
        "images_tf = tf.zeros([32, 28, 28, 3])"
      ],
      "execution_count": null,
      "outputs": []
    },
    {
      "cell_type": "code",
      "metadata": {
        "id": "ftOliyru6SL0"
      },
      "source": [
        "# images_tf"
      ],
      "execution_count": null,
      "outputs": []
    },
    {
      "cell_type": "markdown",
      "metadata": {
        "id": "O3sgkdXZ6SL3"
      },
      "source": [
        "**Return to slides here.**"
      ]
    },
    {
      "cell_type": "markdown",
      "metadata": {
        "id": "lmG3LEZK6SL4"
      },
      "source": [
        "## Segment 2: Common Tensor Operations"
      ]
    },
    {
      "cell_type": "markdown",
      "metadata": {
        "id": "iSHGMCxd6SL4"
      },
      "source": [
        "### Tensor Transposition"
      ]
    },
    {
      "cell_type": "code",
      "metadata": {
        "id": "1YN1narR6SL4",
        "colab": {
          "base_uri": "https://localhost:8080/"
        },
        "outputId": "9d2f2223-2e97-4066-e774-b7b2990a4387"
      },
      "source": [
        "X"
      ],
      "execution_count": null,
      "outputs": [
        {
          "output_type": "execute_result",
          "data": {
            "text/plain": [
              "array([[25,  2],\n",
              "       [ 5, 26],\n",
              "       [ 3,  7]])"
            ]
          },
          "metadata": {},
          "execution_count": 72
        }
      ]
    },
    {
      "cell_type": "code",
      "metadata": {
        "id": "5hf3M_NL6SL5",
        "colab": {
          "base_uri": "https://localhost:8080/"
        },
        "outputId": "a1e37e11-2dd8-47aa-e6fc-d8f41fc9c94f"
      },
      "source": [
        "X.T"
      ],
      "execution_count": null,
      "outputs": [
        {
          "output_type": "execute_result",
          "data": {
            "text/plain": [
              "array([[25,  5,  3],\n",
              "       [ 2, 26,  7]])"
            ]
          },
          "metadata": {},
          "execution_count": 73
        }
      ]
    },
    {
      "cell_type": "code",
      "metadata": {
        "id": "vyBFN_4g6SL9",
        "colab": {
          "base_uri": "https://localhost:8080/"
        },
        "outputId": "18d89c80-72b3-4d8f-a343-5319478b103b"
      },
      "source": [
        "X_pt.T"
      ],
      "execution_count": null,
      "outputs": [
        {
          "output_type": "execute_result",
          "data": {
            "text/plain": [
              "tensor([[25,  5,  3],\n",
              "        [ 2, 26,  7]])"
            ]
          },
          "metadata": {},
          "execution_count": 74
        }
      ]
    },
    {
      "cell_type": "code",
      "metadata": {
        "id": "K2DuDJc_6SL6",
        "colab": {
          "base_uri": "https://localhost:8080/"
        },
        "outputId": "fe0b51cb-89c0-47fd-eeef-c99ef54e8b72"
      },
      "source": [
        "tf.transpose(X_tf) # less Pythonic"
      ],
      "execution_count": null,
      "outputs": [
        {
          "output_type": "execute_result",
          "data": {
            "text/plain": [
              "<tf.Tensor: shape=(2, 3), dtype=int32, numpy=\n",
              "array([[25,  5,  3],\n",
              "       [ 2, 26,  7]], dtype=int32)>"
            ]
          },
          "metadata": {},
          "execution_count": 75
        }
      ]
    },
    {
      "cell_type": "markdown",
      "metadata": {
        "id": "Hp9P1jx76SL_"
      },
      "source": [
        "### Basic Arithmetical Properties"
      ]
    },
    {
      "cell_type": "markdown",
      "metadata": {
        "id": "WxaImEUc6SMA"
      },
      "source": [
        "Adding or multiplying with scalar applies operation to all elements and tensor shape is retained:"
      ]
    },
    {
      "cell_type": "code",
      "metadata": {
        "id": "yhXGETii6SMA",
        "colab": {
          "base_uri": "https://localhost:8080/"
        },
        "outputId": "3b84b86c-40e4-4a9d-ba98-29400df1e3b4"
      },
      "source": [
        "X*2"
      ],
      "execution_count": null,
      "outputs": [
        {
          "output_type": "execute_result",
          "data": {
            "text/plain": [
              "array([[50,  4],\n",
              "       [10, 52],\n",
              "       [ 6, 14]])"
            ]
          },
          "metadata": {},
          "execution_count": 76
        }
      ]
    },
    {
      "cell_type": "code",
      "metadata": {
        "id": "KnPULtDO6SMC",
        "colab": {
          "base_uri": "https://localhost:8080/"
        },
        "outputId": "7799494b-fdd7-40a9-a25d-6fae2c3dafba"
      },
      "source": [
        "X+2"
      ],
      "execution_count": null,
      "outputs": [
        {
          "output_type": "execute_result",
          "data": {
            "text/plain": [
              "array([[27,  4],\n",
              "       [ 7, 28],\n",
              "       [ 5,  9]])"
            ]
          },
          "metadata": {},
          "execution_count": 77
        }
      ]
    },
    {
      "cell_type": "code",
      "metadata": {
        "id": "MkfC0Gsb6SMD",
        "colab": {
          "base_uri": "https://localhost:8080/"
        },
        "outputId": "729eef68-a48e-45d9-e91f-e07e976c7dc2"
      },
      "source": [
        "X*2+2"
      ],
      "execution_count": null,
      "outputs": [
        {
          "output_type": "execute_result",
          "data": {
            "text/plain": [
              "array([[52,  6],\n",
              "       [12, 54],\n",
              "       [ 8, 16]])"
            ]
          },
          "metadata": {},
          "execution_count": 78
        }
      ]
    },
    {
      "cell_type": "code",
      "metadata": {
        "id": "04bIDpGj6SMH",
        "colab": {
          "base_uri": "https://localhost:8080/"
        },
        "outputId": "4a021c90-7e73-4939-eac7-e22f7a52135e"
      },
      "source": [
        "X_pt*2+2 # Python operators are overloaded; could alternatively use torch.mul() or torch.add()"
      ],
      "execution_count": null,
      "outputs": [
        {
          "output_type": "execute_result",
          "data": {
            "text/plain": [
              "tensor([[52,  6],\n",
              "        [12, 54],\n",
              "        [ 8, 16]])"
            ]
          },
          "metadata": {},
          "execution_count": 79
        }
      ]
    },
    {
      "cell_type": "code",
      "metadata": {
        "id": "2oRBSmRL6SMI",
        "colab": {
          "base_uri": "https://localhost:8080/"
        },
        "outputId": "5626b6c5-f89b-400f-fb19-2b550056065f"
      },
      "source": [
        "torch.add(torch.mul(X_pt, 2), 2)"
      ],
      "execution_count": null,
      "outputs": [
        {
          "output_type": "execute_result",
          "data": {
            "text/plain": [
              "tensor([[52,  6],\n",
              "        [12, 54],\n",
              "        [ 8, 16]])"
            ]
          },
          "metadata": {},
          "execution_count": 80
        }
      ]
    },
    {
      "cell_type": "code",
      "metadata": {
        "id": "OMSb9Otd6SMF",
        "colab": {
          "base_uri": "https://localhost:8080/"
        },
        "outputId": "ffac929e-7e5c-44a6-f792-9add7acc3ddc"
      },
      "source": [
        "X_tf*2+2 # Operators likewise overloaded; could equally use tf.multiply() tf.add()"
      ],
      "execution_count": null,
      "outputs": [
        {
          "output_type": "execute_result",
          "data": {
            "text/plain": [
              "<tf.Tensor: shape=(3, 2), dtype=int32, numpy=\n",
              "array([[52,  6],\n",
              "       [12, 54],\n",
              "       [ 8, 16]], dtype=int32)>"
            ]
          },
          "metadata": {},
          "execution_count": 81
        }
      ]
    },
    {
      "cell_type": "code",
      "metadata": {
        "id": "5ya2xZ4u6SMG",
        "colab": {
          "base_uri": "https://localhost:8080/"
        },
        "outputId": "2b473b86-0a90-414d-9e5b-d19752d64cc9"
      },
      "source": [
        "tf.add(tf.multiply(X_tf, 2), 2)"
      ],
      "execution_count": null,
      "outputs": [
        {
          "output_type": "execute_result",
          "data": {
            "text/plain": [
              "<tf.Tensor: shape=(3, 2), dtype=int32, numpy=\n",
              "array([[52,  6],\n",
              "       [12, 54],\n",
              "       [ 8, 16]], dtype=int32)>"
            ]
          },
          "metadata": {},
          "execution_count": 82
        }
      ]
    },
    {
      "cell_type": "markdown",
      "metadata": {
        "id": "wt8Ls4076SMK"
      },
      "source": [
        "If two tensors have the same size, operations are often by default applied element-wise. This is **not matrix multiplication**, which we'll cover later, but is rather called the **Hadamard product** or simply the **element-wise product**.\n",
        "\n",
        "The mathematical notation is $A \\odot X$"
      ]
    },
    {
      "cell_type": "code",
      "metadata": {
        "id": "KUMyU1t46SMK",
        "colab": {
          "base_uri": "https://localhost:8080/"
        },
        "outputId": "1ccfbb86-871e-4a8a-cc4c-d5f332418d94"
      },
      "source": [
        "X"
      ],
      "execution_count": null,
      "outputs": [
        {
          "output_type": "execute_result",
          "data": {
            "text/plain": [
              "array([[25,  2],\n",
              "       [ 5, 26],\n",
              "       [ 3,  7]])"
            ]
          },
          "metadata": {},
          "execution_count": 83
        }
      ]
    },
    {
      "cell_type": "code",
      "metadata": {
        "id": "UNIbp0P36SML",
        "colab": {
          "base_uri": "https://localhost:8080/"
        },
        "outputId": "ac9a00b6-fc5b-46ed-b58f-a194efe0a9e2"
      },
      "source": [
        "A = X+2\n",
        "A"
      ],
      "execution_count": null,
      "outputs": [
        {
          "output_type": "execute_result",
          "data": {
            "text/plain": [
              "array([[27,  4],\n",
              "       [ 7, 28],\n",
              "       [ 5,  9]])"
            ]
          },
          "metadata": {},
          "execution_count": 84
        }
      ]
    },
    {
      "cell_type": "code",
      "metadata": {
        "id": "HE9xPWPdcgu4",
        "colab": {
          "base_uri": "https://localhost:8080/"
        },
        "outputId": "0e7fb59b-eabb-4099-9997-6a0884aa1fde"
      },
      "source": [
        "A + X"
      ],
      "execution_count": null,
      "outputs": [
        {
          "output_type": "execute_result",
          "data": {
            "text/plain": [
              "array([[52,  6],\n",
              "       [12, 54],\n",
              "       [ 8, 16]])"
            ]
          },
          "metadata": {},
          "execution_count": 85
        }
      ]
    },
    {
      "cell_type": "code",
      "metadata": {
        "id": "xKyCwGia6SMP",
        "colab": {
          "base_uri": "https://localhost:8080/"
        },
        "outputId": "b26a192f-6edf-4c4e-d7e3-1010ab17a565"
      },
      "source": [
        "A * X"
      ],
      "execution_count": null,
      "outputs": [
        {
          "output_type": "execute_result",
          "data": {
            "text/plain": [
              "array([[675,   8],\n",
              "       [ 35, 728],\n",
              "       [ 15,  63]])"
            ]
          },
          "metadata": {},
          "execution_count": 86
        }
      ]
    },
    {
      "cell_type": "code",
      "metadata": {
        "id": "B5jXGIBp6SMT"
      },
      "source": [
        "A_pt = X_pt + 2"
      ],
      "execution_count": null,
      "outputs": []
    },
    {
      "cell_type": "code",
      "metadata": {
        "id": "A7k6yxu36SMU",
        "colab": {
          "base_uri": "https://localhost:8080/"
        },
        "outputId": "a5057174-9c44-4234-8db6-0cc296cc67dd"
      },
      "source": [
        "A_pt + X_pt"
      ],
      "execution_count": null,
      "outputs": [
        {
          "output_type": "execute_result",
          "data": {
            "text/plain": [
              "tensor([[52,  6],\n",
              "        [12, 54],\n",
              "        [ 8, 16]])"
            ]
          },
          "metadata": {},
          "execution_count": 88
        }
      ]
    },
    {
      "cell_type": "code",
      "metadata": {
        "id": "r8vOul0m6SMW",
        "colab": {
          "base_uri": "https://localhost:8080/"
        },
        "outputId": "828619be-624e-4924-aa95-c9e314f48fe8"
      },
      "source": [
        "A_pt * X_pt"
      ],
      "execution_count": null,
      "outputs": [
        {
          "output_type": "execute_result",
          "data": {
            "text/plain": [
              "tensor([[675,   8],\n",
              "        [ 35, 728],\n",
              "        [ 15,  63]])"
            ]
          },
          "metadata": {},
          "execution_count": 89
        }
      ]
    },
    {
      "cell_type": "code",
      "metadata": {
        "id": "rQcBMSb76SMQ"
      },
      "source": [
        "A_tf = X_tf + 2"
      ],
      "execution_count": null,
      "outputs": []
    },
    {
      "cell_type": "code",
      "metadata": {
        "id": "x6s1wtNj6SMR",
        "colab": {
          "base_uri": "https://localhost:8080/"
        },
        "outputId": "8904d6bb-ba2f-4a8d-eed3-fa97ab5f3b48"
      },
      "source": [
        "A_tf + X_tf"
      ],
      "execution_count": null,
      "outputs": [
        {
          "output_type": "execute_result",
          "data": {
            "text/plain": [
              "<tf.Tensor: shape=(3, 2), dtype=int32, numpy=\n",
              "array([[52,  6],\n",
              "       [12, 54],\n",
              "       [ 8, 16]], dtype=int32)>"
            ]
          },
          "metadata": {},
          "execution_count": 91
        }
      ]
    },
    {
      "cell_type": "code",
      "metadata": {
        "id": "J1D7--296SMS",
        "colab": {
          "base_uri": "https://localhost:8080/"
        },
        "outputId": "da919529-d302-4f0f-c4df-3379722d20c2"
      },
      "source": [
        "A_tf * X_tf"
      ],
      "execution_count": null,
      "outputs": [
        {
          "output_type": "execute_result",
          "data": {
            "text/plain": [
              "<tf.Tensor: shape=(3, 2), dtype=int32, numpy=\n",
              "array([[675,   8],\n",
              "       [ 35, 728],\n",
              "       [ 15,  63]], dtype=int32)>"
            ]
          },
          "metadata": {},
          "execution_count": 92
        }
      ]
    },
    {
      "cell_type": "markdown",
      "metadata": {
        "id": "FE5f-FEq6SMY"
      },
      "source": [
        "### Reduction"
      ]
    },
    {
      "cell_type": "markdown",
      "metadata": {
        "id": "WPJ9FVQF6SMY"
      },
      "source": [
        "Calculating the sum across all elements of a tensor is a common operation. For example:\n",
        "\n",
        "* For vector ***x*** of length *n*, we calculate $\\sum_{i=1}^{n} x_i$\n",
        "* For matrix ***X*** with *m* by *n* dimensions, we calculate $\\sum_{i=1}^{m} \\sum_{j=1}^{n} X_{i,j}$"
      ]
    },
    {
      "cell_type": "code",
      "metadata": {
        "id": "rXi2stvz6SMZ",
        "colab": {
          "base_uri": "https://localhost:8080/"
        },
        "outputId": "7ea95647-da4e-4293-c668-13d3bad8e1d0"
      },
      "source": [
        "X"
      ],
      "execution_count": null,
      "outputs": [
        {
          "output_type": "execute_result",
          "data": {
            "text/plain": [
              "array([[25,  2],\n",
              "       [ 5, 26],\n",
              "       [ 3,  7]])"
            ]
          },
          "metadata": {},
          "execution_count": 93
        }
      ]
    },
    {
      "cell_type": "code",
      "metadata": {
        "id": "W9FKaJbf6SMZ",
        "colab": {
          "base_uri": "https://localhost:8080/"
        },
        "outputId": "01308bf7-b99e-44cd-cc93-76d504affaf7"
      },
      "source": [
        "X.sum()"
      ],
      "execution_count": null,
      "outputs": [
        {
          "output_type": "execute_result",
          "data": {
            "text/plain": [
              "68"
            ]
          },
          "metadata": {},
          "execution_count": 94
        }
      ]
    },
    {
      "cell_type": "code",
      "metadata": {
        "id": "3y9aw7t66SMc",
        "colab": {
          "base_uri": "https://localhost:8080/"
        },
        "outputId": "234c1149-b78d-4d2d-9724-b25434e20760"
      },
      "source": [
        "torch.sum(X_pt)"
      ],
      "execution_count": null,
      "outputs": [
        {
          "output_type": "execute_result",
          "data": {
            "text/plain": [
              "tensor(68)"
            ]
          },
          "metadata": {},
          "execution_count": 95
        }
      ]
    },
    {
      "cell_type": "code",
      "metadata": {
        "id": "wcjRtFml6SMb",
        "colab": {
          "base_uri": "https://localhost:8080/"
        },
        "outputId": "c1b1f84d-83b0-4c45-ccd2-b312f6851305"
      },
      "source": [
        "tf.reduce_sum(X_tf)"
      ],
      "execution_count": null,
      "outputs": [
        {
          "output_type": "execute_result",
          "data": {
            "text/plain": [
              "<tf.Tensor: shape=(), dtype=int32, numpy=68>"
            ]
          },
          "metadata": {},
          "execution_count": 96
        }
      ]
    },
    {
      "cell_type": "code",
      "metadata": {
        "id": "awjH9bOz6SMc",
        "colab": {
          "base_uri": "https://localhost:8080/"
        },
        "outputId": "12d3fb04-b017-413c-cb8a-72c9795b9fa4"
      },
      "source": [
        "# Can also be done along one specific axis alone, e.g.:\n",
        "X.sum(axis=0) # summing over all rows (i.e., along columns)"
      ],
      "execution_count": null,
      "outputs": [
        {
          "output_type": "execute_result",
          "data": {
            "text/plain": [
              "array([33, 35])"
            ]
          },
          "metadata": {},
          "execution_count": 97
        }
      ]
    },
    {
      "cell_type": "code",
      "metadata": {
        "id": "n2SASjsn6SMd",
        "colab": {
          "base_uri": "https://localhost:8080/"
        },
        "outputId": "ae990ba3-eca0-4ed6-dcbf-bc929e7f0c20"
      },
      "source": [
        "X.sum(axis=1) # summing over all columns (i.e., along rows)"
      ],
      "execution_count": null,
      "outputs": [
        {
          "output_type": "execute_result",
          "data": {
            "text/plain": [
              "array([27, 31, 10])"
            ]
          },
          "metadata": {},
          "execution_count": 98
        }
      ]
    },
    {
      "cell_type": "code",
      "metadata": {
        "id": "uVnSxvSJ6SMh",
        "colab": {
          "base_uri": "https://localhost:8080/"
        },
        "outputId": "396683c4-e825-4287-b5d2-e97a8cef5a9f"
      },
      "source": [
        "torch.sum(X_pt, 0)"
      ],
      "execution_count": null,
      "outputs": [
        {
          "output_type": "execute_result",
          "data": {
            "text/plain": [
              "tensor([33, 35])"
            ]
          },
          "metadata": {},
          "execution_count": 99
        }
      ]
    },
    {
      "cell_type": "code",
      "metadata": {
        "id": "IO8drxz36SMe",
        "colab": {
          "base_uri": "https://localhost:8080/"
        },
        "outputId": "0a0f18a6-d220-4ecb-94a1-68f1978920f7"
      },
      "source": [
        "tf.reduce_sum(X_tf, 1)"
      ],
      "execution_count": null,
      "outputs": [
        {
          "output_type": "execute_result",
          "data": {
            "text/plain": [
              "<tf.Tensor: shape=(3,), dtype=int32, numpy=array([27, 31, 10], dtype=int32)>"
            ]
          },
          "metadata": {},
          "execution_count": 100
        }
      ]
    },
    {
      "cell_type": "markdown",
      "metadata": {
        "id": "gdAe8S4A6SMj"
      },
      "source": [
        "Many other operations can be applied with reduction along all or a selection of axes, e.g.:\n",
        "\n",
        "* maximum\n",
        "* minimum\n",
        "* mean\n",
        "* product\n",
        "\n",
        "They're fairly straightforward and used less often than summation, so you're welcome to look them up in library docs if you ever need them."
      ]
    },
    {
      "cell_type": "markdown",
      "metadata": {
        "id": "r2eW8S_46SMj"
      },
      "source": [
        "### The Dot Product"
      ]
    },
    {
      "cell_type": "markdown",
      "metadata": {
        "id": "LImETgD76SMj"
      },
      "source": [
        "If we have two vectors (say, ***x*** and ***y***) with the same length *n*, we can calculate the dot product between them. This is annotated several different ways, including the following:\n",
        "\n",
        "* $x \\cdot y$\n",
        "* $x^Ty$\n",
        "* $\\langle x,y \\rangle$\n",
        "\n",
        "Regardless which notation you use (I prefer the first), the calculation is the same; we calculate products in an element-wise fashion and then sum reductively across the products to a scalar value. That is, $x \\cdot y = \\sum_{i=1}^{n} x_i y_i$\n",
        "\n",
        "The dot product is ubiquitous in deep learning: It is performed at every artificial neuron in a deep neural network, which may be made up of millions (or orders of magnitude more) of these neurons."
      ]
    },
    {
      "cell_type": "code",
      "metadata": {
        "id": "HveIE3IDcgvP",
        "colab": {
          "base_uri": "https://localhost:8080/"
        },
        "outputId": "7e47ff8a-3d70-4480-b585-b0cac5bea84e"
      },
      "source": [
        "x"
      ],
      "execution_count": null,
      "outputs": [
        {
          "output_type": "execute_result",
          "data": {
            "text/plain": [
              "array([25,  2,  5])"
            ]
          },
          "metadata": {},
          "execution_count": 101
        }
      ]
    },
    {
      "cell_type": "code",
      "metadata": {
        "id": "3ZjkZcvVcgvQ",
        "colab": {
          "base_uri": "https://localhost:8080/"
        },
        "outputId": "3d4f0992-086a-4789-912d-6899b31dab37"
      },
      "source": [
        "y = np.array([0, 1, 2])\n",
        "y"
      ],
      "execution_count": null,
      "outputs": [
        {
          "output_type": "execute_result",
          "data": {
            "text/plain": [
              "array([0, 1, 2])"
            ]
          },
          "metadata": {},
          "execution_count": 102
        }
      ]
    },
    {
      "cell_type": "code",
      "metadata": {
        "id": "Xu8z0QB0cgvR",
        "colab": {
          "base_uri": "https://localhost:8080/"
        },
        "outputId": "684539d6-0ebb-47f3-d2f4-6ec21a14e1f8"
      },
      "source": [
        "25*0 + 2*1 + 5*2"
      ],
      "execution_count": null,
      "outputs": [
        {
          "output_type": "execute_result",
          "data": {
            "text/plain": [
              "12"
            ]
          },
          "metadata": {},
          "execution_count": 103
        }
      ]
    },
    {
      "cell_type": "code",
      "metadata": {
        "id": "ThehRrr8cgvS",
        "colab": {
          "base_uri": "https://localhost:8080/"
        },
        "outputId": "23b6fb0b-f5c8-414a-c09d-1552a44a5591"
      },
      "source": [
        "np.dot(x, y)"
      ],
      "execution_count": null,
      "outputs": [
        {
          "output_type": "execute_result",
          "data": {
            "text/plain": [
              "12"
            ]
          },
          "metadata": {},
          "execution_count": 104
        }
      ]
    },
    {
      "cell_type": "code",
      "metadata": {
        "id": "J5Zdua4xcgvT",
        "colab": {
          "base_uri": "https://localhost:8080/"
        },
        "outputId": "d59bc178-eccd-46f2-d889-32b266eee56f"
      },
      "source": [
        "x_pt"
      ],
      "execution_count": null,
      "outputs": [
        {
          "output_type": "execute_result",
          "data": {
            "text/plain": [
              "tensor([25,  2,  5])"
            ]
          },
          "metadata": {},
          "execution_count": 105
        }
      ]
    },
    {
      "cell_type": "code",
      "metadata": {
        "id": "b3vEdroXcgvU",
        "colab": {
          "base_uri": "https://localhost:8080/"
        },
        "outputId": "63ef19a6-2bbf-4336-d216-2b941658e9fe"
      },
      "source": [
        "y_pt = torch.tensor([0, 1, 2])\n",
        "y_pt"
      ],
      "execution_count": null,
      "outputs": [
        {
          "output_type": "execute_result",
          "data": {
            "text/plain": [
              "tensor([0, 1, 2])"
            ]
          },
          "metadata": {},
          "execution_count": 106
        }
      ]
    },
    {
      "cell_type": "code",
      "metadata": {
        "id": "F741E5imcgvV",
        "colab": {
          "base_uri": "https://localhost:8080/"
        },
        "outputId": "754c34c3-548f-4674-8cbd-925cb0d78a6d"
      },
      "source": [
        "np.dot(x_pt, y_pt)"
      ],
      "execution_count": null,
      "outputs": [
        {
          "output_type": "execute_result",
          "data": {
            "text/plain": [
              "12"
            ]
          },
          "metadata": {},
          "execution_count": 107
        }
      ]
    },
    {
      "cell_type": "code",
      "metadata": {
        "id": "-W5loHc8cgvX",
        "colab": {
          "base_uri": "https://localhost:8080/"
        },
        "outputId": "18e71dbb-163f-4291-8090-366a21c35642"
      },
      "source": [
        "torch.dot(torch.tensor([25, 2, 5.]), torch.tensor([0, 1, 2.]))"
      ],
      "execution_count": null,
      "outputs": [
        {
          "output_type": "execute_result",
          "data": {
            "text/plain": [
              "tensor(12.)"
            ]
          },
          "metadata": {},
          "execution_count": 108
        }
      ]
    },
    {
      "cell_type": "code",
      "metadata": {
        "id": "jUwKBiqzcgvY",
        "colab": {
          "base_uri": "https://localhost:8080/"
        },
        "outputId": "710897b4-cdc5-48f8-ba45-a536a3d1c686"
      },
      "source": [
        "x_tf"
      ],
      "execution_count": null,
      "outputs": [
        {
          "output_type": "execute_result",
          "data": {
            "text/plain": [
              "<tf.Variable 'Variable:0' shape=(3,) dtype=int32, numpy=array([25,  2,  5], dtype=int32)>"
            ]
          },
          "metadata": {},
          "execution_count": 109
        }
      ]
    },
    {
      "cell_type": "code",
      "metadata": {
        "id": "Xqt3Rac7cgvZ",
        "colab": {
          "base_uri": "https://localhost:8080/"
        },
        "outputId": "50214346-8c20-42aa-d25d-1eb711f35330"
      },
      "source": [
        "y_tf = tf.Variable([0, 1, 2])\n",
        "y_tf"
      ],
      "execution_count": null,
      "outputs": [
        {
          "output_type": "execute_result",
          "data": {
            "text/plain": [
              "<tf.Variable 'Variable:0' shape=(3,) dtype=int32, numpy=array([0, 1, 2], dtype=int32)>"
            ]
          },
          "metadata": {},
          "execution_count": 110
        }
      ]
    },
    {
      "cell_type": "code",
      "metadata": {
        "id": "x4pgc5JEcgvc",
        "colab": {
          "base_uri": "https://localhost:8080/"
        },
        "outputId": "a3e872f5-c429-4e0f-ea1a-7751d9e289d5"
      },
      "source": [
        "tf.reduce_sum(tf.multiply(x_tf, y_tf))"
      ],
      "execution_count": null,
      "outputs": [
        {
          "output_type": "execute_result",
          "data": {
            "text/plain": [
              "<tf.Tensor: shape=(), dtype=int32, numpy=12>"
            ]
          },
          "metadata": {},
          "execution_count": 111
        }
      ]
    },
    {
      "cell_type": "markdown",
      "metadata": {
        "id": "mSmvC1cc6SMj"
      },
      "source": [
        "**Return to slides here.**"
      ]
    },
    {
      "cell_type": "markdown",
      "metadata": {
        "id": "9dfTV7hQR6zn"
      },
      "source": [
        "### Solving Linear Systems"
      ]
    },
    {
      "cell_type": "markdown",
      "metadata": {
        "id": "pCoSpqtWSyFd"
      },
      "source": [
        "In the **Substitution** example, the two equations in the system are:\n",
        "$$ y = 3x $$\n",
        "$$ -5x + 2y = 2 $$\n",
        "\n",
        "The second equation can be rearranged to isolate $y$:\n",
        "$$ 2y = 2 + 5x $$\n",
        "$$ y = \\frac{2 + 5x}{2} = 1 + \\frac{5x}{2} $$"
      ]
    },
    {
      "cell_type": "code",
      "metadata": {
        "id": "1T0_m11kTh82"
      },
      "source": [
        "x = np.linspace(-10, 10, 1000) # start, finish, n points"
      ],
      "execution_count": null,
      "outputs": []
    },
    {
      "cell_type": "code",
      "metadata": {
        "id": "_K6IyUWcTh85"
      },
      "source": [
        "y1 = 3 * x"
      ],
      "execution_count": null,
      "outputs": []
    },
    {
      "cell_type": "code",
      "metadata": {
        "id": "DYkQdUJ5Th86"
      },
      "source": [
        "y2 = 1 + (5*x)/2"
      ],
      "execution_count": null,
      "outputs": []
    },
    {
      "cell_type": "code",
      "metadata": {
        "colab": {
          "base_uri": "https://localhost:8080/",
          "height": 455
        },
        "id": "aBL9NDoHTh86",
        "outputId": "dada3255-d947-4809-95e9-dc2485cb7a34"
      },
      "source": [
        "fig, ax = plt.subplots()\n",
        "plt.xlabel('x')\n",
        "plt.ylabel('y')\n",
        "ax.set_xlim([0, 3])\n",
        "ax.set_ylim([0, 8])\n",
        "ax.plot(x, y1, c='green')\n",
        "ax.plot(x, y2, c='brown')\n",
        "plt.axvline(x=2, color='purple', linestyle='--')\n",
        "_ = plt.axhline(y=6, color='purple', linestyle='--')"
      ],
      "execution_count": null,
      "outputs": [
        {
          "output_type": "display_data",
          "data": {
            "text/plain": [
              "<Figure size 640x480 with 1 Axes>"
            ],
            "image/png": "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\n"
          },
          "metadata": {}
        }
      ]
    },
    {
      "cell_type": "markdown",
      "source": [
        "**Return to slides here.**"
      ],
      "metadata": {
        "id": "vACSnJgP87xA"
      }
    },
    {
      "cell_type": "markdown",
      "metadata": {
        "id": "F3X4p66XVFXH"
      },
      "source": [
        "In the **Elimination** example, the two equations in the system are:\n",
        "$$ 2x - 3y = 15 $$\n",
        "$$ 4x + 10y = 14 $$\n",
        "\n",
        "Both equations can be rearranged to isolate $y$. Starting with the first equation:\n",
        "$$ -3y = 15 - 2x $$\n",
        "$$ y = \\frac{15 - 2x}{-3} = -5 + \\frac{2x}{3} $$\n",
        "\n",
        "Then for the second equation:\n",
        "$$ 4x + 10y = 14 $$\n",
        "$$ 2x + 5y = 7 $$\n",
        "$$ 5y = 7 - 2x $$\n",
        "$$ y = \\frac{7 - 2x}{5} $$"
      ]
    },
    {
      "cell_type": "code",
      "metadata": {
        "id": "5x3kfV_WWhlR"
      },
      "source": [
        "y1 = -5 + (2*x)/3"
      ],
      "execution_count": null,
      "outputs": []
    },
    {
      "cell_type": "code",
      "metadata": {
        "id": "dqA1lS0CWu5z"
      },
      "source": [
        "y2 = (7-2*x)/5"
      ],
      "execution_count": null,
      "outputs": []
    },
    {
      "cell_type": "code",
      "metadata": {
        "id": "6CfRNs1DWzx5",
        "colab": {
          "base_uri": "https://localhost:8080/",
          "height": 455
        },
        "outputId": "c32b733e-c5b9-4654-d2f9-4d4f6cdfa93e"
      },
      "source": [
        "fig, ax = plt.subplots()\n",
        "plt.xlabel('x')\n",
        "plt.ylabel('y')\n",
        "\n",
        "# Add x and y axes:\n",
        "plt.axvline(x=0, color='lightgray')\n",
        "plt.axhline(y=0, color='lightgray')\n",
        "\n",
        "ax.set_xlim([-2, 10])\n",
        "ax.set_ylim([-6, 4])\n",
        "ax.plot(x, y1, c='green')\n",
        "ax.plot(x, y2, c='brown')\n",
        "plt.axvline(x=6, color='purple', linestyle='--')\n",
        "_ = plt.axhline(y=-1, color='purple', linestyle='--')"
      ],
      "execution_count": null,
      "outputs": [
        {
          "output_type": "display_data",
          "data": {
            "text/plain": [
              "<Figure size 640x480 with 1 Axes>"
            ],
            "image/png": "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\n"
          },
          "metadata": {}
        }
      ]
    },
    {
      "cell_type": "markdown",
      "source": [
        "**Return to slides here.**"
      ],
      "metadata": {
        "id": "CezB87Tb-QGh"
      }
    },
    {
      "cell_type": "markdown",
      "metadata": {
        "id": "bYDhomCP6SMj"
      },
      "source": [
        "## Segment 3: Matrix Properties"
      ]
    },
    {
      "cell_type": "markdown",
      "metadata": {
        "id": "-HGU_an66SMk"
      },
      "source": [
        "### Frobenius Norm"
      ]
    },
    {
      "cell_type": "code",
      "metadata": {
        "id": "pNQHvAqN6SMk",
        "colab": {
          "base_uri": "https://localhost:8080/"
        },
        "outputId": "916cf013-483f-48a2-e66a-dcb8be2be58a"
      },
      "source": [
        "X = np.array([[1, 2], [3, 4]])\n",
        "X"
      ],
      "execution_count": null,
      "outputs": [
        {
          "output_type": "execute_result",
          "data": {
            "text/plain": [
              "array([[1, 2],\n",
              "       [3, 4]])"
            ]
          },
          "metadata": {},
          "execution_count": 119
        }
      ]
    },
    {
      "cell_type": "code",
      "metadata": {
        "id": "T-q-Tzn26SMm",
        "colab": {
          "base_uri": "https://localhost:8080/"
        },
        "outputId": "f13d60e4-6d8c-4628-acda-01a5bf85876f"
      },
      "source": [
        "(1**2 + 2**2 + 3**2 + 4**2)**(1/2)"
      ],
      "execution_count": null,
      "outputs": [
        {
          "output_type": "execute_result",
          "data": {
            "text/plain": [
              "5.477225575051661"
            ]
          },
          "metadata": {},
          "execution_count": 120
        }
      ]
    },
    {
      "cell_type": "code",
      "metadata": {
        "id": "YVG8qiFw6SMn",
        "colab": {
          "base_uri": "https://localhost:8080/"
        },
        "outputId": "c0b5b228-8724-4bb2-b1ce-531b359e36c8"
      },
      "source": [
        "np.linalg.norm(X) # same function as for vector L2 norm"
      ],
      "execution_count": null,
      "outputs": [
        {
          "output_type": "execute_result",
          "data": {
            "text/plain": [
              "5.477225575051661"
            ]
          },
          "metadata": {},
          "execution_count": 121
        }
      ]
    },
    {
      "cell_type": "code",
      "metadata": {
        "id": "FPnBflKVxyik"
      },
      "source": [
        "X_pt = torch.tensor([[1, 2], [3, 4.]]) # torch.norm() supports floats only"
      ],
      "execution_count": null,
      "outputs": []
    },
    {
      "cell_type": "code",
      "metadata": {
        "id": "NCdTShVyx8z0",
        "colab": {
          "base_uri": "https://localhost:8080/"
        },
        "outputId": "b574d8aa-4700-4f75-959d-2b0501f44bc8"
      },
      "source": [
        "torch.norm(X_pt)"
      ],
      "execution_count": null,
      "outputs": [
        {
          "output_type": "execute_result",
          "data": {
            "text/plain": [
              "tensor(5.4772)"
            ]
          },
          "metadata": {},
          "execution_count": 123
        }
      ]
    },
    {
      "cell_type": "code",
      "metadata": {
        "id": "blezf9fLx_nD"
      },
      "source": [
        "X_tf = tf.Variable([[1, 2], [3, 4.]]) # tf.norm() also supports floats only"
      ],
      "execution_count": null,
      "outputs": []
    },
    {
      "cell_type": "code",
      "metadata": {
        "id": "LiCQzyf6ySCZ",
        "colab": {
          "base_uri": "https://localhost:8080/"
        },
        "outputId": "560c2751-1cde-4622-d8f6-4f6661710b89"
      },
      "source": [
        "tf.norm(X_tf)"
      ],
      "execution_count": null,
      "outputs": [
        {
          "output_type": "execute_result",
          "data": {
            "text/plain": [
              "<tf.Tensor: shape=(), dtype=float32, numpy=5.477226>"
            ]
          },
          "metadata": {},
          "execution_count": 125
        }
      ]
    },
    {
      "cell_type": "markdown",
      "metadata": {
        "id": "4c6rjVAf6SMo"
      },
      "source": [
        "**Return to slides here.**"
      ]
    },
    {
      "cell_type": "markdown",
      "metadata": {
        "id": "OLN-MMIe6SMo"
      },
      "source": [
        "### Matrix Multiplication (with a Vector)"
      ]
    },
    {
      "cell_type": "code",
      "metadata": {
        "id": "XJw0j8cr6SMo",
        "colab": {
          "base_uri": "https://localhost:8080/"
        },
        "outputId": "287c7d56-a31a-4990-e7ef-069d8ae3da65"
      },
      "source": [
        "A = np.array([[3, 4], [5, 6], [7, 8]])\n",
        "A"
      ],
      "execution_count": null,
      "outputs": [
        {
          "output_type": "execute_result",
          "data": {
            "text/plain": [
              "array([[3, 4],\n",
              "       [5, 6],\n",
              "       [7, 8]])"
            ]
          },
          "metadata": {},
          "execution_count": 126
        }
      ]
    },
    {
      "cell_type": "code",
      "metadata": {
        "id": "zZQ1Aupc6SMq",
        "colab": {
          "base_uri": "https://localhost:8080/"
        },
        "outputId": "ef242b77-62eb-4ce2-f468-5c9bb93b20cf"
      },
      "source": [
        "b = np.array([1, 2])\n",
        "b"
      ],
      "execution_count": null,
      "outputs": [
        {
          "output_type": "execute_result",
          "data": {
            "text/plain": [
              "array([1, 2])"
            ]
          },
          "metadata": {},
          "execution_count": 127
        }
      ]
    },
    {
      "cell_type": "code",
      "metadata": {
        "id": "ZbeVtNyW6SMq",
        "colab": {
          "base_uri": "https://localhost:8080/"
        },
        "outputId": "d0e9832a-e2a8-4819-c852-5ff9a427a6a6"
      },
      "source": [
        "np.dot(A, b) # even though technically dot products are between vectors only"
      ],
      "execution_count": null,
      "outputs": [
        {
          "output_type": "execute_result",
          "data": {
            "text/plain": [
              "array([11, 17, 23])"
            ]
          },
          "metadata": {},
          "execution_count": 128
        }
      ]
    },
    {
      "cell_type": "code",
      "metadata": {
        "id": "srVI55X96SMu",
        "colab": {
          "base_uri": "https://localhost:8080/"
        },
        "outputId": "881f9985-25e3-4589-942c-42afb9ecf7cb"
      },
      "source": [
        "A_pt = torch.tensor([[3, 4], [5, 6], [7, 8]])\n",
        "A_pt"
      ],
      "execution_count": null,
      "outputs": [
        {
          "output_type": "execute_result",
          "data": {
            "text/plain": [
              "tensor([[3, 4],\n",
              "        [5, 6],\n",
              "        [7, 8]])"
            ]
          },
          "metadata": {},
          "execution_count": 129
        }
      ]
    },
    {
      "cell_type": "code",
      "metadata": {
        "id": "5SDn71Xc6SMv",
        "colab": {
          "base_uri": "https://localhost:8080/"
        },
        "outputId": "2af7f92d-7799-446c-bad1-e6368df39940"
      },
      "source": [
        "b_pt = torch.tensor([1, 2])\n",
        "b_pt"
      ],
      "execution_count": null,
      "outputs": [
        {
          "output_type": "execute_result",
          "data": {
            "text/plain": [
              "tensor([1, 2])"
            ]
          },
          "metadata": {},
          "execution_count": 130
        }
      ]
    },
    {
      "cell_type": "code",
      "metadata": {
        "id": "OIeoJlsh6SMx",
        "colab": {
          "base_uri": "https://localhost:8080/"
        },
        "outputId": "0b1008a9-b5e7-4d40-b88e-2bb0c0319f91"
      },
      "source": [
        "torch.matmul(A_pt, b_pt) # like np.dot(), automatically infers dims in order to perform dot product, matvec, or matrix multiplication"
      ],
      "execution_count": null,
      "outputs": [
        {
          "output_type": "execute_result",
          "data": {
            "text/plain": [
              "tensor([11, 17, 23])"
            ]
          },
          "metadata": {},
          "execution_count": 131
        }
      ]
    },
    {
      "cell_type": "code",
      "metadata": {
        "id": "pnob9GkB6SMs",
        "colab": {
          "base_uri": "https://localhost:8080/"
        },
        "outputId": "07b3a129-35f1-41b8-b1f9-7c208a4b9277"
      },
      "source": [
        "A_tf = tf.Variable([[3, 4], [5, 6], [7, 8]])\n",
        "A_tf"
      ],
      "execution_count": null,
      "outputs": [
        {
          "output_type": "execute_result",
          "data": {
            "text/plain": [
              "<tf.Variable 'Variable:0' shape=(3, 2) dtype=int32, numpy=\n",
              "array([[3, 4],\n",
              "       [5, 6],\n",
              "       [7, 8]], dtype=int32)>"
            ]
          },
          "metadata": {},
          "execution_count": 132
        }
      ]
    },
    {
      "cell_type": "code",
      "metadata": {
        "id": "vYtWxf8K6SMt",
        "colab": {
          "base_uri": "https://localhost:8080/"
        },
        "outputId": "a83bf927-bb8e-4c60-b6da-3cb6cb5edd57"
      },
      "source": [
        "b_tf = tf.Variable([1, 2])\n",
        "b_tf"
      ],
      "execution_count": null,
      "outputs": [
        {
          "output_type": "execute_result",
          "data": {
            "text/plain": [
              "<tf.Variable 'Variable:0' shape=(2,) dtype=int32, numpy=array([1, 2], dtype=int32)>"
            ]
          },
          "metadata": {},
          "execution_count": 133
        }
      ]
    },
    {
      "cell_type": "code",
      "metadata": {
        "id": "NGBImWRH6SMt",
        "colab": {
          "base_uri": "https://localhost:8080/"
        },
        "outputId": "3d2f4fcd-04d8-4dbb-bee5-f9c2151fdea3"
      },
      "source": [
        "tf.linalg.matvec(A_tf, b_tf)"
      ],
      "execution_count": null,
      "outputs": [
        {
          "output_type": "execute_result",
          "data": {
            "text/plain": [
              "<tf.Tensor: shape=(3,), dtype=int32, numpy=array([11, 17, 23], dtype=int32)>"
            ]
          },
          "metadata": {},
          "execution_count": 134
        }
      ]
    },
    {
      "cell_type": "markdown",
      "metadata": {
        "id": "kzjZmdRR6SMy"
      },
      "source": [
        "**Return to slides here.**"
      ]
    },
    {
      "cell_type": "markdown",
      "metadata": {
        "id": "21ySqay36SM5"
      },
      "source": [
        "### Matrix Multiplication (with Two Matrices)"
      ]
    },
    {
      "cell_type": "code",
      "metadata": {
        "id": "0YRG1Ig2cgvo",
        "colab": {
          "base_uri": "https://localhost:8080/"
        },
        "outputId": "02ab25c2-ca74-4d3a-d845-6716906305a3"
      },
      "source": [
        "A"
      ],
      "execution_count": null,
      "outputs": [
        {
          "output_type": "execute_result",
          "data": {
            "text/plain": [
              "array([[3, 4],\n",
              "       [5, 6],\n",
              "       [7, 8]])"
            ]
          },
          "metadata": {},
          "execution_count": 135
        }
      ]
    },
    {
      "cell_type": "code",
      "metadata": {
        "id": "DyOEZk_c6SM5",
        "colab": {
          "base_uri": "https://localhost:8080/"
        },
        "outputId": "bb6d846b-4a97-4b90-a6ca-d4010269a6c9"
      },
      "source": [
        "B = np.array([[1, 9], [2, 0]])\n",
        "B"
      ],
      "execution_count": null,
      "outputs": [
        {
          "output_type": "execute_result",
          "data": {
            "text/plain": [
              "array([[1, 9],\n",
              "       [2, 0]])"
            ]
          },
          "metadata": {},
          "execution_count": 136
        }
      ]
    },
    {
      "cell_type": "code",
      "metadata": {
        "id": "SfKuNxH-6SM6",
        "colab": {
          "base_uri": "https://localhost:8080/"
        },
        "outputId": "3c6271ee-c89e-4707-ba0d-96e8a585ebf7"
      },
      "source": [
        "np.dot(A, B)"
      ],
      "execution_count": null,
      "outputs": [
        {
          "output_type": "execute_result",
          "data": {
            "text/plain": [
              "array([[11, 27],\n",
              "       [17, 45],\n",
              "       [23, 63]])"
            ]
          },
          "metadata": {},
          "execution_count": 137
        }
      ]
    },
    {
      "cell_type": "markdown",
      "metadata": {
        "id": "WcnQMF0s6SNB"
      },
      "source": [
        "Note that matrix multiplication is not \"commutative\" (i.e., $AB \\neq BA$) so uncommenting the following line will throw a size mismatch error:"
      ]
    },
    {
      "cell_type": "code",
      "metadata": {
        "id": "_mwBGOXO6SNB"
      },
      "source": [
        "# np.dot(B, A)"
      ],
      "execution_count": null,
      "outputs": []
    },
    {
      "cell_type": "code",
      "metadata": {
        "id": "JrrvPoNE6SM9",
        "colab": {
          "base_uri": "https://localhost:8080/"
        },
        "outputId": "8e9b7b0e-c56e-4a28-f858-93886de0968d"
      },
      "source": [
        "B_pt = torch.from_numpy(B) # much cleaner than TF conversion\n",
        "B_pt"
      ],
      "execution_count": null,
      "outputs": [
        {
          "output_type": "execute_result",
          "data": {
            "text/plain": [
              "tensor([[1, 9],\n",
              "        [2, 0]])"
            ]
          },
          "metadata": {},
          "execution_count": 139
        }
      ]
    },
    {
      "cell_type": "code",
      "metadata": {
        "id": "Z6PfwCvX6SM-",
        "colab": {
          "base_uri": "https://localhost:8080/"
        },
        "outputId": "37454147-f8c3-41f4-f8ce-6fb3ef8f4524"
      },
      "source": [
        "# another neat way to create the same tensor with transposition:\n",
        "B_pt = torch.tensor([[1, 2], [9, 0]]).T\n",
        "B_pt"
      ],
      "execution_count": null,
      "outputs": [
        {
          "output_type": "execute_result",
          "data": {
            "text/plain": [
              "tensor([[1, 9],\n",
              "        [2, 0]])"
            ]
          },
          "metadata": {},
          "execution_count": 140
        }
      ]
    },
    {
      "cell_type": "code",
      "metadata": {
        "id": "16ZNRaVe6SM_",
        "colab": {
          "base_uri": "https://localhost:8080/"
        },
        "outputId": "c32eb80d-f84c-4670-dead-0f34b0f9498f"
      },
      "source": [
        "torch.matmul(A_pt, B_pt) # no need to change functions, unlike in TF"
      ],
      "execution_count": null,
      "outputs": [
        {
          "output_type": "execute_result",
          "data": {
            "text/plain": [
              "tensor([[11, 27],\n",
              "        [17, 45],\n",
              "        [23, 63]])"
            ]
          },
          "metadata": {},
          "execution_count": 141
        }
      ]
    },
    {
      "cell_type": "code",
      "metadata": {
        "id": "rkymNjE46SM8",
        "colab": {
          "base_uri": "https://localhost:8080/"
        },
        "outputId": "712a076c-160d-4e9e-d57f-29ef716eff08"
      },
      "source": [
        "B_tf = tf.convert_to_tensor(B, dtype=tf.int32)\n",
        "B_tf"
      ],
      "execution_count": null,
      "outputs": [
        {
          "output_type": "execute_result",
          "data": {
            "text/plain": [
              "<tf.Tensor: shape=(2, 2), dtype=int32, numpy=\n",
              "array([[1, 9],\n",
              "       [2, 0]], dtype=int32)>"
            ]
          },
          "metadata": {},
          "execution_count": 142
        }
      ]
    },
    {
      "cell_type": "code",
      "metadata": {
        "id": "rslTzFRk6SM8",
        "colab": {
          "base_uri": "https://localhost:8080/"
        },
        "outputId": "d424a4ee-e161-4ddf-e825-e533507d66f5"
      },
      "source": [
        "tf.matmul(A_tf, B_tf)"
      ],
      "execution_count": null,
      "outputs": [
        {
          "output_type": "execute_result",
          "data": {
            "text/plain": [
              "<tf.Tensor: shape=(3, 2), dtype=int32, numpy=\n",
              "array([[11, 27],\n",
              "       [17, 45],\n",
              "       [23, 63]], dtype=int32)>"
            ]
          },
          "metadata": {},
          "execution_count": 143
        }
      ]
    },
    {
      "cell_type": "markdown",
      "metadata": {
        "id": "0eBiTmPp6SNC"
      },
      "source": [
        "**Return to slides here.**"
      ]
    },
    {
      "cell_type": "markdown",
      "metadata": {
        "id": "L2H9F-DQ6SMz"
      },
      "source": [
        "### Symmetric Matrices"
      ]
    },
    {
      "cell_type": "code",
      "metadata": {
        "id": "5YsPoWo76SMz",
        "colab": {
          "base_uri": "https://localhost:8080/"
        },
        "outputId": "d41b1efa-ec4e-4fde-82fb-c3a98ddc3d49"
      },
      "source": [
        "X_sym = np.array([[0, 1, 2], [1, 7, 8], [2, 8, 9]])\n",
        "X_sym"
      ],
      "execution_count": null,
      "outputs": [
        {
          "output_type": "execute_result",
          "data": {
            "text/plain": [
              "array([[0, 1, 2],\n",
              "       [1, 7, 8],\n",
              "       [2, 8, 9]])"
            ]
          },
          "metadata": {},
          "execution_count": 144
        }
      ]
    },
    {
      "cell_type": "code",
      "metadata": {
        "id": "Skg1wSQVcgv2",
        "colab": {
          "base_uri": "https://localhost:8080/"
        },
        "outputId": "dde3fe41-cc5b-4647-ffaf-5a207a82b644"
      },
      "source": [
        "X_sym.T"
      ],
      "execution_count": null,
      "outputs": [
        {
          "output_type": "execute_result",
          "data": {
            "text/plain": [
              "array([[0, 1, 2],\n",
              "       [1, 7, 8],\n",
              "       [2, 8, 9]])"
            ]
          },
          "metadata": {},
          "execution_count": 145
        }
      ]
    },
    {
      "cell_type": "code",
      "metadata": {
        "id": "Jv40-i9H6SM1",
        "colab": {
          "base_uri": "https://localhost:8080/"
        },
        "outputId": "b23c92fa-c452-4a36-ca27-92fd1dcd64bc"
      },
      "source": [
        "X_sym.T == X_sym"
      ],
      "execution_count": null,
      "outputs": [
        {
          "output_type": "execute_result",
          "data": {
            "text/plain": [
              "array([[ True,  True,  True],\n",
              "       [ True,  True,  True],\n",
              "       [ True,  True,  True]])"
            ]
          },
          "metadata": {},
          "execution_count": 146
        }
      ]
    },
    {
      "cell_type": "markdown",
      "metadata": {
        "id": "QZFoUFkq6SM2"
      },
      "source": [
        "**Return to slides here.**"
      ]
    },
    {
      "cell_type": "markdown",
      "metadata": {
        "id": "Mq_c3ftZ6SM2"
      },
      "source": [
        "### Identity Matrices"
      ]
    },
    {
      "cell_type": "code",
      "metadata": {
        "id": "KVSNbH-Z6SM2",
        "colab": {
          "base_uri": "https://localhost:8080/"
        },
        "outputId": "46ce4da4-9435-4744-e097-d7129142bf0b"
      },
      "source": [
        "I = torch.tensor([[1, 0, 0], [0, 1, 0], [0, 0, 1]])\n",
        "I"
      ],
      "execution_count": null,
      "outputs": [
        {
          "output_type": "execute_result",
          "data": {
            "text/plain": [
              "tensor([[1, 0, 0],\n",
              "        [0, 1, 0],\n",
              "        [0, 0, 1]])"
            ]
          },
          "metadata": {},
          "execution_count": 147
        }
      ]
    },
    {
      "cell_type": "code",
      "metadata": {
        "id": "wcoPDhvR6SM3",
        "colab": {
          "base_uri": "https://localhost:8080/"
        },
        "outputId": "2fb868dc-a57d-4c88-9fa9-d6009ec28a76"
      },
      "source": [
        "x_pt = torch.tensor([25, 2, 5])\n",
        "x_pt"
      ],
      "execution_count": null,
      "outputs": [
        {
          "output_type": "execute_result",
          "data": {
            "text/plain": [
              "tensor([25,  2,  5])"
            ]
          },
          "metadata": {},
          "execution_count": 148
        }
      ]
    },
    {
      "cell_type": "code",
      "metadata": {
        "id": "tuA4RsMv6SM4",
        "colab": {
          "base_uri": "https://localhost:8080/"
        },
        "outputId": "d8983050-aafa-4d61-9fa2-8814a245bc5a"
      },
      "source": [
        "torch.matmul(I, x_pt)"
      ],
      "execution_count": null,
      "outputs": [
        {
          "output_type": "execute_result",
          "data": {
            "text/plain": [
              "tensor([25,  2,  5])"
            ]
          },
          "metadata": {},
          "execution_count": 149
        }
      ]
    },
    {
      "cell_type": "markdown",
      "metadata": {
        "id": "bgDiOYLk6SM5"
      },
      "source": [
        "**Return to slides here.**"
      ]
    },
    {
      "cell_type": "markdown",
      "metadata": {
        "id": "3S_6Yfdkcgv7"
      },
      "source": [
        "### Answers to Matrix Multiplication Qs"
      ]
    },
    {
      "cell_type": "code",
      "metadata": {
        "id": "pINsKNxH6SNC",
        "colab": {
          "base_uri": "https://localhost:8080/"
        },
        "outputId": "749e8b80-4ece-4e71-d253-071ee8231e73"
      },
      "source": [
        "M_q = torch.tensor([[0, 1, 2], [3, 4, 5], [6, 7, 8]])\n",
        "M_q"
      ],
      "execution_count": null,
      "outputs": [
        {
          "output_type": "execute_result",
          "data": {
            "text/plain": [
              "tensor([[0, 1, 2],\n",
              "        [3, 4, 5],\n",
              "        [6, 7, 8]])"
            ]
          },
          "metadata": {},
          "execution_count": 150
        }
      ]
    },
    {
      "cell_type": "code",
      "metadata": {
        "id": "gfjWd8OO6SNE",
        "colab": {
          "base_uri": "https://localhost:8080/"
        },
        "outputId": "e05d8691-6939-4356-ef6e-d4cb66311d79"
      },
      "source": [
        "V_q = torch.tensor([[-1, 1, -2], [0, 1, 2]]).T\n",
        "V_q"
      ],
      "execution_count": null,
      "outputs": [
        {
          "output_type": "execute_result",
          "data": {
            "text/plain": [
              "tensor([[-1,  0],\n",
              "        [ 1,  1],\n",
              "        [-2,  2]])"
            ]
          },
          "metadata": {},
          "execution_count": 151
        }
      ]
    },
    {
      "cell_type": "code",
      "metadata": {
        "id": "boSkaV2M6SNF",
        "colab": {
          "base_uri": "https://localhost:8080/"
        },
        "outputId": "412a3565-f9fd-4e6f-f3b0-c85ec84b1a9f"
      },
      "source": [
        "torch.matmul(M_q, V_q)"
      ],
      "execution_count": null,
      "outputs": [
        {
          "output_type": "execute_result",
          "data": {
            "text/plain": [
              "tensor([[ -3,   5],\n",
              "        [ -9,  14],\n",
              "        [-15,  23]])"
            ]
          },
          "metadata": {},
          "execution_count": 152
        }
      ]
    },
    {
      "cell_type": "markdown",
      "metadata": {
        "id": "slSNKUcN6SNG"
      },
      "source": [
        "### Matrix Inversion"
      ]
    },
    {
      "cell_type": "code",
      "metadata": {
        "id": "EW0i5ZRk6SNG",
        "colab": {
          "base_uri": "https://localhost:8080/"
        },
        "outputId": "157f1989-5346-4066-98ed-f1c807610754"
      },
      "source": [
        "X = np.array([[4, 2], [-5, -3]])\n",
        "X"
      ],
      "execution_count": null,
      "outputs": [
        {
          "output_type": "execute_result",
          "data": {
            "text/plain": [
              "array([[ 4,  2],\n",
              "       [-5, -3]])"
            ]
          },
          "metadata": {},
          "execution_count": 153
        }
      ]
    },
    {
      "cell_type": "code",
      "metadata": {
        "id": "hTYpxaWR6SNI",
        "colab": {
          "base_uri": "https://localhost:8080/"
        },
        "outputId": "dee8a0e1-801f-48e7-ea6a-64d6822a6ba9"
      },
      "source": [
        "Xinv = np.linalg.inv(X)\n",
        "Xinv"
      ],
      "execution_count": null,
      "outputs": [
        {
          "output_type": "execute_result",
          "data": {
            "text/plain": [
              "array([[ 1.5,  1. ],\n",
              "       [-2.5, -2. ]])"
            ]
          },
          "metadata": {},
          "execution_count": 154
        }
      ]
    },
    {
      "cell_type": "markdown",
      "metadata": {
        "id": "XFDBBdYOc-7E"
      },
      "source": [
        "As a quick aside, let's prove that $X^{-1}X = I_n$ as per the slides:"
      ]
    },
    {
      "cell_type": "code",
      "metadata": {
        "id": "tyPhf-uZcvdB",
        "outputId": "1b0f5f09-b0da-4f36-d248-f68056b0f4e1",
        "colab": {
          "base_uri": "https://localhost:8080/"
        }
      },
      "source": [
        "np.dot(Xinv, X)"
      ],
      "execution_count": null,
      "outputs": [
        {
          "output_type": "execute_result",
          "data": {
            "text/plain": [
              "array([[1.00000000e+00, 3.33066907e-16],\n",
              "       [0.00000000e+00, 1.00000000e+00]])"
            ]
          },
          "metadata": {},
          "execution_count": 155
        }
      ]
    },
    {
      "cell_type": "markdown",
      "metadata": {
        "id": "SVwvbBvclul1"
      },
      "source": [
        "...and now back to solving for the unknowns in $w$:"
      ]
    },
    {
      "cell_type": "code",
      "metadata": {
        "id": "Q5sQqFaz6SNK",
        "colab": {
          "base_uri": "https://localhost:8080/"
        },
        "outputId": "92c47ee8-9375-4c79-c8ea-63c56ce5e396"
      },
      "source": [
        "y = np.array([4, -7])\n",
        "y"
      ],
      "execution_count": null,
      "outputs": [
        {
          "output_type": "execute_result",
          "data": {
            "text/plain": [
              "array([ 4, -7])"
            ]
          },
          "metadata": {},
          "execution_count": 156
        }
      ]
    },
    {
      "cell_type": "code",
      "metadata": {
        "id": "PK7m6F1I6SNL",
        "colab": {
          "base_uri": "https://localhost:8080/"
        },
        "outputId": "ac9bda7d-a937-4c90-e8d5-ed177a1f8dc0"
      },
      "source": [
        "w = np.dot(Xinv, y)\n",
        "w"
      ],
      "execution_count": null,
      "outputs": [
        {
          "output_type": "execute_result",
          "data": {
            "text/plain": [
              "array([-1.,  4.])"
            ]
          },
          "metadata": {},
          "execution_count": 157
        }
      ]
    },
    {
      "cell_type": "markdown",
      "metadata": {
        "id": "fyBOHgdccgwD"
      },
      "source": [
        "Show that $y = Xw$:"
      ]
    },
    {
      "cell_type": "code",
      "metadata": {
        "id": "SVBojjwacgwD",
        "colab": {
          "base_uri": "https://localhost:8080/"
        },
        "outputId": "805a0f2c-8ae0-41d8-c121-c270bd67c479"
      },
      "source": [
        "np.dot(X, w)"
      ],
      "execution_count": null,
      "outputs": [
        {
          "output_type": "execute_result",
          "data": {
            "text/plain": [
              "array([ 4., -7.])"
            ]
          },
          "metadata": {},
          "execution_count": 158
        }
      ]
    },
    {
      "cell_type": "markdown",
      "metadata": {
        "id": "rKELsi0PZCr0"
      },
      "source": [
        "**Geometric Visualization**\n",
        "\n",
        "Recalling from the slides that the two equations in the system are:\n",
        "$$ 4b + 2c = 4 $$\n",
        "$$ -5b - 3c = -7 $$\n",
        "\n",
        "Both equations can be rearranged to isolate a variable, say $c$. Starting with the first equation:\n",
        "$$ 4b + 2c = 4 $$\n",
        "$$ 2b + c = 2 $$\n",
        "$$ c = 2 - 2b $$\n",
        "\n",
        "Then for the second equation:\n",
        "$$ -5b - 3c = -7 $$\n",
        "$$ -3c = -7 + 5b $$\n",
        "$$ c = \\frac{-7 + 5b}{-3} = \\frac{7 - 5b}{3} $$"
      ]
    },
    {
      "cell_type": "code",
      "metadata": {
        "id": "ZASIBqroap7k"
      },
      "source": [
        "b = np.linspace(-10, 10, 1000) # start, finish, n points"
      ],
      "execution_count": null,
      "outputs": []
    },
    {
      "cell_type": "code",
      "metadata": {
        "id": "9XsUdVsmaqTr"
      },
      "source": [
        "c1 = 2 - 2*b"
      ],
      "execution_count": null,
      "outputs": []
    },
    {
      "cell_type": "code",
      "metadata": {
        "id": "8Mwn1tAca1Cl"
      },
      "source": [
        "c2 = (7-5*b)/3"
      ],
      "execution_count": null,
      "outputs": []
    },
    {
      "cell_type": "code",
      "metadata": {
        "id": "X5ozP9jZauQa",
        "colab": {
          "base_uri": "https://localhost:8080/",
          "height": 455
        },
        "outputId": "d6d69af4-657c-4a70-9020-b028c43c20fa"
      },
      "source": [
        "fig, ax = plt.subplots()\n",
        "plt.xlabel('b', c='darkorange')\n",
        "plt.ylabel('c', c='brown')\n",
        "\n",
        "plt.axvline(x=0, color='lightgray')\n",
        "plt.axhline(y=0, color='lightgray')\n",
        "\n",
        "ax.set_xlim([-2, 3])\n",
        "ax.set_ylim([-1, 5])\n",
        "ax.plot(b, c1, c='purple')\n",
        "ax.plot(b, c2, c='purple')\n",
        "plt.axvline(x=-1, color='green', linestyle='--')\n",
        "_ = plt.axhline(y=4, color='green', linestyle='--')"
      ],
      "execution_count": null,
      "outputs": [
        {
          "output_type": "display_data",
          "data": {
            "text/plain": [
              "<Figure size 640x480 with 1 Axes>"
            ],
            "image/png": "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\n"
          },
          "metadata": {}
        }
      ]
    },
    {
      "cell_type": "markdown",
      "metadata": {
        "id": "14uhePTna7ZV"
      },
      "source": [
        "In PyTorch and TensorFlow:"
      ]
    },
    {
      "cell_type": "code",
      "metadata": {
        "id": "7qo-SAvaansp",
        "colab": {
          "base_uri": "https://localhost:8080/"
        },
        "outputId": "3bca970e-71dc-4072-dff7-3c59a0fb9b37"
      },
      "source": [
        "torch.inverse(torch.tensor([[4, 2], [-5, -3.]])) # float type"
      ],
      "execution_count": null,
      "outputs": [
        {
          "output_type": "execute_result",
          "data": {
            "text/plain": [
              "tensor([[ 1.5000,  1.0000],\n",
              "        [-2.5000, -2.0000]])"
            ]
          },
          "metadata": {},
          "execution_count": 163
        }
      ]
    },
    {
      "cell_type": "code",
      "metadata": {
        "id": "uqtyF3Jqaz4l",
        "colab": {
          "base_uri": "https://localhost:8080/"
        },
        "outputId": "2960b1e8-66a2-40be-eb09-a86754ab596c"
      },
      "source": [
        "tf.linalg.inv(tf.Variable([[4, 2], [-5, -3.]])) # also float"
      ],
      "execution_count": null,
      "outputs": [
        {
          "output_type": "execute_result",
          "data": {
            "text/plain": [
              "<tf.Tensor: shape=(2, 2), dtype=float32, numpy=\n",
              "array([[ 1.4999998,  0.9999998],\n",
              "       [-2.4999995, -1.9999996]], dtype=float32)>"
            ]
          },
          "metadata": {},
          "execution_count": 164
        }
      ]
    },
    {
      "cell_type": "markdown",
      "metadata": {
        "id": "hcP2S4AMAHT_"
      },
      "source": [
        "**Exercises**:\n",
        "\n",
        "1. As done with NumPy above, use PyTorch to calculate $w$ from $X$ and $y$. Subsequently, confirm that $y = Xw$.\n",
        "2. Repeat again, now using TensorFlow."
      ]
    },
    {
      "cell_type": "markdown",
      "metadata": {
        "id": "AMxROg326SNN"
      },
      "source": [
        "**Return to slides here.**"
      ]
    },
    {
      "cell_type": "markdown",
      "metadata": {
        "id": "N8ZxpgcN6SNO"
      },
      "source": [
        "### Matrix Inversion Where No Solution"
      ]
    },
    {
      "cell_type": "code",
      "metadata": {
        "id": "RYORHY4E6SNO",
        "colab": {
          "base_uri": "https://localhost:8080/"
        },
        "outputId": "ac15d9a5-90e8-4003-cd2e-1b2bccc6381c"
      },
      "source": [
        "X = np.array([[-4, 1], [-8, 2]])\n",
        "X"
      ],
      "execution_count": null,
      "outputs": [
        {
          "output_type": "execute_result",
          "data": {
            "text/plain": [
              "array([[-4,  1],\n",
              "       [-8,  2]])"
            ]
          },
          "metadata": {},
          "execution_count": 165
        }
      ]
    },
    {
      "cell_type": "code",
      "metadata": {
        "id": "o7GcISdI6SNP"
      },
      "source": [
        "# Uncommenting the following line results in a \"singular matrix\" error\n",
        "# Xinv = np.linalg.inv(X)"
      ],
      "execution_count": null,
      "outputs": []
    },
    {
      "cell_type": "markdown",
      "metadata": {
        "id": "uk485dwoI021"
      },
      "source": [
        "Feel free to try inverting a non-square matrix; this will throw an error too.\n",
        "\n",
        "**Return to slides here.**"
      ]
    },
    {
      "cell_type": "markdown",
      "metadata": {
        "id": "BXomEBoyDQyO"
      },
      "source": [
        "### Orthogonal Matrices\n",
        "\n",
        "These are the solutions to Exercises 3 and 4 on **orthogonal matrices** from the slides.\n",
        "\n",
        "For Exercise 3, to demonstrate the matrix $I_3$ has mutually orthogonal columns, we show that the dot product of any pair of columns is zero:"
      ]
    },
    {
      "cell_type": "code",
      "metadata": {
        "id": "-Un4Aq805HM1",
        "colab": {
          "base_uri": "https://localhost:8080/"
        },
        "outputId": "b3370a08-816a-4d36-a123-149db7fb661e"
      },
      "source": [
        "I = np.array([[1, 0, 0], [0, 1, 0], [0, 0, 1]])\n",
        "I"
      ],
      "execution_count": null,
      "outputs": [
        {
          "output_type": "execute_result",
          "data": {
            "text/plain": [
              "array([[1, 0, 0],\n",
              "       [0, 1, 0],\n",
              "       [0, 0, 1]])"
            ]
          },
          "metadata": {},
          "execution_count": 167
        }
      ]
    },
    {
      "cell_type": "code",
      "metadata": {
        "colab": {
          "base_uri": "https://localhost:8080/"
        },
        "id": "CUhMi2_IEyaI",
        "outputId": "0b7c751a-0cd2-49bb-dde5-8e3895d7a12d"
      },
      "source": [
        "column_1 = I[:,0]\n",
        "column_1"
      ],
      "execution_count": null,
      "outputs": [
        {
          "output_type": "execute_result",
          "data": {
            "text/plain": [
              "array([1, 0, 0])"
            ]
          },
          "metadata": {},
          "execution_count": 168
        }
      ]
    },
    {
      "cell_type": "code",
      "metadata": {
        "colab": {
          "base_uri": "https://localhost:8080/"
        },
        "id": "xsOtn-siE63K",
        "outputId": "a334201a-5e98-405b-d430-24e74307ac6d"
      },
      "source": [
        "column_2 = I[:,1]\n",
        "column_2"
      ],
      "execution_count": null,
      "outputs": [
        {
          "output_type": "execute_result",
          "data": {
            "text/plain": [
              "array([0, 1, 0])"
            ]
          },
          "metadata": {},
          "execution_count": 169
        }
      ]
    },
    {
      "cell_type": "code",
      "metadata": {
        "colab": {
          "base_uri": "https://localhost:8080/"
        },
        "id": "Pv3b51ExE9ZX",
        "outputId": "2cd0a54e-2440-4fef-ff71-c0c0401cc94f"
      },
      "source": [
        "column_3 = I[:,2]\n",
        "column_3"
      ],
      "execution_count": null,
      "outputs": [
        {
          "output_type": "execute_result",
          "data": {
            "text/plain": [
              "array([0, 0, 1])"
            ]
          },
          "metadata": {},
          "execution_count": 170
        }
      ]
    },
    {
      "cell_type": "code",
      "metadata": {
        "colab": {
          "base_uri": "https://localhost:8080/"
        },
        "id": "VhnRlc8eElYc",
        "outputId": "2473373b-936c-45e8-8ef2-a305351a9390"
      },
      "source": [
        "np.dot(column_1, column_2)"
      ],
      "execution_count": null,
      "outputs": [
        {
          "output_type": "execute_result",
          "data": {
            "text/plain": [
              "0"
            ]
          },
          "metadata": {},
          "execution_count": 171
        }
      ]
    },
    {
      "cell_type": "code",
      "metadata": {
        "colab": {
          "base_uri": "https://localhost:8080/"
        },
        "id": "mVq4m-LfFGjQ",
        "outputId": "d1b8a9b5-8b20-44d0-ce59-1a6b7ba05c2c"
      },
      "source": [
        "np.dot(column_1, column_3)"
      ],
      "execution_count": null,
      "outputs": [
        {
          "output_type": "execute_result",
          "data": {
            "text/plain": [
              "0"
            ]
          },
          "metadata": {},
          "execution_count": 172
        }
      ]
    },
    {
      "cell_type": "code",
      "metadata": {
        "colab": {
          "base_uri": "https://localhost:8080/"
        },
        "id": "nJj-aihzFILx",
        "outputId": "e11e422d-0268-4830-d840-22ebd21db873"
      },
      "source": [
        "np.dot(column_2, column_3)"
      ],
      "execution_count": null,
      "outputs": [
        {
          "output_type": "execute_result",
          "data": {
            "text/plain": [
              "0"
            ]
          },
          "metadata": {},
          "execution_count": 173
        }
      ]
    },
    {
      "cell_type": "markdown",
      "metadata": {
        "id": "FIzpkdJmFYdY"
      },
      "source": [
        "We can use the `np.linalg.norm()` method from earlier in the notebook to demonstrate that each column of $I_3$ has unit norm:"
      ]
    },
    {
      "cell_type": "code",
      "metadata": {
        "colab": {
          "base_uri": "https://localhost:8080/"
        },
        "id": "xKbbeqegFJSc",
        "outputId": "b496a162-a447-44b8-cad8-ce768afda24b"
      },
      "source": [
        "np.linalg.norm(column_1)"
      ],
      "execution_count": null,
      "outputs": [
        {
          "output_type": "execute_result",
          "data": {
            "text/plain": [
              "1.0"
            ]
          },
          "metadata": {},
          "execution_count": 174
        }
      ]
    },
    {
      "cell_type": "code",
      "metadata": {
        "colab": {
          "base_uri": "https://localhost:8080/"
        },
        "id": "Ycv0L8mpGKRC",
        "outputId": "1dad31ec-d76d-450c-ae53-4388241db990"
      },
      "source": [
        "np.linalg.norm(column_2)"
      ],
      "execution_count": null,
      "outputs": [
        {
          "output_type": "execute_result",
          "data": {
            "text/plain": [
              "1.0"
            ]
          },
          "metadata": {},
          "execution_count": 175
        }
      ]
    },
    {
      "cell_type": "code",
      "metadata": {
        "colab": {
          "base_uri": "https://localhost:8080/"
        },
        "id": "LsEuRezYGLgY",
        "outputId": "44d2899e-fef2-499f-9051-002e0b9deb33"
      },
      "source": [
        "np.linalg.norm(column_3)"
      ],
      "execution_count": null,
      "outputs": [
        {
          "output_type": "execute_result",
          "data": {
            "text/plain": [
              "1.0"
            ]
          },
          "metadata": {},
          "execution_count": 176
        }
      ]
    },
    {
      "cell_type": "markdown",
      "metadata": {
        "id": "NMrHdyrsGQ1X"
      },
      "source": [
        "Since the matrix $I_3$ has mutually orthogonal columns and each column has unit norm, the column vectors of $I_3$ are *orthonormal*. Since $I_3^T = I_3$, this means that the *rows* of $I_3$ must also be orthonormal.\n",
        "\n",
        "Since the columns and rows of $I_3$ are orthonormal, $I_3$ is an *orthogonal matrix*."
      ]
    },
    {
      "cell_type": "markdown",
      "metadata": {
        "id": "K7EykcPdIZhE"
      },
      "source": [
        "For Exercise 4, let's repeat the steps of Exercise 3 with matrix *K* instead of $I_3$. We could use NumPy again, but for fun I'll use PyTorch instead. (You're welcome to try it with TensorFlow if you feel so inclined.)"
      ]
    },
    {
      "cell_type": "code",
      "metadata": {
        "colab": {
          "base_uri": "https://localhost:8080/"
        },
        "id": "MXVyu8tSGMlZ",
        "outputId": "454c991b-1357-4a7e-f642-de51ad634095"
      },
      "source": [
        "K = torch.tensor([[2/3, 1/3, 2/3], [-2/3, 2/3, 1/3], [1/3, 2/3, -2/3]])\n",
        "K"
      ],
      "execution_count": null,
      "outputs": [
        {
          "output_type": "execute_result",
          "data": {
            "text/plain": [
              "tensor([[ 0.6667,  0.3333,  0.6667],\n",
              "        [-0.6667,  0.6667,  0.3333],\n",
              "        [ 0.3333,  0.6667, -0.6667]])"
            ]
          },
          "metadata": {},
          "execution_count": 177
        }
      ]
    },
    {
      "cell_type": "code",
      "metadata": {
        "colab": {
          "base_uri": "https://localhost:8080/"
        },
        "id": "xqkmSYNfJmTs",
        "outputId": "5b314b21-1200-45f0-b9ee-02ff3a76319f"
      },
      "source": [
        "Kcol_1 = K[:,0]\n",
        "Kcol_1"
      ],
      "execution_count": null,
      "outputs": [
        {
          "output_type": "execute_result",
          "data": {
            "text/plain": [
              "tensor([ 0.6667, -0.6667,  0.3333])"
            ]
          },
          "metadata": {},
          "execution_count": 178
        }
      ]
    },
    {
      "cell_type": "code",
      "metadata": {
        "colab": {
          "base_uri": "https://localhost:8080/"
        },
        "id": "ncoc3IxNJ0v2",
        "outputId": "9c0de5c0-1311-4d2a-f2a8-c8b035799afe"
      },
      "source": [
        "Kcol_2 = K[:,1]\n",
        "Kcol_2"
      ],
      "execution_count": null,
      "outputs": [
        {
          "output_type": "execute_result",
          "data": {
            "text/plain": [
              "tensor([0.3333, 0.6667, 0.6667])"
            ]
          },
          "metadata": {},
          "execution_count": 179
        }
      ]
    },
    {
      "cell_type": "code",
      "metadata": {
        "colab": {
          "base_uri": "https://localhost:8080/"
        },
        "id": "ISEKQ0AqJ2wf",
        "outputId": "beaa5849-4d3c-4af7-cead-e4cd90faee99"
      },
      "source": [
        "Kcol_3 = K[:,2]\n",
        "Kcol_3"
      ],
      "execution_count": null,
      "outputs": [
        {
          "output_type": "execute_result",
          "data": {
            "text/plain": [
              "tensor([ 0.6667,  0.3333, -0.6667])"
            ]
          },
          "metadata": {},
          "execution_count": 180
        }
      ]
    },
    {
      "cell_type": "code",
      "metadata": {
        "colab": {
          "base_uri": "https://localhost:8080/"
        },
        "id": "jvdXuMzbJ44d",
        "outputId": "8c35ee3b-9dbd-4a2e-c11a-857fa688d535"
      },
      "source": [
        "torch.dot(Kcol_1, Kcol_2)"
      ],
      "execution_count": null,
      "outputs": [
        {
          "output_type": "execute_result",
          "data": {
            "text/plain": [
              "tensor(0.)"
            ]
          },
          "metadata": {},
          "execution_count": 181
        }
      ]
    },
    {
      "cell_type": "code",
      "metadata": {
        "colab": {
          "base_uri": "https://localhost:8080/"
        },
        "id": "BUR60eBuKEbU",
        "outputId": "abd95aa8-5557-4b29-871a-e09409095f62"
      },
      "source": [
        "torch.dot(Kcol_1, Kcol_3)"
      ],
      "execution_count": null,
      "outputs": [
        {
          "output_type": "execute_result",
          "data": {
            "text/plain": [
              "tensor(0.)"
            ]
          },
          "metadata": {},
          "execution_count": 182
        }
      ]
    },
    {
      "cell_type": "code",
      "metadata": {
        "colab": {
          "base_uri": "https://localhost:8080/"
        },
        "id": "Rg7QvQwuKGJZ",
        "outputId": "bf55069c-186d-4a53-9b68-84b42e5e4454"
      },
      "source": [
        "torch.dot(Kcol_2, Kcol_3)"
      ],
      "execution_count": null,
      "outputs": [
        {
          "output_type": "execute_result",
          "data": {
            "text/plain": [
              "tensor(0.)"
            ]
          },
          "metadata": {},
          "execution_count": 183
        }
      ]
    },
    {
      "cell_type": "markdown",
      "metadata": {
        "id": "wNdV36-QKNK-"
      },
      "source": [
        "We've now determined that the columns of $K$ are orthogonal."
      ]
    },
    {
      "cell_type": "code",
      "metadata": {
        "colab": {
          "base_uri": "https://localhost:8080/"
        },
        "id": "DDgyhj1AKHdS",
        "outputId": "ae72ed8b-2617-4cd4-91ec-7c94a1ab94d7"
      },
      "source": [
        "torch.norm(Kcol_1)"
      ],
      "execution_count": null,
      "outputs": [
        {
          "output_type": "execute_result",
          "data": {
            "text/plain": [
              "tensor(1.)"
            ]
          },
          "metadata": {},
          "execution_count": 184
        }
      ]
    },
    {
      "cell_type": "code",
      "metadata": {
        "colab": {
          "base_uri": "https://localhost:8080/"
        },
        "id": "KvQZy_E2KorW",
        "outputId": "10824173-467d-45c4-e931-4e65bec68229"
      },
      "source": [
        "torch.norm(Kcol_2)"
      ],
      "execution_count": null,
      "outputs": [
        {
          "output_type": "execute_result",
          "data": {
            "text/plain": [
              "tensor(1.)"
            ]
          },
          "metadata": {},
          "execution_count": 185
        }
      ]
    },
    {
      "cell_type": "code",
      "metadata": {
        "colab": {
          "base_uri": "https://localhost:8080/"
        },
        "id": "7H7dx8a7Kp9f",
        "outputId": "7de33d74-e385-4542-9dd7-375ae744a50a"
      },
      "source": [
        "torch.norm(Kcol_3)"
      ],
      "execution_count": null,
      "outputs": [
        {
          "output_type": "execute_result",
          "data": {
            "text/plain": [
              "tensor(1.)"
            ]
          },
          "metadata": {},
          "execution_count": 186
        }
      ]
    },
    {
      "cell_type": "markdown",
      "metadata": {
        "id": "VPPtOk5OKtJ_"
      },
      "source": [
        "We've now determined that, in addition to being orthogonal, the columns of $K$ have unit norm, therefore they are orthonormal.\n",
        "\n",
        "To ensure that $K$ is an orthogonal matrix, we would need to show that not only does it have orthonormal columns but it has orthonormal rows are as well. Since $K^T \\neq K$, we can't prove this quite as straightforwardly as we did with $I_3$.\n",
        "\n",
        "One approach would be to repeat the steps we used to determine that $K$ has orthogonal columns with all of the matrix's rows (please feel free to do so). Alternatively, we can use an orthogonal matrix-specific equation from the slides, $A^TA = I$, to demonstrate that $K$ is orthogonal in a single line of code:"
      ]
    },
    {
      "cell_type": "code",
      "metadata": {
        "colab": {
          "base_uri": "https://localhost:8080/"
        },
        "id": "W8Ao0KhVNHqF",
        "outputId": "3a3ae6c8-91c3-456a-9060-5b6e0524cde6"
      },
      "source": [
        "torch.matmul(K.T, K)"
      ],
      "execution_count": null,
      "outputs": [
        {
          "output_type": "execute_result",
          "data": {
            "text/plain": [
              "tensor([[ 1.0000e+00, -3.3114e-09,  3.3114e-09],\n",
              "        [-3.3114e-09,  1.0000e+00,  6.6227e-09],\n",
              "        [ 3.3114e-09,  6.6227e-09,  1.0000e+00]])"
            ]
          },
          "metadata": {},
          "execution_count": 187
        }
      ]
    },
    {
      "cell_type": "markdown",
      "metadata": {
        "id": "scM6FCpjNgYA"
      },
      "source": [
        "Notwithstanding rounding errors that we can safely ignore, this confirms that $K^TK = I$ and therefore $K$ is an orthogonal matrix."
      ]
=======
  {
   "cell_type": "markdown",
   "metadata": {
    "id": "aTOLgsbN69-P"
   },
   "source": [
    "# Intro to Linear Algebra"
   ]
  },
  {
   "cell_type": "markdown",
   "metadata": {
    "id": "yqUB9FTRAxd-"
   },
   "source": [
    "This topic, *Intro to Linear Algebra*, is the first in the *Machine Learning Foundations* series.\n",
    "\n",
    "It is essential because linear algebra lies at the heart of most machine learning approaches and is especially predominant in deep learning, the branch of ML at the forefront of today’s artificial intelligence advances. Through the measured exposition of theory paired with interactive examples, you’ll develop an understanding of how linear algebra is used to solve for unknown values in high-dimensional spaces, thereby enabling machines to recognize patterns and make predictions.\n",
    "\n",
    "The content covered in *Intro to Linear Algebra* is itself foundational for all the other topics in the Machine Learning Foundations series and it is especially relevant to *Linear Algebra II*."
   ]
  },
  {
   "cell_type": "markdown",
   "metadata": {
    "id": "d4tBvI88BheF"
   },
   "source": [
    "Over the course of studying this topic, you'll:\n",
    "\n",
    "* Understand the fundamentals of linear algebra, a ubiquitous approach for solving for unknowns within high-dimensional spaces.\n",
    "\n",
    "* Develop a geometric intuition of what’s going on beneath the hood of machine learning algorithms, including those used for deep learning.\n",
    "* Be able to more intimately grasp the details of machine learning papers as well as all of the other subjects that underlie ML, including calculus, statistics, and optimization algorithms."
   ]
  },
  {
   "cell_type": "markdown",
   "metadata": {
    "id": "Z68nQ0ekCYhF"
   },
   "source": [
    "**Note that this Jupyter notebook is not intended to stand alone. It is the companion code to a lecture or to videos from Jon Krohn's [Machine Learning Foundations](https://github.com/jonkrohn/ML-foundations) series, which offer detail on the following:**\n",
    "\n",
    "*Segment 1: Data Structures for Algebra*\n",
    "\n",
    "* What Linear Algebra Is  \n",
    "* A Brief History of Algebra\n",
    "* Tensors\n",
    "* Scalars\n",
    "* Vectors and Vector Transposition\n",
    "* Norms and Unit Vectors\n",
    "* Basis, Orthogonal, and Orthonormal Vectors\n",
    "* Arrays in NumPy  \n",
    "* Matrices\n",
    "* Tensors in TensorFlow and PyTorch\n",
    "\n",
    "*Segment 2: Common Tensor Operations*\n",
    "\n",
    "* Tensor Transposition\n",
    "* Basic Tensor Arithmetic\n",
    "* Reduction\n",
    "* The Dot Product\n",
    "* Solving Linear Systems\n",
    "\n",
    "*Segment 3: Matrix Properties*\n",
    "\n",
    "* The Frobenius Norm\n",
    "* Matrix Multiplication\n",
    "* Symmetric and Identity Matrices\n",
    "* Matrix Inversion\n",
    "* Diagonal Matrices\n",
    "* Orthogonal Matrices\n"
   ]
  },
  {
   "cell_type": "markdown",
   "metadata": {
    "id": "2khww76J5w9n"
   },
   "source": [
    "## Segment 1: Data Structures for Algebra\n",
    "\n",
    "**Slides used to begin segment, with focus on introducing what linear algebra is, including hands-on paper and pencil exercises.**"
   ]
  },
  {
   "cell_type": "markdown",
   "metadata": {
    "id": "niG_MgK-iV6K"
   },
   "source": [
    "### What Linear Algebra Is"
   ]
  },
  {
   "cell_type": "markdown",
   "metadata": {},
   "source": [
    "Markdown\n",
    "    !pip install torch\n",
    "    !pip install tensorflow"
   ]
  },
  {
   "cell_type": "code",
   "execution_count": 2,
   "metadata": {
    "id": "LApX90aliab_"
   },
   "outputs": [],
   "source": [
    "import numpy as np\n",
    "import matplotlib.pyplot as plt"
   ]
  },
  {
   "cell_type": "code",
   "execution_count": 3,
   "metadata": {
    "id": "E4odh9Shic1S"
   },
   "outputs": [],
   "source": [
    "t = np.linspace(0, 40, 1000) # start, finish, n points"
   ]
  },
  {
   "cell_type": "markdown",
   "metadata": {
    "id": "N-tYny12nIyO"
   },
   "source": [
    "Distance travelled by robber: $d = 2.5t$"
   ]
  },
  {
   "cell_type": "code",
   "execution_count": 4,
   "metadata": {
    "id": "e_zDOxgHiezz"
   },
   "outputs": [],
   "source": [
    "d_r = 2.5 * t"
   ]
  },
  {
   "cell_type": "markdown",
   "metadata": {
    "id": "djVjXZy-nPaR"
   },
   "source": [
    "Distance travelled by sheriff: $d = 3(t-5)$"
   ]
  },
  {
   "cell_type": "code",
   "execution_count": 5,
   "metadata": {
    "id": "JtaNeYSCifrI"
   },
   "outputs": [],
   "source": [
    "d_s = 3 * (t-5)"
   ]
  },
  {
   "cell_type": "code",
   "execution_count": 6,
   "metadata": {
    "colab": {
     "base_uri": "https://localhost:8080/",
     "height": 472
    },
    "id": "SaaIjJSEigic",
    "outputId": "c354282a-095b-4318-de3a-f26e4c45e354"
   },
   "outputs": [
    {
     "data": {
      "image/png": "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",
      "text/plain": [
       "<Figure size 640x480 with 1 Axes>"
      ]
     },
     "metadata": {},
     "output_type": "display_data"
>>>>>>> 9df8a62 (adding local cmd and updates to notebook)
    }
   ],
   "source": [
    "fig, ax = plt.subplots()\n",
    "plt.title('A Bank Robber Caught')\n",
    "plt.xlabel('time (in minutes)')\n",
    "plt.ylabel('distance (in km)')\n",
    "ax.set_xlim([0, 40])\n",
    "ax.set_ylim([0, 100])\n",
    "ax.plot(t, d_r, c='green')\n",
    "ax.plot(t, d_s, c='brown')\n",
    "plt.axvline(x=30, color='purple', linestyle='--')\n",
    "_ = plt.axhline(y=75, color='purple', linestyle='--')"
   ]
  },
  {
   "cell_type": "markdown",
   "metadata": {
    "id": "kpwZw64EYfs6"
   },
   "source": [
    "**Return to slides here.**"
   ]
  },
  {
   "cell_type": "markdown",
   "metadata": {
    "id": "NgGMhK4B51oe"
   },
   "source": [
    "### Scalars (Rank 0 Tensors) in Base Python"
   ]
  },
  {
   "cell_type": "code",
   "execution_count": 190,
   "metadata": {
    "colab": {
     "base_uri": "https://localhost:8080/"
    },
    "id": "ZXnTHDn_EW6b",
    "outputId": "02e2301e-5913-47d0-a31d-aaf344084770"
   },
   "outputs": [
    {
     "data": {
      "text/plain": [
       "42"
      ]
     },
     "execution_count": 190,
     "metadata": {},
     "output_type": "execute_result"
    }
   ],
   "source": [
    "# Create/define a scalar-tensor; Zero dimension \n",
    "# x = 25\n",
    "x = 42 # Just because it is the answer to all the questions \n",
    "x"
   ]
  },
  {
   "cell_type": "code",
   "execution_count": 191,
   "metadata": {
    "colab": {
     "base_uri": "https://localhost:8080/"
    },
    "id": "VF8Jam76R4KJ",
    "outputId": "d5bb3326-7b99-4489-d7dc-386cb76ba951"
   },
   "outputs": [
    {
     "data": {
      "text/plain": [
       "int"
      ]
     },
     "execution_count": 191,
     "metadata": {},
     "output_type": "execute_result"
    }
   ],
   "source": [
    "type(x) # if we'd like more specificity (e.g., int16, uint8), we need NumPy or another numeric library"
   ]
  },
  {
   "cell_type": "code",
   "execution_count": 192,
   "metadata": {
    "id": "ZBzYlL0mRd-P"
   },
   "outputs": [],
   "source": [
    "y = 3"
   ]
  },
  {
   "cell_type": "code",
   "execution_count": 193,
   "metadata": {
    "colab": {
     "base_uri": "https://localhost:8080/"
    },
    "id": "1i-hW0bcReyy",
    "outputId": "ae377616-ba20-4b4b-938b-178a10bf8ff4"
   },
   "outputs": [
    {
     "data": {
      "text/plain": [
       "45"
      ]
     },
     "execution_count": 193,
     "metadata": {},
     "output_type": "execute_result"
    }
   ],
   "source": [
    "py_sum = x + y\n",
    "py_sum"
   ]
  },
  {
   "cell_type": "code",
   "execution_count": 194,
   "metadata": {
    "colab": {
     "base_uri": "https://localhost:8080/"
    },
    "id": "CpyUxB6XRk6y",
    "outputId": "f5fe891a-b958-4b2a-d87d-1e103ca2ca76"
   },
   "outputs": [
    {
     "data": {
      "text/plain": [
       "int"
      ]
     },
     "execution_count": 194,
     "metadata": {},
     "output_type": "execute_result"
    }
   ],
   "source": [
    "type(py_sum)"
   ]
  },
  {
   "cell_type": "code",
   "execution_count": 195,
   "metadata": {
    "colab": {
     "base_uri": "https://localhost:8080/"
    },
    "id": "V2UiLj-JR8Ij",
    "outputId": "8a1a49bb-88e3-47ba-a1c9-a03136330b6d"
   },
   "outputs": [
    {
     "data": {
      "text/plain": [
       "28.0"
      ]
     },
     "execution_count": 195,
     "metadata": {},
     "output_type": "execute_result"
    }
   ],
   "source": [
    "x_float = 25.0\n",
    "float_sum = x_float + y\n",
    "float_sum"
   ]
  },
  {
   "cell_type": "code",
   "execution_count": 196,
   "metadata": {
    "colab": {
     "base_uri": "https://localhost:8080/"
    },
    "id": "ikOwjp6ASCaf",
    "outputId": "691b7803-b978-4598-c804-3ef53193f0cd"
   },
   "outputs": [
    {
     "data": {
      "text/plain": [
       "float"
      ]
     },
     "execution_count": 196,
     "metadata": {},
     "output_type": "execute_result"
    }
   ],
   "source": [
    "type(float_sum)"
   ]
  },
  {
   "cell_type": "markdown",
   "metadata": {
    "id": "SgUvioyUz8T2"
   },
   "source": [
    "### Scalars in PyTorch\n",
    "\n",
    "* PyTorch and TensorFlow are the two most popular *automatic differentiation* libraries (a focus of the [*Calculus I*](https://github.com/jonkrohn/ML-foundations/blob/master/notebooks/3-calculus-i.ipynb) and [*Calculus II*](https://github.com/jonkrohn/ML-foundations/blob/master/notebooks/4-calculus-ii.ipynb) subjects in the *ML Foundations* series) in Python, itself the most popular programming language in ML.\n",
    "* PyTorch tensors are designed to be pythonic, i.e., to feel and behave like NumPy arrays.\n",
    "* The advantage of PyTorch tensors relative to NumPy arrays is that they easily be used for operations on GPU (see [here](https://pytorch.org/tutorials/beginner/examples_tensor/two_layer_net_tensor.html) for example).\n",
    "* Documentation on PyTorch tensors, including available data types, is [here](https://pytorch.org/docs/stable/tensors.html)."
   ]
  },
  {
   "cell_type": "code",
   "execution_count": 14,
   "metadata": {
    "id": "A9Hhazt2zKeD"
   },
   "outputs": [],
   "source": [
    "import torch"
   ]
  },
  {
   "cell_type": "code",
   "execution_count": 15,
   "metadata": {
    "colab": {
     "base_uri": "https://localhost:8080/"
    },
    "id": "a211IRW_0-iY",
    "outputId": "18107a49-adb2-45c8-ba6f-1851beeb75af"
   },
   "outputs": [
    {
     "data": {
      "text/plain": [
       "tensor(25)"
      ]
     },
     "execution_count": 15,
     "metadata": {},
     "output_type": "execute_result"
    }
   ],
   "source": [
    "x_pt = torch.tensor(25) # type specification optional, e.g.: dtype=torch.float16\n",
    "x_pt"
   ]
  },
  {
   "cell_type": "code",
   "execution_count": 16,
   "metadata": {
    "colab": {
     "base_uri": "https://localhost:8080/"
    },
    "id": "LvxzMa_HhUNB",
    "outputId": "9a3a10fe-7a4f-427c-cfb3-1311fe2ea511"
   },
   "outputs": [
    {
     "data": {
      "text/plain": [
       "torch.Size([])"
      ]
     },
     "execution_count": 16,
     "metadata": {},
     "output_type": "execute_result"
    }
   ],
   "source": [
    "x_pt.shape"
   ]
  },
  {
   "cell_type": "markdown",
   "metadata": {
    "id": "eUyuZXlWS8T9"
   },
   "source": [
    "### Scalars in TensorFlow (version 2.0 or later)\n",
    "\n",
    "Tensors created with a wrapper, all of which [you can read about here](https://www.tensorflow.org/guide/tensor):  \n",
    "\n",
    "* `tf.Variable`\n",
    "* `tf.constant`\n",
    "* `tf.placeholder`\n",
    "* `tf.SparseTensor`\n",
    "\n",
    "Most widely-used is `tf.Variable`, which we'll use here.\n",
    "\n",
    "As with TF tensors, in PyTorch we can similarly perform operations, and we can easily convert to and from NumPy arrays.\n",
    "\n",
    "Also, a full list of tensor data types is available [here](https://www.tensorflow.org/api_docs/python/tf/dtypes/DType)."
   ]
  },
  {
   "cell_type": "code",
   "execution_count": 17,
   "metadata": {
    "id": "CHBYse_MEqZM"
   },
   "outputs": [],
   "source": [
    "import tensorflow as tf"
   ]
  },
  {
   "cell_type": "code",
   "execution_count": 18,
   "metadata": {
    "colab": {
     "base_uri": "https://localhost:8080/"
    },
    "id": "sDv92Nh-NSOU",
    "outputId": "33521159-174d-4b14-89b3-495c8bf205da"
   },
   "outputs": [
    {
     "data": {
      "text/plain": [
       "<tf.Variable 'Variable:0' shape=() dtype=int16, numpy=25>"
      ]
     },
     "execution_count": 18,
     "metadata": {},
     "output_type": "execute_result"
    }
   ],
   "source": [
    "x_tf = tf.Variable(25, dtype=tf.int16) # dtype is optional\n",
    "x_tf"
   ]
  },
  {
   "cell_type": "code",
   "execution_count": 19,
   "metadata": {
    "colab": {
     "base_uri": "https://localhost:8080/"
    },
    "id": "EmPMBIV9RQjS",
    "outputId": "d104c2a4-e776-4b61-82d4-8b23c9ada5f7"
   },
   "outputs": [
    {
     "data": {
      "text/plain": [
       "TensorShape([])"
      ]
     },
     "execution_count": 19,
     "metadata": {},
     "output_type": "execute_result"
    }
   ],
   "source": [
    "x_tf.shape"
   ]
  },
  {
   "cell_type": "code",
   "execution_count": 20,
   "metadata": {
    "id": "mEILtO9pPctO"
   },
   "outputs": [],
   "source": [
    "y_tf = tf.Variable(3, dtype=tf.int16)"
   ]
  },
  {
   "cell_type": "code",
   "execution_count": 21,
   "metadata": {
    "colab": {
     "base_uri": "https://localhost:8080/"
    },
    "id": "dvvWuaw6Ph_D",
    "outputId": "928a5ae6-d456-453f-a695-1704f9654b3d"
   },
   "outputs": [
    {
     "data": {
      "text/plain": [
       "<tf.Tensor: shape=(), dtype=int16, numpy=28>"
      ]
     },
     "execution_count": 21,
     "metadata": {},
     "output_type": "execute_result"
    }
   ],
   "source": [
    "x_tf + y_tf"
   ]
  },
  {
   "cell_type": "code",
   "execution_count": 22,
   "metadata": {
    "colab": {
     "base_uri": "https://localhost:8080/"
    },
    "id": "JZVhRnX9RUGW",
    "outputId": "7170b45f-858e-4497-848a-92bada682572"
   },
   "outputs": [
    {
     "data": {
      "text/plain": [
       "<tf.Tensor: shape=(), dtype=int16, numpy=28>"
      ]
     },
     "execution_count": 22,
     "metadata": {},
     "output_type": "execute_result"
    }
   ],
   "source": [
    "tf_sum = tf.add(x_tf, y_tf)\n",
    "tf_sum"
   ]
  },
  {
   "cell_type": "code",
   "execution_count": 23,
   "metadata": {
    "colab": {
     "base_uri": "https://localhost:8080/"
    },
    "id": "sVbMxT1Ey6Y3",
    "outputId": "63b9e20e-724f-4b10-960b-79635d034d4c"
   },
   "outputs": [
    {
     "data": {
      "text/plain": [
       "np.int16(28)"
      ]
     },
     "execution_count": 23,
     "metadata": {},
     "output_type": "execute_result"
    }
   ],
   "source": [
    "tf_sum.numpy() # note that NumPy operations automatically convert tensors to NumPy arrays, and vice versa"
   ]
  },
  {
   "cell_type": "code",
   "execution_count": 24,
   "metadata": {
    "colab": {
     "base_uri": "https://localhost:8080/"
    },
    "id": "LXpv69t0y-f6",
    "outputId": "d728326e-38d4-48ae-9224-925febcec085"
   },
   "outputs": [
    {
     "data": {
      "text/plain": [
       "numpy.int16"
      ]
     },
     "execution_count": 24,
     "metadata": {},
     "output_type": "execute_result"
    }
   ],
   "source": [
    "type(tf_sum.numpy())"
   ]
  },
  {
   "cell_type": "code",
   "execution_count": 25,
   "metadata": {
    "colab": {
     "base_uri": "https://localhost:8080/"
    },
    "id": "VszuTUAg1uXk",
    "outputId": "cf5b7af9-3f1c-4ed4-dff1-dc8459d90567"
   },
   "outputs": [
    {
     "data": {
      "text/plain": [
       "<tf.Variable 'Variable:0' shape=() dtype=float16, numpy=25.0>"
      ]
     },
     "execution_count": 25,
     "metadata": {},
     "output_type": "execute_result"
    }
   ],
   "source": [
    "tf_float = tf.Variable(25., dtype=tf.float16)\n",
    "tf_float"
   ]
  },
  {
   "cell_type": "markdown",
   "metadata": {
    "id": "B5VRGo1H6010"
   },
   "source": [
    "**Return to slides here.**"
   ]
  },
  {
   "cell_type": "markdown",
   "metadata": {
    "id": "4CURG9Er6aZI"
   },
   "source": [
    "### Vectors (Rank 1 Tensors) in NumPy"
   ]
  },
  {
   "cell_type": "code",
   "execution_count": 26,
   "metadata": {
    "colab": {
     "base_uri": "https://localhost:8080/"
    },
    "id": "T9ME4kBr4wg0",
    "outputId": "fe23648e-9fda-4e84-8c45-d05852642b1f"
   },
   "outputs": [
    {
     "data": {
      "text/plain": [
       "array([25,  2,  5])"
      ]
     },
     "execution_count": 26,
     "metadata": {},
     "output_type": "execute_result"
    }
   ],
   "source": [
    "x = np.array([25, 2, 5]) # type argument is optional, e.g.: dtype=np.float16\n",
    "x"
   ]
  },
  {
   "cell_type": "code",
   "execution_count": 27,
   "metadata": {
    "colab": {
     "base_uri": "https://localhost:8080/"
    },
    "id": "ZuotxmlZL2wp",
    "outputId": "46573b45-8ff1-4d80-a0be-11322fc7a7e6"
   },
   "outputs": [
    {
     "data": {
      "text/plain": [
       "3"
      ]
     },
     "execution_count": 27,
     "metadata": {},
     "output_type": "execute_result"
    }
   ],
   "source": [
    "len(x)"
   ]
  },
  {
   "cell_type": "code",
   "execution_count": 28,
   "metadata": {
    "colab": {
     "base_uri": "https://localhost:8080/"
    },
    "id": "OlPYy6GOaIVy",
    "outputId": "b9e7b1d6-c780-4fad-8737-0e7c7dfc3353"
   },
   "outputs": [
    {
     "data": {
      "text/plain": [
       "(3,)"
      ]
     },
     "execution_count": 28,
     "metadata": {},
     "output_type": "execute_result"
    }
   ],
   "source": [
    "x.shape"
   ]
  },
  {
   "cell_type": "code",
   "execution_count": 29,
   "metadata": {
    "colab": {
     "base_uri": "https://localhost:8080/"
    },
    "id": "sWbYGwObcgtK",
    "outputId": "489b8c9a-0a29-40e2-f294-09216be93fac"
   },
   "outputs": [
    {
     "data": {
      "text/plain": [
       "numpy.ndarray"
      ]
     },
     "execution_count": 29,
     "metadata": {},
     "output_type": "execute_result"
    }
   ],
   "source": [
    "type(x)"
   ]
  },
  {
   "cell_type": "code",
   "execution_count": 30,
   "metadata": {
    "colab": {
     "base_uri": "https://localhost:8080/"
    },
    "id": "ME_xuvD_oTPg",
    "outputId": "36265cc4-43b2-4510-d296-a0b7d6846979"
   },
   "outputs": [
    {
     "data": {
      "text/plain": [
       "np.int64(25)"
      ]
     },
     "execution_count": 30,
     "metadata": {},
     "output_type": "execute_result"
    }
   ],
   "source": [
    "x[0] # zero-indexed"
   ]
  },
  {
   "cell_type": "code",
   "execution_count": 31,
   "metadata": {
    "colab": {
     "base_uri": "https://localhost:8080/"
    },
    "id": "hXmBHZQ-nxFw",
    "outputId": "ddb7f5f0-a04b-437d-fda8-5d9c8503ab2e"
   },
   "outputs": [
    {
     "data": {
      "text/plain": [
       "numpy.int64"
      ]
     },
     "execution_count": 31,
     "metadata": {},
     "output_type": "execute_result"
    }
   ],
   "source": [
    "type(x[0])"
   ]
  },
  {
   "cell_type": "markdown",
   "metadata": {
    "id": "NiEofCzYZBrQ"
   },
   "source": [
    "### Vector Transposition"
   ]
  },
  {
   "cell_type": "code",
   "execution_count": 32,
   "metadata": {
    "colab": {
     "base_uri": "https://localhost:8080/"
    },
    "id": "hxGFNDx6V95l",
    "outputId": "c76eb8db-2df5-41d3-ef83-87df72f7a4d7"
   },
   "outputs": [
    {
     "data": {
      "text/plain": [
       "array([25,  2,  5])"
      ]
     },
     "execution_count": 32,
     "metadata": {},
     "output_type": "execute_result"
    }
   ],
   "source": [
    "# Transposing a regular 1-D array has no effect...\n",
    "x_t = x.T\n",
    "x_t"
   ]
  },
  {
   "cell_type": "code",
   "execution_count": 33,
   "metadata": {
    "colab": {
     "base_uri": "https://localhost:8080/"
    },
    "id": "_f8E9ExDWw4p",
    "outputId": "024104e6-7d16-49f9-e886-e1c9a08c756f"
   },
   "outputs": [
    {
     "data": {
      "text/plain": [
       "(3,)"
      ]
     },
     "execution_count": 33,
     "metadata": {},
     "output_type": "execute_result"
    }
   ],
   "source": [
    "x_t.shape"
   ]
  },
  {
   "cell_type": "code",
   "execution_count": 34,
   "metadata": {
    "colab": {
     "base_uri": "https://localhost:8080/"
    },
    "id": "AEd8jB7YcgtT",
    "outputId": "b5489d91-8f91-4582-e990-0d02ecdd4095"
   },
   "outputs": [
    {
     "data": {
      "text/plain": [
       "array([[25,  2,  5]])"
      ]
     },
     "execution_count": 34,
     "metadata": {},
     "output_type": "execute_result"
    }
   ],
   "source": [
    "# ...but it does we use nested \"matrix-style\" brackets:\n",
    "y = np.array([[25, 2, 5]])\n",
    "y"
   ]
  },
  {
   "cell_type": "code",
   "execution_count": 35,
   "metadata": {
    "colab": {
     "base_uri": "https://localhost:8080/"
    },
    "id": "UHQd92oRcgtV",
    "outputId": "19065b81-34fa-41ba-b65c-7f65efca1478"
   },
   "outputs": [
    {
     "data": {
      "text/plain": [
       "(1, 3)"
      ]
     },
     "execution_count": 35,
     "metadata": {},
     "output_type": "execute_result"
    }
   ],
   "source": [
    "y.shape"
   ]
  },
  {
   "cell_type": "code",
   "execution_count": 36,
   "metadata": {
    "colab": {
     "base_uri": "https://localhost:8080/"
    },
    "id": "SPi1JqGEXXUc",
    "outputId": "12f118dd-a5bd-491e-9e1f-73f4a265426c"
   },
   "outputs": [
    {
     "data": {
      "text/plain": [
       "array([[25],\n",
       "       [ 2],\n",
       "       [ 5]])"
      ]
     },
     "execution_count": 36,
     "metadata": {},
     "output_type": "execute_result"
    }
   ],
   "source": [
    "# ...but can transpose a matrix with a dimension of length 1, which is mathematically equivalent:\n",
    "y_t = y.T\n",
    "y_t"
   ]
  },
  {
   "cell_type": "code",
   "execution_count": 37,
   "metadata": {
    "colab": {
     "base_uri": "https://localhost:8080/"
    },
    "id": "6rzUv762Yjis",
    "outputId": "39c8296e-f074-4010-dc21-b79325a8ac3a"
   },
   "outputs": [
    {
     "data": {
      "text/plain": [
       "(3, 1)"
      ]
     },
     "execution_count": 37,
     "metadata": {},
     "output_type": "execute_result"
    }
   ],
   "source": [
    "y_t.shape # this is a column vector as it has 3 rows and 1 column"
   ]
  },
  {
   "cell_type": "code",
   "execution_count": 38,
   "metadata": {
    "colab": {
     "base_uri": "https://localhost:8080/"
    },
    "id": "xVnQMLOrYtra",
    "outputId": "2117f2c2-dc95-42c9-af92-507f5b1a97ec"
   },
   "outputs": [
    {
     "data": {
      "text/plain": [
       "array([[25,  2,  5]])"
      ]
     },
     "execution_count": 38,
     "metadata": {},
     "output_type": "execute_result"
    }
   ],
   "source": [
    "# Column vector can be transposed back to original row vector:\n",
    "y_t.T"
   ]
  },
  {
   "cell_type": "code",
   "execution_count": 39,
   "metadata": {
    "colab": {
     "base_uri": "https://localhost:8080/"
    },
    "id": "QIAA2NLRZIXC",
    "outputId": "8f77c7c5-7fe1-49ae-d4cd-dc232ef944f4"
   },
   "outputs": [
    {
     "data": {
      "text/plain": [
       "(1, 3)"
      ]
     },
     "execution_count": 39,
     "metadata": {},
     "output_type": "execute_result"
    }
   ],
   "source": [
    "y_t.T.shape"
   ]
  },
  {
   "cell_type": "markdown",
   "metadata": {
    "id": "Voj26mSpZLuh"
   },
   "source": [
    "### Zero Vectors\n",
    "\n",
    "Have no effect if added to another vector"
   ]
  },
  {
   "cell_type": "code",
   "execution_count": 40,
   "metadata": {
    "colab": {
     "base_uri": "https://localhost:8080/"
    },
    "id": "-46AbOdkZVn_",
    "outputId": "48e0ffe6-6c0b-40b9-ca08-1a68178da82b"
   },
   "outputs": [
    {
     "data": {
      "text/plain": [
       "array([0., 0., 0.])"
      ]
     },
     "execution_count": 40,
     "metadata": {},
     "output_type": "execute_result"
    }
   ],
   "source": [
    "z = np.zeros(3)\n",
    "z"
   ]
  },
  {
   "cell_type": "markdown",
   "metadata": {
    "id": "c6xyYiwSnSGC"
   },
   "source": [
    "### Vectors in PyTorch and TensorFlow"
   ]
  },
  {
   "cell_type": "code",
   "execution_count": 41,
   "metadata": {
    "colab": {
     "base_uri": "https://localhost:8080/"
    },
    "id": "s2TGDeqXnitZ",
    "outputId": "dca2930e-9dc8-4db3-bff1-7a0771b0be76"
   },
   "outputs": [
    {
     "data": {
      "text/plain": [
       "tensor([25,  2,  5])"
      ]
     },
     "execution_count": 41,
     "metadata": {},
     "output_type": "execute_result"
    }
   ],
   "source": [
    "x_pt = torch.tensor([25, 2, 5])\n",
    "x_pt"
   ]
  },
  {
   "cell_type": "code",
   "execution_count": 42,
   "metadata": {
    "colab": {
     "base_uri": "https://localhost:8080/"
    },
    "id": "-0jbHgc5iijG",
    "outputId": "6c7b8c17-b848-44d2-8ba0-da1296a2d0c4",
    "scrolled": true
   },
   "outputs": [
    {
     "data": {
      "text/plain": [
       "<tf.Variable 'Variable:0' shape=(3,) dtype=int32, numpy=array([25,  2,  5], dtype=int32)>"
      ]
     },
     "execution_count": 42,
     "metadata": {},
     "output_type": "execute_result"
    }
   ],
   "source": [
    "x_tf = tf.Variable([25, 2, 5])\n",
    "x_tf"
   ]
  },
  {
   "cell_type": "markdown",
   "metadata": {
    "id": "rTDDta1Ro4Pf"
   },
   "source": [
    "**Return to slides here.**"
   ]
  },
  {
   "cell_type": "markdown",
   "metadata": {
    "id": "8fU5qVTI6SLD"
   },
   "source": [
    "### $L^2$ Norm"
   ]
  },
  {
   "cell_type": "code",
   "execution_count": 43,
   "metadata": {
    "colab": {
     "base_uri": "https://localhost:8080/"
    },
    "id": "lLc2FbGG6SLD",
    "outputId": "d2baf173-70e9-4f1f-f773-64803527483d"
   },
   "outputs": [
    {
     "data": {
      "text/plain": [
       "array([25,  2,  5])"
      ]
     },
     "execution_count": 43,
     "metadata": {},
     "output_type": "execute_result"
    }
   ],
   "source": [
    "x"
   ]
  },
  {
   "cell_type": "code",
   "execution_count": 44,
   "metadata": {
    "colab": {
     "base_uri": "https://localhost:8080/"
    },
    "id": "AN43hsl86SLG",
    "outputId": "c821c7fd-5aa7-4c77-ccee-feeb90c1722f"
   },
   "outputs": [
    {
     "data": {
      "text/plain": [
       "25.573423705088842"
      ]
     },
     "execution_count": 44,
     "metadata": {},
     "output_type": "execute_result"
    }
   ],
   "source": [
    "(25**2 + 2**2 + 5**2)**(1/2)"
   ]
  },
  {
   "cell_type": "code",
   "execution_count": 45,
   "metadata": {
    "colab": {
     "base_uri": "https://localhost:8080/"
    },
    "id": "D9CyWo-l6SLI",
    "outputId": "936d1404-2538-4511-9db8-c5b5806bc5e4"
   },
   "outputs": [
    {
     "data": {
      "text/plain": [
       "np.float64(25.573423705088842)"
      ]
     },
     "execution_count": 45,
     "metadata": {},
     "output_type": "execute_result"
    }
   ],
   "source": [
    "np.linalg.norm(x)"
   ]
  },
  {
   "cell_type": "markdown",
   "metadata": {
    "id": "TNEMRi926SLK"
   },
   "source": [
    "So, if units in this 3-dimensional vector space are meters, then the vector $x$ has a length of 25.6m"
   ]
  },
  {
   "cell_type": "markdown",
   "metadata": {
    "id": "ugQC6k4h6SLK"
   },
   "source": [
    "**Return to slides here.**"
   ]
  },
  {
   "cell_type": "markdown",
   "metadata": {
    "id": "PwiRlMuC6SLK"
   },
   "source": [
    "### $L^1$ Norm"
   ]
  },
  {
   "cell_type": "code",
   "execution_count": 46,
   "metadata": {
    "colab": {
     "base_uri": "https://localhost:8080/"
    },
    "id": "lcYKyc5H6SLL",
    "outputId": "905fe7dc-6b8e-4e8b-a65d-839c3564e1c5"
   },
   "outputs": [
    {
     "data": {
      "text/plain": [
       "array([25,  2,  5])"
      ]
     },
     "execution_count": 46,
     "metadata": {},
     "output_type": "execute_result"
    }
   ],
   "source": [
    "x"
   ]
  },
  {
   "cell_type": "code",
   "execution_count": 47,
   "metadata": {
    "colab": {
     "base_uri": "https://localhost:8080/"
    },
    "id": "8jNb6nYl6SLM",
    "outputId": "629afdb9-02c7-4f3b-ea4d-210269cffb00"
   },
   "outputs": [
    {
     "data": {
      "text/plain": [
       "np.int64(32)"
      ]
     },
     "execution_count": 47,
     "metadata": {},
     "output_type": "execute_result"
    }
   ],
   "source": [
    "np.abs(25) + np.abs(2) + np.abs(5)"
   ]
  },
  {
   "cell_type": "markdown",
   "metadata": {
    "id": "WTPz0EBSAVee"
   },
   "source": [
    "**Return to slides here.**"
   ]
  },
  {
   "cell_type": "markdown",
   "metadata": {
    "id": "lQP73B916SLP"
   },
   "source": [
    "### Squared $L^2$ Norm"
   ]
  },
  {
   "cell_type": "code",
   "execution_count": 48,
   "metadata": {
    "colab": {
     "base_uri": "https://localhost:8080/"
    },
    "id": "Qv1ouJ8r6SLP",
    "outputId": "6cb6eebf-e88a-4b41-aa9f-ac82a78f99e6"
   },
   "outputs": [
    {
     "data": {
      "text/plain": [
       "array([25,  2,  5])"
      ]
     },
     "execution_count": 48,
     "metadata": {},
     "output_type": "execute_result"
    }
   ],
   "source": [
    "x"
   ]
  },
  {
   "cell_type": "code",
   "execution_count": 49,
   "metadata": {
    "colab": {
     "base_uri": "https://localhost:8080/"
    },
    "id": "eG3WSB5R6SLT",
    "outputId": "b1971235-6180-4f41-f4fb-d539583f5748"
   },
   "outputs": [
    {
     "data": {
      "text/plain": [
       "654"
      ]
     },
     "execution_count": 49,
     "metadata": {},
     "output_type": "execute_result"
    }
   ],
   "source": [
    "(25**2 + 2**2 + 5**2)"
   ]
  },
  {
   "cell_type": "code",
   "execution_count": 50,
   "metadata": {
    "colab": {
     "base_uri": "https://localhost:8080/"
    },
    "id": "bXwzSudS6SLV",
    "outputId": "264e1226-1066-4b64-db16-0070ba65b245"
   },
   "outputs": [
    {
     "data": {
      "text/plain": [
       "np.int64(654)"
      ]
     },
     "execution_count": 50,
     "metadata": {},
     "output_type": "execute_result"
    }
   ],
   "source": [
    "# we'll cover tensor multiplication more soon but to prove point quickly:\n",
    "np.dot(x, x)"
   ]
  },
  {
   "cell_type": "markdown",
   "metadata": {
    "id": "q3CIH9ba6SLX"
   },
   "source": [
    "**Return to slides here.**"
   ]
  },
  {
   "cell_type": "markdown",
   "metadata": {
    "id": "BHWxVPFC6SLX"
   },
   "source": [
    "### Max Norm"
   ]
  },
  {
   "cell_type": "code",
   "execution_count": 51,
   "metadata": {
    "colab": {
     "base_uri": "https://localhost:8080/"
    },
    "id": "vO-zfvDG6SLX",
    "outputId": "e3c17461-b374-47ed-e95b-f7ef61f1bfca"
   },
   "outputs": [
    {
     "data": {
      "text/plain": [
       "array([25,  2,  5])"
      ]
     },
     "execution_count": 51,
     "metadata": {},
     "output_type": "execute_result"
    }
   ],
   "source": [
    "x"
   ]
  },
  {
   "cell_type": "code",
   "execution_count": 52,
   "metadata": {
    "colab": {
     "base_uri": "https://localhost:8080/"
    },
    "id": "vXXLgbyW6SLZ",
    "outputId": "eae3e34d-ae6f-46f0-bb0b-a518792c2cb7"
   },
   "outputs": [
    {
     "data": {
      "text/plain": [
       "np.int64(25)"
      ]
     },
     "execution_count": 52,
     "metadata": {},
     "output_type": "execute_result"
    }
   ],
   "source": [
    "np.max([np.abs(25), np.abs(2), np.abs(5)])"
   ]
  },
  {
   "cell_type": "markdown",
   "metadata": {
    "id": "3MVTsXA8nNR0"
   },
   "source": [
    "**Return to slides here.**"
   ]
  },
  {
   "cell_type": "markdown",
   "metadata": {
    "id": "JzKlIpYZcgt9"
   },
   "source": [
    "### Orthogonal Vectors"
   ]
  },
  {
   "cell_type": "code",
   "execution_count": 53,
   "metadata": {
    "colab": {
     "base_uri": "https://localhost:8080/"
    },
    "id": "4jHg9La-cgt9",
    "outputId": "ece7c34c-c185-44bf-c5cd-218ab3e80c87"
   },
   "outputs": [
    {
     "data": {
      "text/plain": [
       "array([1, 0])"
      ]
     },
     "execution_count": 53,
     "metadata": {},
     "output_type": "execute_result"
    }
   ],
   "source": [
    "i = np.array([1, 0])\n",
    "i"
   ]
  },
  {
   "cell_type": "code",
   "execution_count": 54,
   "metadata": {
    "colab": {
     "base_uri": "https://localhost:8080/"
    },
    "id": "3FyLhPK3cguA",
    "outputId": "580fea73-ce7a-406e-c9b5-70ebe1f26a79"
   },
   "outputs": [
    {
     "data": {
      "text/plain": [
       "array([0, 1])"
      ]
     },
     "execution_count": 54,
     "metadata": {},
     "output_type": "execute_result"
    }
   ],
   "source": [
    "j = np.array([0, 1])\n",
    "j"
   ]
  },
  {
   "cell_type": "code",
   "execution_count": 55,
   "metadata": {
    "colab": {
     "base_uri": "https://localhost:8080/"
    },
    "id": "7eQtKhaDcguC",
    "outputId": "4422976d-b8de-4526-88ba-be0e7aa43754"
   },
   "outputs": [
    {
     "data": {
      "text/plain": [
       "np.int64(0)"
      ]
     },
     "execution_count": 55,
     "metadata": {},
     "output_type": "execute_result"
    }
   ],
   "source": [
    "np.dot(i, j) # detail on the dot operation coming up..."
   ]
  },
  {
   "cell_type": "markdown",
   "metadata": {
    "id": "C6eMVPu4nNR7"
   },
   "source": [
    "**Return to slides here.**"
   ]
  },
  {
   "cell_type": "markdown",
   "metadata": {
    "id": "mK3AZH53o8Br"
   },
   "source": [
    "### Matrices (Rank 2 Tensors) in NumPy"
   ]
  },
  {
   "cell_type": "code",
   "execution_count": 56,
   "metadata": {
    "colab": {
     "base_uri": "https://localhost:8080/"
    },
    "id": "stk57cmaESW1",
    "outputId": "3c147c9a-7d8a-4b1b-aebd-9656a7c1f368"
   },
   "outputs": [
    {
     "data": {
      "text/plain": [
       "array([[25,  2],\n",
       "       [ 5, 26],\n",
       "       [ 3,  7]])"
      ]
     },
     "execution_count": 56,
     "metadata": {},
     "output_type": "execute_result"
    }
   ],
   "source": [
    "# Use array() with nested brackets:\n",
    "X = np.array([[25, 2], [5, 26], [3, 7]])\n",
    "X"
   ]
  },
  {
   "cell_type": "code",
   "execution_count": 57,
   "metadata": {
    "colab": {
     "base_uri": "https://localhost:8080/"
    },
    "id": "IhDL4L8S6SLc",
    "outputId": "599b1ac9-bae5-4bd0-ca42-2e437b22dcbf"
   },
   "outputs": [
    {
     "data": {
      "text/plain": [
       "(3, 2)"
      ]
     },
     "execution_count": 57,
     "metadata": {},
     "output_type": "execute_result"
    }
   ],
   "source": [
    "X.shape"
   ]
  },
  {
   "cell_type": "code",
   "execution_count": 58,
   "metadata": {
    "colab": {
     "base_uri": "https://localhost:8080/"
    },
    "id": "q3oyaAK36SLe",
    "outputId": "b12026d0-5614-4261-cdaa-15e06d33289f"
   },
   "outputs": [
    {
     "data": {
      "text/plain": [
       "6"
      ]
     },
     "execution_count": 58,
     "metadata": {},
     "output_type": "execute_result"
    }
   ],
   "source": [
    "X.size"
   ]
  },
  {
   "cell_type": "code",
   "execution_count": 59,
   "metadata": {
    "colab": {
     "base_uri": "https://localhost:8080/"
    },
    "id": "YN9CHzja6SLg",
    "outputId": "fd31c5a0-75ea-4274-9d5e-43e07464edbe"
   },
   "outputs": [
    {
     "data": {
      "text/plain": [
       "array([25,  5,  3])"
      ]
     },
     "execution_count": 59,
     "metadata": {},
     "output_type": "execute_result"
    }
   ],
   "source": [
    "# Select left column of matrix X (zero-indexed)\n",
    "X[:,0]"
   ]
  },
  {
   "cell_type": "code",
   "execution_count": 60,
   "metadata": {
    "colab": {
     "base_uri": "https://localhost:8080/"
    },
    "id": "ih7nh4qC6SLi",
    "outputId": "30cd3a8b-0daa-4137-e6d6-0464eb263353"
   },
   "outputs": [
    {
     "data": {
      "text/plain": [
       "array([ 5, 26])"
      ]
     },
     "execution_count": 60,
     "metadata": {},
     "output_type": "execute_result"
    }
   ],
   "source": [
    "# Select middle row of matrix X:\n",
    "X[1,:]"
   ]
  },
  {
   "cell_type": "code",
   "execution_count": 61,
   "metadata": {
    "colab": {
     "base_uri": "https://localhost:8080/"
    },
    "id": "pg7numxP6SLl",
    "outputId": "83d7da30-ec2a-448a-f3d0-c6a87736b5df"
   },
   "outputs": [
    {
     "data": {
      "text/plain": [
       "array([[25,  2],\n",
       "       [ 5, 26]])"
      ]
     },
     "execution_count": 61,
     "metadata": {},
     "output_type": "execute_result"
    }
   ],
   "source": [
    "# Another slicing-by-index example:\n",
    "X[0:2, 0:2]"
   ]
  },
  {
   "cell_type": "markdown",
   "metadata": {
    "id": "HGEfZiBb6SLt"
   },
   "source": [
    "### Matrices in PyTorch"
   ]
  },
  {
   "cell_type": "code",
   "execution_count": 62,
   "metadata": {
    "colab": {
     "base_uri": "https://localhost:8080/"
    },
    "id": "-bibT9ye6SLt",
    "outputId": "c0b079b1-6fa6-48c5-85cd-2713dc27d8d6"
   },
   "outputs": [
    {
     "data": {
      "text/plain": [
       "tensor([[25,  2],\n",
       "        [ 5, 26],\n",
       "        [ 3,  7]])"
      ]
     },
     "execution_count": 62,
     "metadata": {},
     "output_type": "execute_result"
    }
   ],
   "source": [
    "X_pt = torch.tensor([[25, 2], [5, 26], [3, 7]])\n",
    "X_pt"
   ]
  },
  {
   "cell_type": "code",
   "execution_count": 63,
   "metadata": {
    "colab": {
     "base_uri": "https://localhost:8080/"
    },
    "id": "TBPu1L7P6SLv",
    "outputId": "7f0dcc6a-237e-409e-f6c2-e2bb267208be"
   },
   "outputs": [
    {
     "data": {
      "text/plain": [
       "torch.Size([3, 2])"
      ]
     },
     "execution_count": 63,
     "metadata": {},
     "output_type": "execute_result"
    }
   ],
   "source": [
    "X_pt.shape # pythonic relative to TensorFlow"
   ]
  },
  {
   "cell_type": "code",
   "execution_count": 64,
   "metadata": {
    "colab": {
     "base_uri": "https://localhost:8080/"
    },
    "id": "4mTj56M16SLw",
    "outputId": "1b03c6e8-10ce-40d5-97e0-357936b1c510"
   },
   "outputs": [
    {
     "data": {
      "text/plain": [
       "tensor([ 5, 26])"
      ]
     },
     "execution_count": 64,
     "metadata": {},
     "output_type": "execute_result"
    }
   ],
   "source": [
    "X_pt[1,:] # N.B.: Python is zero-indexed; written algebra is one-indexed"
   ]
  },
  {
   "cell_type": "markdown",
   "metadata": {
    "id": "E026fQlD6SLn"
   },
   "source": [
    "### Matrices in TensorFlow"
   ]
  },
  {
   "cell_type": "code",
   "execution_count": 65,
   "metadata": {
    "colab": {
     "base_uri": "https://localhost:8080/"
    },
    "id": "1gtGH6oA6SLn",
    "outputId": "c0ce4bd3-5e6d-48f4-d2f6-6a89fb2be5fa"
   },
   "outputs": [
    {
     "data": {
      "text/plain": [
       "<tf.Variable 'Variable:0' shape=(3, 2) dtype=int32, numpy=\n",
       "array([[25,  2],\n",
       "       [ 5, 26],\n",
       "       [ 3,  7]], dtype=int32)>"
      ]
     },
     "execution_count": 65,
     "metadata": {},
     "output_type": "execute_result"
    }
   ],
   "source": [
    "X_tf = tf.Variable([[25, 2], [5, 26], [3, 7]])\n",
    "X_tf"
   ]
  },
  {
   "cell_type": "code",
   "execution_count": 66,
   "metadata": {
    "colab": {
     "base_uri": "https://localhost:8080/"
    },
    "id": "4CV_KiTP6SLp",
    "outputId": "aa1c1260-ad22-47df-ade8-acb92b37a406"
   },
   "outputs": [
    {
     "data": {
      "text/plain": [
       "<tf.Tensor: shape=(), dtype=int32, numpy=2>"
      ]
     },
     "execution_count": 66,
     "metadata": {},
     "output_type": "execute_result"
    }
   ],
   "source": [
    "tf.rank(X_tf)"
   ]
  },
  {
   "cell_type": "code",
   "execution_count": 67,
   "metadata": {
    "colab": {
     "base_uri": "https://localhost:8080/"
    },
    "id": "vUsce8tC6SLq",
    "outputId": "6a67de12-22c8-45be-f757-2abc7a07e56e"
   },
   "outputs": [
    {
     "data": {
      "text/plain": [
       "<tf.Tensor: shape=(2,), dtype=int32, numpy=array([3, 2], dtype=int32)>"
      ]
     },
     "execution_count": 67,
     "metadata": {},
     "output_type": "execute_result"
    }
   ],
   "source": [
    "tf.shape(X_tf)"
   ]
  },
  {
   "cell_type": "code",
   "execution_count": 68,
   "metadata": {
    "colab": {
     "base_uri": "https://localhost:8080/"
    },
    "id": "QNpfvNPj6SLr",
    "outputId": "af5fc194-5874-4894-dfc9-0d8a11087bcf"
   },
   "outputs": [
    {
     "data": {
      "text/plain": [
       "<tf.Tensor: shape=(2,), dtype=int32, numpy=array([ 5, 26], dtype=int32)>"
      ]
     },
     "execution_count": 68,
     "metadata": {},
     "output_type": "execute_result"
    }
   ],
   "source": [
    "X_tf[1,:]"
   ]
  },
  {
   "cell_type": "markdown",
   "metadata": {
    "id": "CodS4evY6SLy"
   },
   "source": [
    "**Return to slides here.**"
   ]
  },
  {
   "cell_type": "markdown",
   "metadata": {
    "id": "cMpfujF_6SLy"
   },
   "source": [
    "### Higher-Rank Tensors\n",
    "\n",
    "As an example, rank 4 tensors are common for images, where each dimension corresponds to:\n",
    "\n",
    "1. Number of images in training batch, e.g., 32\n",
    "2. Image height in pixels, e.g., 28 for [MNIST digits](http://yann.lecun.com/exdb/mnist/)\n",
    "3. Image width in pixels, e.g., 28\n",
    "4. Number of color channels, e.g., 3 for full-color images (RGB)"
   ]
  },
  {
   "cell_type": "code",
   "execution_count": 69,
   "metadata": {
    "id": "KSZlICRR6SL1"
   },
   "outputs": [],
   "source": [
    "images_pt = torch.zeros([32, 28, 28, 3])"
   ]
  },
  {
   "cell_type": "code",
   "execution_count": 70,
   "metadata": {
    "id": "6Dqj0vmh6SL2"
   },
   "outputs": [],
   "source": [
    "# images_pt"
   ]
  },
  {
   "cell_type": "code",
   "execution_count": 71,
   "metadata": {
    "id": "7TASTVD96SLy"
   },
   "outputs": [],
   "source": [
    "images_tf = tf.zeros([32, 28, 28, 3])"
   ]
  },
  {
   "cell_type": "code",
   "execution_count": 72,
   "metadata": {
    "id": "ftOliyru6SL0"
   },
   "outputs": [],
   "source": [
    "# images_tf"
   ]
  },
  {
   "cell_type": "markdown",
   "metadata": {
    "id": "O3sgkdXZ6SL3"
   },
   "source": [
    "**Return to slides here.**"
   ]
  },
  {
   "cell_type": "markdown",
   "metadata": {
    "id": "lmG3LEZK6SL4"
   },
   "source": [
    "## Segment 2: Common Tensor Operations"
   ]
  },
  {
   "cell_type": "markdown",
   "metadata": {
    "id": "iSHGMCxd6SL4"
   },
   "source": [
    "### Tensor Transposition"
   ]
  },
  {
   "cell_type": "code",
   "execution_count": 73,
   "metadata": {
    "colab": {
     "base_uri": "https://localhost:8080/"
    },
    "id": "1YN1narR6SL4",
    "outputId": "9d2f2223-2e97-4066-e774-b7b2990a4387"
   },
   "outputs": [
    {
     "data": {
      "text/plain": [
       "array([[25,  2],\n",
       "       [ 5, 26],\n",
       "       [ 3,  7]])"
      ]
     },
     "execution_count": 73,
     "metadata": {},
     "output_type": "execute_result"
    }
   ],
   "source": [
    "X"
   ]
  },
  {
   "cell_type": "code",
   "execution_count": 74,
   "metadata": {
    "colab": {
     "base_uri": "https://localhost:8080/"
    },
    "id": "5hf3M_NL6SL5",
    "outputId": "a1e37e11-2dd8-47aa-e6fc-d8f41fc9c94f"
   },
   "outputs": [
    {
     "data": {
      "text/plain": [
       "array([[25,  5,  3],\n",
       "       [ 2, 26,  7]])"
      ]
     },
     "execution_count": 74,
     "metadata": {},
     "output_type": "execute_result"
    }
   ],
   "source": [
    "X.T"
   ]
  },
  {
   "cell_type": "code",
   "execution_count": 75,
   "metadata": {
    "colab": {
     "base_uri": "https://localhost:8080/"
    },
    "id": "vyBFN_4g6SL9",
    "outputId": "18d89c80-72b3-4d8f-a343-5319478b103b"
   },
   "outputs": [
    {
     "data": {
      "text/plain": [
       "tensor([[25,  5,  3],\n",
       "        [ 2, 26,  7]])"
      ]
     },
     "execution_count": 75,
     "metadata": {},
     "output_type": "execute_result"
    }
   ],
   "source": [
    "X_pt.T"
   ]
  },
  {
   "cell_type": "code",
   "execution_count": 76,
   "metadata": {
    "colab": {
     "base_uri": "https://localhost:8080/"
    },
    "id": "K2DuDJc_6SL6",
    "outputId": "fe0b51cb-89c0-47fd-eeef-c99ef54e8b72"
   },
   "outputs": [
    {
     "data": {
      "text/plain": [
       "<tf.Tensor: shape=(2, 3), dtype=int32, numpy=\n",
       "array([[25,  5,  3],\n",
       "       [ 2, 26,  7]], dtype=int32)>"
      ]
     },
     "execution_count": 76,
     "metadata": {},
     "output_type": "execute_result"
    }
   ],
   "source": [
    "tf.transpose(X_tf) # less Pythonic"
   ]
  },
  {
   "cell_type": "markdown",
   "metadata": {
    "id": "Hp9P1jx76SL_"
   },
   "source": [
    "### Basic Arithmetical Properties"
   ]
  },
  {
   "cell_type": "markdown",
   "metadata": {
    "id": "WxaImEUc6SMA"
   },
   "source": [
    "Adding or multiplying with scalar applies operation to all elements and tensor shape is retained:"
   ]
  },
  {
   "cell_type": "code",
   "execution_count": 77,
   "metadata": {
    "colab": {
     "base_uri": "https://localhost:8080/"
    },
    "id": "yhXGETii6SMA",
    "outputId": "3b84b86c-40e4-4a9d-ba98-29400df1e3b4"
   },
   "outputs": [
    {
     "data": {
      "text/plain": [
       "array([[50,  4],\n",
       "       [10, 52],\n",
       "       [ 6, 14]])"
      ]
     },
     "execution_count": 77,
     "metadata": {},
     "output_type": "execute_result"
    }
   ],
   "source": [
    "X*2"
   ]
  },
  {
   "cell_type": "code",
   "execution_count": 78,
   "metadata": {
    "colab": {
     "base_uri": "https://localhost:8080/"
    },
    "id": "KnPULtDO6SMC",
    "outputId": "7799494b-fdd7-40a9-a25d-6fae2c3dafba"
   },
   "outputs": [
    {
     "data": {
      "text/plain": [
       "array([[27,  4],\n",
       "       [ 7, 28],\n",
       "       [ 5,  9]])"
      ]
     },
     "execution_count": 78,
     "metadata": {},
     "output_type": "execute_result"
    }
   ],
   "source": [
    "X+2"
   ]
  },
  {
   "cell_type": "code",
   "execution_count": 79,
   "metadata": {
    "colab": {
     "base_uri": "https://localhost:8080/"
    },
    "id": "MkfC0Gsb6SMD",
    "outputId": "729eef68-a48e-45d9-e91f-e07e976c7dc2"
   },
   "outputs": [
    {
     "data": {
      "text/plain": [
       "array([[52,  6],\n",
       "       [12, 54],\n",
       "       [ 8, 16]])"
      ]
     },
     "execution_count": 79,
     "metadata": {},
     "output_type": "execute_result"
    }
   ],
   "source": [
    "X*2+2"
   ]
  },
  {
   "cell_type": "code",
   "execution_count": 80,
   "metadata": {
    "colab": {
     "base_uri": "https://localhost:8080/"
    },
    "id": "04bIDpGj6SMH",
    "outputId": "4a021c90-7e73-4939-eac7-e22f7a52135e"
   },
   "outputs": [
    {
     "data": {
      "text/plain": [
       "tensor([[52,  6],\n",
       "        [12, 54],\n",
       "        [ 8, 16]])"
      ]
     },
     "execution_count": 80,
     "metadata": {},
     "output_type": "execute_result"
    }
   ],
   "source": [
    "X_pt*2+2 # Python operators are overloaded; could alternatively use torch.mul() or torch.add()"
   ]
  },
  {
   "cell_type": "code",
   "execution_count": 81,
   "metadata": {
    "colab": {
     "base_uri": "https://localhost:8080/"
    },
    "id": "2oRBSmRL6SMI",
    "outputId": "5626b6c5-f89b-400f-fb19-2b550056065f"
   },
   "outputs": [
    {
     "data": {
      "text/plain": [
       "tensor([[52,  6],\n",
       "        [12, 54],\n",
       "        [ 8, 16]])"
      ]
     },
     "execution_count": 81,
     "metadata": {},
     "output_type": "execute_result"
    }
   ],
   "source": [
    "torch.add(torch.mul(X_pt, 2), 2)"
   ]
  },
  {
   "cell_type": "code",
   "execution_count": 82,
   "metadata": {
    "colab": {
     "base_uri": "https://localhost:8080/"
    },
    "id": "OMSb9Otd6SMF",
    "outputId": "ffac929e-7e5c-44a6-f792-9add7acc3ddc"
   },
   "outputs": [
    {
     "data": {
      "text/plain": [
       "<tf.Tensor: shape=(3, 2), dtype=int32, numpy=\n",
       "array([[52,  6],\n",
       "       [12, 54],\n",
       "       [ 8, 16]], dtype=int32)>"
      ]
     },
     "execution_count": 82,
     "metadata": {},
     "output_type": "execute_result"
    }
   ],
   "source": [
    "X_tf*2+2 # Operators likewise overloaded; could equally use tf.multiply() tf.add()"
   ]
  },
  {
   "cell_type": "code",
   "execution_count": 83,
   "metadata": {
    "colab": {
     "base_uri": "https://localhost:8080/"
    },
    "id": "5ya2xZ4u6SMG",
    "outputId": "2b473b86-0a90-414d-9e5b-d19752d64cc9"
   },
   "outputs": [
    {
     "data": {
      "text/plain": [
       "<tf.Tensor: shape=(3, 2), dtype=int32, numpy=\n",
       "array([[52,  6],\n",
       "       [12, 54],\n",
       "       [ 8, 16]], dtype=int32)>"
      ]
     },
     "execution_count": 83,
     "metadata": {},
     "output_type": "execute_result"
    }
   ],
   "source": [
    "tf.add(tf.multiply(X_tf, 2), 2)"
   ]
  },
  {
   "cell_type": "markdown",
   "metadata": {
    "id": "wt8Ls4076SMK"
   },
   "source": [
    "If two tensors have the same size, operations are often by default applied element-wise. This is **not matrix multiplication**, which we'll cover later, but is rather called the **Hadamard product** or simply the **element-wise product**.\n",
    "\n",
    "The mathematical notation is $A \\odot X$"
   ]
  },
  {
   "cell_type": "code",
   "execution_count": 84,
   "metadata": {
    "colab": {
     "base_uri": "https://localhost:8080/"
    },
    "id": "KUMyU1t46SMK",
    "outputId": "1ccfbb86-871e-4a8a-cc4c-d5f332418d94"
   },
   "outputs": [
    {
     "data": {
      "text/plain": [
       "array([[25,  2],\n",
       "       [ 5, 26],\n",
       "       [ 3,  7]])"
      ]
     },
     "execution_count": 84,
     "metadata": {},
     "output_type": "execute_result"
    }
   ],
   "source": [
    "X"
   ]
  },
  {
   "cell_type": "code",
   "execution_count": 85,
   "metadata": {
    "colab": {
     "base_uri": "https://localhost:8080/"
    },
    "id": "UNIbp0P36SML",
    "outputId": "ac9a00b6-fc5b-46ed-b58f-a194efe0a9e2"
   },
   "outputs": [
    {
     "data": {
      "text/plain": [
       "array([[27,  4],\n",
       "       [ 7, 28],\n",
       "       [ 5,  9]])"
      ]
     },
     "execution_count": 85,
     "metadata": {},
     "output_type": "execute_result"
    }
   ],
   "source": [
    "A = X+2\n",
    "A"
   ]
  },
  {
   "cell_type": "code",
   "execution_count": 86,
   "metadata": {
    "colab": {
     "base_uri": "https://localhost:8080/"
    },
    "id": "HE9xPWPdcgu4",
    "outputId": "0e7fb59b-eabb-4099-9997-6a0884aa1fde"
   },
   "outputs": [
    {
     "data": {
      "text/plain": [
       "array([[52,  6],\n",
       "       [12, 54],\n",
       "       [ 8, 16]])"
      ]
     },
     "execution_count": 86,
     "metadata": {},
     "output_type": "execute_result"
    }
   ],
   "source": [
    "A + X"
   ]
  },
  {
   "cell_type": "code",
   "execution_count": 87,
   "metadata": {
    "colab": {
     "base_uri": "https://localhost:8080/"
    },
    "id": "xKyCwGia6SMP",
    "outputId": "b26a192f-6edf-4c4e-d7e3-1010ab17a565"
   },
   "outputs": [
    {
     "data": {
      "text/plain": [
       "array([[675,   8],\n",
       "       [ 35, 728],\n",
       "       [ 15,  63]])"
      ]
     },
     "execution_count": 87,
     "metadata": {},
     "output_type": "execute_result"
    }
   ],
   "source": [
    "A * X"
   ]
  },
  {
   "cell_type": "code",
   "execution_count": 88,
   "metadata": {
    "id": "B5jXGIBp6SMT"
   },
   "outputs": [],
   "source": [
    "A_pt = X_pt + 2"
   ]
  },
  {
   "cell_type": "code",
   "execution_count": 89,
   "metadata": {
    "colab": {
     "base_uri": "https://localhost:8080/"
    },
    "id": "A7k6yxu36SMU",
    "outputId": "a5057174-9c44-4234-8db6-0cc296cc67dd"
   },
   "outputs": [
    {
     "data": {
      "text/plain": [
       "tensor([[52,  6],\n",
       "        [12, 54],\n",
       "        [ 8, 16]])"
      ]
     },
     "execution_count": 89,
     "metadata": {},
     "output_type": "execute_result"
    }
   ],
   "source": [
    "A_pt + X_pt"
   ]
  },
  {
   "cell_type": "code",
   "execution_count": 90,
   "metadata": {
    "colab": {
     "base_uri": "https://localhost:8080/"
    },
    "id": "r8vOul0m6SMW",
    "outputId": "828619be-624e-4924-aa95-c9e314f48fe8"
   },
   "outputs": [
    {
     "data": {
      "text/plain": [
       "tensor([[675,   8],\n",
       "        [ 35, 728],\n",
       "        [ 15,  63]])"
      ]
     },
     "execution_count": 90,
     "metadata": {},
     "output_type": "execute_result"
    }
   ],
   "source": [
    "A_pt * X_pt"
   ]
  },
  {
   "cell_type": "code",
   "execution_count": 91,
   "metadata": {
    "id": "rQcBMSb76SMQ"
   },
   "outputs": [],
   "source": [
    "A_tf = X_tf + 2"
   ]
  },
  {
   "cell_type": "code",
   "execution_count": 92,
   "metadata": {
    "colab": {
     "base_uri": "https://localhost:8080/"
    },
    "id": "x6s1wtNj6SMR",
    "outputId": "8904d6bb-ba2f-4a8d-eed3-fa97ab5f3b48"
   },
   "outputs": [
    {
     "data": {
      "text/plain": [
       "<tf.Tensor: shape=(3, 2), dtype=int32, numpy=\n",
       "array([[52,  6],\n",
       "       [12, 54],\n",
       "       [ 8, 16]], dtype=int32)>"
      ]
     },
     "execution_count": 92,
     "metadata": {},
     "output_type": "execute_result"
    }
   ],
   "source": [
    "A_tf + X_tf"
   ]
  },
  {
   "cell_type": "code",
   "execution_count": 93,
   "metadata": {
    "colab": {
     "base_uri": "https://localhost:8080/"
    },
    "id": "J1D7--296SMS",
    "outputId": "da919529-d302-4f0f-c4df-3379722d20c2"
   },
   "outputs": [
    {
     "data": {
      "text/plain": [
       "<tf.Tensor: shape=(3, 2), dtype=int32, numpy=\n",
       "array([[675,   8],\n",
       "       [ 35, 728],\n",
       "       [ 15,  63]], dtype=int32)>"
      ]
     },
     "execution_count": 93,
     "metadata": {},
     "output_type": "execute_result"
    }
   ],
   "source": [
    "A_tf * X_tf"
   ]
  },
  {
   "cell_type": "markdown",
   "metadata": {
    "id": "FE5f-FEq6SMY"
   },
   "source": [
    "### Reduction"
   ]
  },
  {
   "cell_type": "markdown",
   "metadata": {
    "id": "WPJ9FVQF6SMY"
   },
   "source": [
    "Calculating the sum across all elements of a tensor is a common operation. For example:\n",
    "\n",
    "* For vector ***x*** of length *n*, we calculate $\\sum_{i=1}^{n} x_i$\n",
    "* For matrix ***X*** with *m* by *n* dimensions, we calculate $\\sum_{i=1}^{m} \\sum_{j=1}^{n} X_{i,j}$"
   ]
  },
  {
   "cell_type": "code",
   "execution_count": 94,
   "metadata": {
    "colab": {
     "base_uri": "https://localhost:8080/"
    },
    "id": "rXi2stvz6SMZ",
    "outputId": "7ea95647-da4e-4293-c668-13d3bad8e1d0"
   },
   "outputs": [
    {
     "data": {
      "text/plain": [
       "array([[25,  2],\n",
       "       [ 5, 26],\n",
       "       [ 3,  7]])"
      ]
     },
     "execution_count": 94,
     "metadata": {},
     "output_type": "execute_result"
    }
   ],
   "source": [
    "X"
   ]
  },
  {
   "cell_type": "code",
   "execution_count": 95,
   "metadata": {
    "colab": {
     "base_uri": "https://localhost:8080/"
    },
    "id": "W9FKaJbf6SMZ",
    "outputId": "01308bf7-b99e-44cd-cc93-76d504affaf7"
   },
   "outputs": [
    {
     "data": {
      "text/plain": [
       "np.int64(68)"
      ]
     },
     "execution_count": 95,
     "metadata": {},
     "output_type": "execute_result"
    }
   ],
   "source": [
    "X.sum()"
   ]
  },
  {
   "cell_type": "code",
   "execution_count": 96,
   "metadata": {
    "colab": {
     "base_uri": "https://localhost:8080/"
    },
    "id": "3y9aw7t66SMc",
    "outputId": "234c1149-b78d-4d2d-9724-b25434e20760"
   },
   "outputs": [
    {
     "data": {
      "text/plain": [
       "tensor(68)"
      ]
     },
     "execution_count": 96,
     "metadata": {},
     "output_type": "execute_result"
    }
   ],
   "source": [
    "torch.sum(X_pt)"
   ]
  },
  {
   "cell_type": "code",
   "execution_count": 97,
   "metadata": {
    "colab": {
     "base_uri": "https://localhost:8080/"
    },
    "id": "wcjRtFml6SMb",
    "outputId": "c1b1f84d-83b0-4c45-ccd2-b312f6851305"
   },
   "outputs": [
    {
     "data": {
      "text/plain": [
       "<tf.Tensor: shape=(), dtype=int32, numpy=68>"
      ]
     },
     "execution_count": 97,
     "metadata": {},
     "output_type": "execute_result"
    }
   ],
   "source": [
    "tf.reduce_sum(X_tf)"
   ]
  },
  {
   "cell_type": "code",
   "execution_count": 98,
   "metadata": {
    "colab": {
     "base_uri": "https://localhost:8080/"
    },
    "id": "awjH9bOz6SMc",
    "outputId": "12d3fb04-b017-413c-cb8a-72c9795b9fa4"
   },
   "outputs": [
    {
     "data": {
      "text/plain": [
       "array([33, 35])"
      ]
     },
     "execution_count": 98,
     "metadata": {},
     "output_type": "execute_result"
    }
   ],
   "source": [
    "# Can also be done along one specific axis alone, e.g.:\n",
    "X.sum(axis=0) # summing over all rows (i.e., along columns)"
   ]
  },
  {
   "cell_type": "code",
   "execution_count": 99,
   "metadata": {
    "colab": {
     "base_uri": "https://localhost:8080/"
    },
    "id": "n2SASjsn6SMd",
    "outputId": "ae990ba3-eca0-4ed6-dcbf-bc929e7f0c20"
   },
   "outputs": [
    {
     "data": {
      "text/plain": [
       "array([27, 31, 10])"
      ]
     },
     "execution_count": 99,
     "metadata": {},
     "output_type": "execute_result"
    }
   ],
   "source": [
    "X.sum(axis=1) # summing over all columns (i.e., along rows)"
   ]
  },
  {
   "cell_type": "code",
   "execution_count": 100,
   "metadata": {
    "colab": {
     "base_uri": "https://localhost:8080/"
    },
    "id": "uVnSxvSJ6SMh",
    "outputId": "396683c4-e825-4287-b5d2-e97a8cef5a9f"
   },
   "outputs": [
    {
     "data": {
      "text/plain": [
       "tensor([33, 35])"
      ]
     },
     "execution_count": 100,
     "metadata": {},
     "output_type": "execute_result"
    }
   ],
   "source": [
    "torch.sum(X_pt, 0)"
   ]
  },
  {
   "cell_type": "code",
   "execution_count": 101,
   "metadata": {
    "colab": {
     "base_uri": "https://localhost:8080/"
    },
    "id": "IO8drxz36SMe",
    "outputId": "0a0f18a6-d220-4ecb-94a1-68f1978920f7"
   },
   "outputs": [
    {
     "data": {
      "text/plain": [
       "<tf.Tensor: shape=(3,), dtype=int32, numpy=array([27, 31, 10], dtype=int32)>"
      ]
     },
     "execution_count": 101,
     "metadata": {},
     "output_type": "execute_result"
    }
   ],
   "source": [
    "tf.reduce_sum(X_tf, 1)"
   ]
  },
  {
   "cell_type": "markdown",
   "metadata": {
    "id": "gdAe8S4A6SMj"
   },
   "source": [
    "Many other operations can be applied with reduction along all or a selection of axes, e.g.:\n",
    "\n",
    "* maximum\n",
    "* minimum\n",
    "* mean\n",
    "* product\n",
    "\n",
    "They're fairly straightforward and used less often than summation, so you're welcome to look them up in library docs if you ever need them."
   ]
  },
  {
   "cell_type": "markdown",
   "metadata": {
    "id": "r2eW8S_46SMj"
   },
   "source": [
    "### The Dot Product"
   ]
  },
  {
   "cell_type": "markdown",
   "metadata": {
    "id": "LImETgD76SMj"
   },
   "source": [
    "If we have two vectors (say, ***x*** and ***y***) with the same length *n*, we can calculate the dot product between them. This is annotated several different ways, including the following:\n",
    "\n",
    "* $x \\cdot y$\n",
    "* $x^Ty$\n",
    "* $\\langle x,y \\rangle$\n",
    "\n",
    "Regardless which notation you use (I prefer the first), the calculation is the same; we calculate products in an element-wise fashion and then sum reductively across the products to a scalar value. That is, $x \\cdot y = \\sum_{i=1}^{n} x_i y_i$\n",
    "\n",
    "The dot product is ubiquitous in deep learning: It is performed at every artificial neuron in a deep neural network, which may be made up of millions (or orders of magnitude more) of these neurons."
   ]
  },
  {
   "cell_type": "code",
   "execution_count": 102,
   "metadata": {
    "colab": {
     "base_uri": "https://localhost:8080/"
    },
    "id": "HveIE3IDcgvP",
    "outputId": "7e47ff8a-3d70-4480-b585-b0cac5bea84e"
   },
   "outputs": [
    {
     "data": {
      "text/plain": [
       "array([25,  2,  5])"
      ]
     },
     "execution_count": 102,
     "metadata": {},
     "output_type": "execute_result"
    }
   ],
   "source": [
    "x"
   ]
  },
  {
   "cell_type": "code",
   "execution_count": 103,
   "metadata": {
    "colab": {
     "base_uri": "https://localhost:8080/"
    },
    "id": "3ZjkZcvVcgvQ",
    "outputId": "3d4f0992-086a-4789-912d-6899b31dab37"
   },
   "outputs": [
    {
     "data": {
      "text/plain": [
       "array([0, 1, 2])"
      ]
     },
     "execution_count": 103,
     "metadata": {},
     "output_type": "execute_result"
    }
   ],
   "source": [
    "y = np.array([0, 1, 2])\n",
    "y"
   ]
  },
  {
   "cell_type": "code",
   "execution_count": 104,
   "metadata": {
    "colab": {
     "base_uri": "https://localhost:8080/"
    },
    "id": "Xu8z0QB0cgvR",
    "outputId": "684539d6-0ebb-47f3-d2f4-6ec21a14e1f8"
   },
   "outputs": [
    {
     "data": {
      "text/plain": [
       "12"
      ]
     },
     "execution_count": 104,
     "metadata": {},
     "output_type": "execute_result"
    }
   ],
   "source": [
    "25*0 + 2*1 + 5*2"
   ]
  },
  {
   "cell_type": "code",
   "execution_count": 105,
   "metadata": {
    "colab": {
     "base_uri": "https://localhost:8080/"
    },
    "id": "ThehRrr8cgvS",
    "outputId": "23b6fb0b-f5c8-414a-c09d-1552a44a5591"
   },
   "outputs": [
    {
     "data": {
      "text/plain": [
       "np.int64(12)"
      ]
     },
     "execution_count": 105,
     "metadata": {},
     "output_type": "execute_result"
    }
   ],
   "source": [
    "np.dot(x, y)"
   ]
  },
  {
   "cell_type": "code",
   "execution_count": 106,
   "metadata": {
    "colab": {
     "base_uri": "https://localhost:8080/"
    },
    "id": "J5Zdua4xcgvT",
    "outputId": "d59bc178-eccd-46f2-d889-32b266eee56f"
   },
   "outputs": [
    {
     "data": {
      "text/plain": [
       "tensor([25,  2,  5])"
      ]
     },
     "execution_count": 106,
     "metadata": {},
     "output_type": "execute_result"
    }
   ],
   "source": [
    "x_pt"
   ]
  },
  {
   "cell_type": "code",
   "execution_count": 107,
   "metadata": {
    "colab": {
     "base_uri": "https://localhost:8080/"
    },
    "id": "b3vEdroXcgvU",
    "outputId": "63ef19a6-2bbf-4336-d216-2b941658e9fe"
   },
   "outputs": [
    {
     "data": {
      "text/plain": [
       "tensor([0, 1, 2])"
      ]
     },
     "execution_count": 107,
     "metadata": {},
     "output_type": "execute_result"
    }
   ],
   "source": [
    "y_pt = torch.tensor([0, 1, 2])\n",
    "y_pt"
   ]
  },
  {
   "cell_type": "code",
   "execution_count": 108,
   "metadata": {
    "colab": {
     "base_uri": "https://localhost:8080/"
    },
    "id": "F741E5imcgvV",
    "outputId": "754c34c3-548f-4674-8cbd-925cb0d78a6d"
   },
   "outputs": [
    {
     "name": "stderr",
     "output_type": "stream",
     "text": [
      "/tmp/ipykernel_25776/91207232.py:1: DeprecationWarning: __array__ implementation doesn't accept a copy keyword, so passing copy=False failed. __array__ must implement 'dtype' and 'copy' keyword arguments.\n",
      "  np.dot(x_pt, y_pt)\n"
     ]
    },
    {
     "data": {
      "text/plain": [
       "np.int64(12)"
      ]
     },
     "execution_count": 108,
     "metadata": {},
     "output_type": "execute_result"
    }
   ],
   "source": [
    "np.dot(x_pt, y_pt)"
   ]
  },
  {
   "cell_type": "code",
   "execution_count": 109,
   "metadata": {
    "colab": {
     "base_uri": "https://localhost:8080/"
    },
    "id": "-W5loHc8cgvX",
    "outputId": "18e71dbb-163f-4291-8090-366a21c35642"
   },
   "outputs": [
    {
     "data": {
      "text/plain": [
       "tensor(12.)"
      ]
     },
     "execution_count": 109,
     "metadata": {},
     "output_type": "execute_result"
    }
   ],
   "source": [
    "torch.dot(torch.tensor([25, 2, 5.]), torch.tensor([0, 1, 2.]))"
   ]
  },
  {
   "cell_type": "code",
   "execution_count": 110,
   "metadata": {
    "colab": {
     "base_uri": "https://localhost:8080/"
    },
    "id": "jUwKBiqzcgvY",
    "outputId": "710897b4-cdc5-48f8-ba45-a536a3d1c686"
   },
   "outputs": [
    {
     "data": {
      "text/plain": [
       "<tf.Variable 'Variable:0' shape=(3,) dtype=int32, numpy=array([25,  2,  5], dtype=int32)>"
      ]
     },
     "execution_count": 110,
     "metadata": {},
     "output_type": "execute_result"
    }
   ],
   "source": [
    "x_tf"
   ]
  },
  {
   "cell_type": "code",
   "execution_count": 111,
   "metadata": {
    "colab": {
     "base_uri": "https://localhost:8080/"
    },
    "id": "Xqt3Rac7cgvZ",
    "outputId": "50214346-8c20-42aa-d25d-1eb711f35330"
   },
   "outputs": [
    {
     "data": {
      "text/plain": [
       "<tf.Variable 'Variable:0' shape=(3,) dtype=int32, numpy=array([0, 1, 2], dtype=int32)>"
      ]
     },
     "execution_count": 111,
     "metadata": {},
     "output_type": "execute_result"
    }
   ],
   "source": [
    "y_tf = tf.Variable([0, 1, 2])\n",
    "y_tf"
   ]
  },
  {
   "cell_type": "code",
   "execution_count": 112,
   "metadata": {
    "colab": {
     "base_uri": "https://localhost:8080/"
    },
    "id": "x4pgc5JEcgvc",
    "outputId": "a3e872f5-c429-4e0f-ea1a-7751d9e289d5"
   },
   "outputs": [
    {
     "data": {
      "text/plain": [
       "<tf.Tensor: shape=(), dtype=int32, numpy=12>"
      ]
     },
     "execution_count": 112,
     "metadata": {},
     "output_type": "execute_result"
    }
   ],
   "source": [
    "tf.reduce_sum(tf.multiply(x_tf, y_tf))"
   ]
  },
  {
   "cell_type": "markdown",
   "metadata": {
    "id": "mSmvC1cc6SMj"
   },
   "source": [
    "**Return to slides here.**"
   ]
  },
  {
   "cell_type": "markdown",
   "metadata": {
    "id": "9dfTV7hQR6zn"
   },
   "source": [
    "### Solving Linear Systems"
   ]
  },
  {
   "cell_type": "markdown",
   "metadata": {
    "id": "pCoSpqtWSyFd"
   },
   "source": [
    "In the **Substitution** example, the two equations in the system are:\n",
    "$$ y = 3x $$\n",
    "$$ -5x + 2y = 2 $$\n",
    "\n",
    "The second equation can be rearranged to isolate $y$:\n",
    "$$ 2y = 2 + 5x $$\n",
    "$$ y = \\frac{2 + 5x}{2} = 1 + \\frac{5x}{2} $$"
   ]
  },
  {
   "cell_type": "code",
   "execution_count": 113,
   "metadata": {
    "id": "1T0_m11kTh82"
   },
   "outputs": [],
   "source": [
    "x = np.linspace(-10, 10, 1000) # start, finish, n points"
   ]
  },
  {
   "cell_type": "code",
   "execution_count": 114,
   "metadata": {
    "id": "_K6IyUWcTh85"
   },
   "outputs": [],
   "source": [
    "y1 = 3 * x"
   ]
  },
  {
   "cell_type": "code",
   "execution_count": 115,
   "metadata": {
    "id": "DYkQdUJ5Th86"
   },
   "outputs": [],
   "source": [
    "y2 = 1 + (5*x)/2"
   ]
  },
  {
   "cell_type": "code",
   "execution_count": 116,
   "metadata": {
    "colab": {
     "base_uri": "https://localhost:8080/",
     "height": 455
    },
    "id": "aBL9NDoHTh86",
    "outputId": "dada3255-d947-4809-95e9-dc2485cb7a34"
   },
   "outputs": [
    {
     "data": {
      "image/png": "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",
      "text/plain": [
       "<Figure size 640x480 with 1 Axes>"
      ]
     },
     "metadata": {},
     "output_type": "display_data"
    }
   ],
   "source": [
    "fig, ax = plt.subplots()\n",
    "plt.xlabel('x')\n",
    "plt.ylabel('y')\n",
    "ax.set_xlim([0, 3])\n",
    "ax.set_ylim([0, 8])\n",
    "ax.plot(x, y1, c='green')\n",
    "ax.plot(x, y2, c='brown')\n",
    "plt.axvline(x=2, color='purple', linestyle='--')\n",
    "_ = plt.axhline(y=6, color='purple', linestyle='--')"
   ]
  },
  {
   "cell_type": "markdown",
   "metadata": {
    "id": "vACSnJgP87xA"
   },
   "source": [
    "**Return to slides here.**"
   ]
  },
  {
   "cell_type": "markdown",
   "metadata": {
    "id": "F3X4p66XVFXH"
   },
   "source": [
    "In the **Elimination** example, the two equations in the system are:\n",
    "$$ 2x - 3y = 15 $$\n",
    "$$ 4x + 10y = 14 $$\n",
    "\n",
    "Both equations can be rearranged to isolate $y$. Starting with the first equation:\n",
    "$$ -3y = 15 - 2x $$\n",
    "$$ y = \\frac{15 - 2x}{-3} = -5 + \\frac{2x}{3} $$\n",
    "\n",
    "Then for the second equation:\n",
    "$$ 4x + 10y = 14 $$\n",
    "$$ 2x + 5y = 7 $$\n",
    "$$ 5y = 7 - 2x $$\n",
    "$$ y = \\frac{7 - 2x}{5} $$"
   ]
  },
  {
   "cell_type": "code",
   "execution_count": 117,
   "metadata": {
    "id": "5x3kfV_WWhlR"
   },
   "outputs": [],
   "source": [
    "y1 = -5 + (2*x)/3"
   ]
  },
  {
   "cell_type": "code",
   "execution_count": 118,
   "metadata": {
    "id": "dqA1lS0CWu5z"
   },
   "outputs": [],
   "source": [
    "y2 = (7-2*x)/5"
   ]
  },
  {
   "cell_type": "code",
   "execution_count": 119,
   "metadata": {
    "colab": {
     "base_uri": "https://localhost:8080/",
     "height": 455
    },
    "id": "6CfRNs1DWzx5",
    "outputId": "c32b733e-c5b9-4654-d2f9-4d4f6cdfa93e"
   },
   "outputs": [
    {
     "data": {
      "image/png": "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",
      "text/plain": [
       "<Figure size 640x480 with 1 Axes>"
      ]
     },
     "metadata": {},
     "output_type": "display_data"
    }
   ],
   "source": [
    "fig, ax = plt.subplots()\n",
    "plt.xlabel('x')\n",
    "plt.ylabel('y')\n",
    "\n",
    "# Add x and y axes:\n",
    "plt.axvline(x=0, color='lightgray')\n",
    "plt.axhline(y=0, color='lightgray')\n",
    "\n",
    "ax.set_xlim([-2, 10])\n",
    "ax.set_ylim([-6, 4])\n",
    "ax.plot(x, y1, c='green')\n",
    "ax.plot(x, y2, c='brown')\n",
    "plt.axvline(x=6, color='purple', linestyle='--')\n",
    "_ = plt.axhline(y=-1, color='purple', linestyle='--')"
   ]
  },
  {
   "cell_type": "markdown",
   "metadata": {
    "id": "CezB87Tb-QGh"
   },
   "source": [
    "**Return to slides here.**"
   ]
  },
  {
   "cell_type": "markdown",
   "metadata": {
    "id": "bYDhomCP6SMj"
   },
   "source": [
    "## Segment 3: Matrix Properties"
   ]
  },
  {
   "cell_type": "markdown",
   "metadata": {
    "id": "-HGU_an66SMk"
   },
   "source": [
    "### Frobenius Norm"
   ]
  },
  {
   "cell_type": "code",
   "execution_count": 120,
   "metadata": {
    "colab": {
     "base_uri": "https://localhost:8080/"
    },
    "id": "pNQHvAqN6SMk",
    "outputId": "916cf013-483f-48a2-e66a-dcb8be2be58a"
   },
   "outputs": [
    {
     "data": {
      "text/plain": [
       "array([[1, 2],\n",
       "       [3, 4]])"
      ]
     },
     "execution_count": 120,
     "metadata": {},
     "output_type": "execute_result"
    }
   ],
   "source": [
    "X = np.array([[1, 2], [3, 4]])\n",
    "X"
   ]
  },
  {
   "cell_type": "code",
   "execution_count": 121,
   "metadata": {
    "colab": {
     "base_uri": "https://localhost:8080/"
    },
    "id": "T-q-Tzn26SMm",
    "outputId": "f13d60e4-6d8c-4628-acda-01a5bf85876f"
   },
   "outputs": [
    {
     "data": {
      "text/plain": [
       "5.477225575051661"
      ]
     },
     "execution_count": 121,
     "metadata": {},
     "output_type": "execute_result"
    }
   ],
   "source": [
    "(1**2 + 2**2 + 3**2 + 4**2)**(1/2)"
   ]
  },
  {
   "cell_type": "code",
   "execution_count": 122,
   "metadata": {
    "colab": {
     "base_uri": "https://localhost:8080/"
    },
    "id": "YVG8qiFw6SMn",
    "outputId": "c0b5b228-8724-4bb2-b1ce-531b359e36c8"
   },
   "outputs": [
    {
     "data": {
      "text/plain": [
       "np.float64(5.477225575051661)"
      ]
     },
     "execution_count": 122,
     "metadata": {},
     "output_type": "execute_result"
    }
   ],
   "source": [
    "np.linalg.norm(X) # same function as for vector L2 norm"
   ]
  },
  {
   "cell_type": "code",
   "execution_count": 123,
   "metadata": {
    "id": "FPnBflKVxyik"
   },
   "outputs": [],
   "source": [
    "X_pt = torch.tensor([[1, 2], [3, 4.]]) # torch.norm() supports floats only"
   ]
  },
  {
   "cell_type": "code",
   "execution_count": 124,
   "metadata": {
    "colab": {
     "base_uri": "https://localhost:8080/"
    },
    "id": "NCdTShVyx8z0",
    "outputId": "b574d8aa-4700-4f75-959d-2b0501f44bc8"
   },
   "outputs": [
    {
     "data": {
      "text/plain": [
       "tensor(5.4772)"
      ]
     },
     "execution_count": 124,
     "metadata": {},
     "output_type": "execute_result"
    }
   ],
   "source": [
    "torch.norm(X_pt)"
   ]
  },
  {
   "cell_type": "code",
   "execution_count": 125,
   "metadata": {
    "id": "blezf9fLx_nD"
   },
   "outputs": [],
   "source": [
    "X_tf = tf.Variable([[1, 2], [3, 4.]]) # tf.norm() also supports floats only"
   ]
  },
  {
   "cell_type": "code",
   "execution_count": 126,
   "metadata": {
    "colab": {
     "base_uri": "https://localhost:8080/"
    },
    "id": "LiCQzyf6ySCZ",
    "outputId": "560c2751-1cde-4622-d8f6-4f6661710b89"
   },
   "outputs": [
    {
     "data": {
      "text/plain": [
       "<tf.Tensor: shape=(), dtype=float32, numpy=5.4772257804870605>"
      ]
     },
     "execution_count": 126,
     "metadata": {},
     "output_type": "execute_result"
    }
   ],
   "source": [
    "tf.norm(X_tf)"
   ]
  },
  {
   "cell_type": "markdown",
   "metadata": {
    "id": "4c6rjVAf6SMo"
   },
   "source": [
    "**Return to slides here.**"
   ]
  },
  {
   "cell_type": "markdown",
   "metadata": {
    "id": "OLN-MMIe6SMo"
   },
   "source": [
    "### Matrix Multiplication (with a Vector)"
   ]
  },
  {
   "cell_type": "code",
   "execution_count": 127,
   "metadata": {
    "colab": {
     "base_uri": "https://localhost:8080/"
    },
    "id": "XJw0j8cr6SMo",
    "outputId": "287c7d56-a31a-4990-e7ef-069d8ae3da65"
   },
   "outputs": [
    {
     "data": {
      "text/plain": [
       "array([[3, 4],\n",
       "       [5, 6],\n",
       "       [7, 8]])"
      ]
     },
     "execution_count": 127,
     "metadata": {},
     "output_type": "execute_result"
    }
   ],
   "source": [
    "A = np.array([[3, 4], [5, 6], [7, 8]])\n",
    "A"
   ]
  },
  {
   "cell_type": "code",
   "execution_count": 128,
   "metadata": {
    "colab": {
     "base_uri": "https://localhost:8080/"
    },
    "id": "zZQ1Aupc6SMq",
    "outputId": "ef242b77-62eb-4ce2-f468-5c9bb93b20cf"
   },
   "outputs": [
    {
     "data": {
      "text/plain": [
       "array([1, 2])"
      ]
     },
     "execution_count": 128,
     "metadata": {},
     "output_type": "execute_result"
    }
   ],
   "source": [
    "b = np.array([1, 2])\n",
    "b"
   ]
  },
  {
   "cell_type": "code",
   "execution_count": 129,
   "metadata": {
    "colab": {
     "base_uri": "https://localhost:8080/"
    },
    "id": "ZbeVtNyW6SMq",
    "outputId": "d0e9832a-e2a8-4819-c852-5ff9a427a6a6"
   },
   "outputs": [
    {
     "data": {
      "text/plain": [
       "array([11, 17, 23])"
      ]
     },
     "execution_count": 129,
     "metadata": {},
     "output_type": "execute_result"
    }
   ],
   "source": [
    "np.dot(A, b) # even though technically dot products are between vectors only"
   ]
  },
  {
   "cell_type": "code",
   "execution_count": 130,
   "metadata": {
    "colab": {
     "base_uri": "https://localhost:8080/"
    },
    "id": "srVI55X96SMu",
    "outputId": "881f9985-25e3-4589-942c-42afb9ecf7cb"
   },
   "outputs": [
    {
     "data": {
      "text/plain": [
       "tensor([[3, 4],\n",
       "        [5, 6],\n",
       "        [7, 8]])"
      ]
     },
     "execution_count": 130,
     "metadata": {},
     "output_type": "execute_result"
    }
   ],
   "source": [
    "A_pt = torch.tensor([[3, 4], [5, 6], [7, 8]])\n",
    "A_pt"
   ]
  },
  {
   "cell_type": "code",
   "execution_count": 131,
   "metadata": {
    "colab": {
     "base_uri": "https://localhost:8080/"
    },
    "id": "5SDn71Xc6SMv",
    "outputId": "2af7f92d-7799-446c-bad1-e6368df39940"
   },
   "outputs": [
    {
     "data": {
      "text/plain": [
       "tensor([1, 2])"
      ]
     },
     "execution_count": 131,
     "metadata": {},
     "output_type": "execute_result"
    }
   ],
   "source": [
    "b_pt = torch.tensor([1, 2])\n",
    "b_pt"
   ]
  },
  {
   "cell_type": "code",
   "execution_count": 132,
   "metadata": {
    "colab": {
     "base_uri": "https://localhost:8080/"
    },
    "id": "OIeoJlsh6SMx",
    "outputId": "0b1008a9-b5e7-4d40-b88e-2bb0c0319f91"
   },
   "outputs": [
    {
     "data": {
      "text/plain": [
       "tensor([11, 17, 23])"
      ]
     },
     "execution_count": 132,
     "metadata": {},
     "output_type": "execute_result"
    }
   ],
   "source": [
    "torch.matmul(A_pt, b_pt) # like np.dot(), automatically infers dims in order to perform dot product, matvec, or matrix multiplication"
   ]
  },
  {
   "cell_type": "code",
   "execution_count": 133,
   "metadata": {
    "colab": {
     "base_uri": "https://localhost:8080/"
    },
    "id": "pnob9GkB6SMs",
    "outputId": "07b3a129-35f1-41b8-b1f9-7c208a4b9277"
   },
   "outputs": [
    {
     "data": {
      "text/plain": [
       "<tf.Variable 'Variable:0' shape=(3, 2) dtype=int32, numpy=\n",
       "array([[3, 4],\n",
       "       [5, 6],\n",
       "       [7, 8]], dtype=int32)>"
      ]
     },
     "execution_count": 133,
     "metadata": {},
     "output_type": "execute_result"
    }
   ],
   "source": [
    "A_tf = tf.Variable([[3, 4], [5, 6], [7, 8]])\n",
    "A_tf"
   ]
  },
  {
   "cell_type": "code",
   "execution_count": 134,
   "metadata": {
    "colab": {
     "base_uri": "https://localhost:8080/"
    },
    "id": "vYtWxf8K6SMt",
    "outputId": "a83bf927-bb8e-4c60-b6da-3cb6cb5edd57"
   },
   "outputs": [
    {
     "data": {
      "text/plain": [
       "<tf.Variable 'Variable:0' shape=(2,) dtype=int32, numpy=array([1, 2], dtype=int32)>"
      ]
     },
     "execution_count": 134,
     "metadata": {},
     "output_type": "execute_result"
    }
   ],
   "source": [
    "b_tf = tf.Variable([1, 2])\n",
    "b_tf"
   ]
  },
  {
   "cell_type": "code",
   "execution_count": 135,
   "metadata": {
    "colab": {
     "base_uri": "https://localhost:8080/"
    },
    "id": "NGBImWRH6SMt",
    "outputId": "3d2f4fcd-04d8-4dbb-bee5-f9c2151fdea3"
   },
   "outputs": [
    {
     "data": {
      "text/plain": [
       "<tf.Tensor: shape=(3,), dtype=int32, numpy=array([11, 17, 23], dtype=int32)>"
      ]
     },
     "execution_count": 135,
     "metadata": {},
     "output_type": "execute_result"
    }
   ],
   "source": [
    "tf.linalg.matvec(A_tf, b_tf)"
   ]
  },
  {
   "cell_type": "markdown",
   "metadata": {
    "id": "kzjZmdRR6SMy"
   },
   "source": [
    "**Return to slides here.**"
   ]
  },
  {
   "cell_type": "markdown",
   "metadata": {
    "id": "21ySqay36SM5"
   },
   "source": [
    "### Matrix Multiplication (with Two Matrices)"
   ]
  },
  {
   "cell_type": "code",
   "execution_count": 136,
   "metadata": {
    "colab": {
     "base_uri": "https://localhost:8080/"
    },
    "id": "0YRG1Ig2cgvo",
    "outputId": "02ab25c2-ca74-4d3a-d845-6716906305a3"
   },
   "outputs": [
    {
     "data": {
      "text/plain": [
       "array([[3, 4],\n",
       "       [5, 6],\n",
       "       [7, 8]])"
      ]
     },
     "execution_count": 136,
     "metadata": {},
     "output_type": "execute_result"
    }
   ],
   "source": [
    "A"
   ]
  },
  {
   "cell_type": "code",
   "execution_count": 137,
   "metadata": {
    "colab": {
     "base_uri": "https://localhost:8080/"
    },
    "id": "DyOEZk_c6SM5",
    "outputId": "bb6d846b-4a97-4b90-a6ca-d4010269a6c9"
   },
   "outputs": [
    {
     "data": {
      "text/plain": [
       "array([[1, 9],\n",
       "       [2, 0]])"
      ]
     },
     "execution_count": 137,
     "metadata": {},
     "output_type": "execute_result"
    }
   ],
   "source": [
    "B = np.array([[1, 9], [2, 0]])\n",
    "B"
   ]
  },
  {
   "cell_type": "code",
   "execution_count": 138,
   "metadata": {
    "colab": {
     "base_uri": "https://localhost:8080/"
    },
    "id": "SfKuNxH-6SM6",
    "outputId": "3c6271ee-c89e-4707-ba0d-96e8a585ebf7"
   },
   "outputs": [
    {
     "data": {
      "text/plain": [
       "array([[11, 27],\n",
       "       [17, 45],\n",
       "       [23, 63]])"
      ]
     },
     "execution_count": 138,
     "metadata": {},
     "output_type": "execute_result"
    }
   ],
   "source": [
    "np.dot(A, B)"
   ]
  },
  {
   "cell_type": "markdown",
   "metadata": {
    "id": "WcnQMF0s6SNB"
   },
   "source": [
    "Note that matrix multiplication is not \"commutative\" (i.e., $AB \\neq BA$) so uncommenting the following line will throw a size mismatch error:"
   ]
  },
  {
   "cell_type": "code",
   "execution_count": 139,
   "metadata": {
    "id": "_mwBGOXO6SNB"
   },
   "outputs": [],
   "source": [
    "# np.dot(B, A)"
   ]
  },
  {
   "cell_type": "code",
   "execution_count": 140,
   "metadata": {
    "colab": {
     "base_uri": "https://localhost:8080/"
    },
    "id": "JrrvPoNE6SM9",
    "outputId": "8e9b7b0e-c56e-4a28-f858-93886de0968d"
   },
   "outputs": [
    {
     "data": {
      "text/plain": [
       "tensor([[1, 9],\n",
       "        [2, 0]])"
      ]
     },
     "execution_count": 140,
     "metadata": {},
     "output_type": "execute_result"
    }
   ],
   "source": [
    "B_pt = torch.from_numpy(B) # much cleaner than TF conversion\n",
    "B_pt"
   ]
  },
  {
   "cell_type": "code",
   "execution_count": 141,
   "metadata": {
    "colab": {
     "base_uri": "https://localhost:8080/"
    },
    "id": "Z6PfwCvX6SM-",
    "outputId": "37454147-f8c3-41f4-f8ce-6fb3ef8f4524"
   },
   "outputs": [
    {
     "data": {
      "text/plain": [
       "tensor([[1, 9],\n",
       "        [2, 0]])"
      ]
     },
     "execution_count": 141,
     "metadata": {},
     "output_type": "execute_result"
    }
   ],
   "source": [
    "# another neat way to create the same tensor with transposition:\n",
    "B_pt = torch.tensor([[1, 2], [9, 0]]).T\n",
    "B_pt"
   ]
  },
  {
   "cell_type": "code",
   "execution_count": 142,
   "metadata": {
    "colab": {
     "base_uri": "https://localhost:8080/"
    },
    "id": "16ZNRaVe6SM_",
    "outputId": "c32eb80d-f84c-4670-dead-0f34b0f9498f"
   },
   "outputs": [
    {
     "data": {
      "text/plain": [
       "tensor([[11, 27],\n",
       "        [17, 45],\n",
       "        [23, 63]])"
      ]
     },
     "execution_count": 142,
     "metadata": {},
     "output_type": "execute_result"
    }
   ],
   "source": [
    "torch.matmul(A_pt, B_pt) # no need to change functions, unlike in TF"
   ]
  },
  {
   "cell_type": "code",
   "execution_count": 143,
   "metadata": {
    "colab": {
     "base_uri": "https://localhost:8080/"
    },
    "id": "rkymNjE46SM8",
    "outputId": "712a076c-160d-4e9e-d57f-29ef716eff08"
   },
   "outputs": [
    {
     "data": {
      "text/plain": [
       "<tf.Tensor: shape=(2, 2), dtype=int32, numpy=\n",
       "array([[1, 9],\n",
       "       [2, 0]], dtype=int32)>"
      ]
     },
     "execution_count": 143,
     "metadata": {},
     "output_type": "execute_result"
    }
   ],
   "source": [
    "B_tf = tf.convert_to_tensor(B, dtype=tf.int32)\n",
    "B_tf"
   ]
  },
  {
   "cell_type": "code",
   "execution_count": 144,
   "metadata": {
    "colab": {
     "base_uri": "https://localhost:8080/"
    },
    "id": "rslTzFRk6SM8",
    "outputId": "d424a4ee-e161-4ddf-e825-e533507d66f5"
   },
   "outputs": [
    {
     "data": {
      "text/plain": [
       "<tf.Tensor: shape=(3, 2), dtype=int32, numpy=\n",
       "array([[11, 27],\n",
       "       [17, 45],\n",
       "       [23, 63]], dtype=int32)>"
      ]
     },
     "execution_count": 144,
     "metadata": {},
     "output_type": "execute_result"
    }
   ],
   "source": [
    "tf.matmul(A_tf, B_tf)"
   ]
  },
  {
   "cell_type": "markdown",
   "metadata": {
    "id": "0eBiTmPp6SNC"
   },
   "source": [
    "**Return to slides here.**"
   ]
  },
  {
   "cell_type": "markdown",
   "metadata": {
    "id": "L2H9F-DQ6SMz"
   },
   "source": [
    "### Symmetric Matrices"
   ]
  },
  {
   "cell_type": "code",
   "execution_count": 145,
   "metadata": {
    "colab": {
     "base_uri": "https://localhost:8080/"
    },
    "id": "5YsPoWo76SMz",
    "outputId": "d41b1efa-ec4e-4fde-82fb-c3a98ddc3d49"
   },
   "outputs": [
    {
     "data": {
      "text/plain": [
       "array([[0, 1, 2],\n",
       "       [1, 7, 8],\n",
       "       [2, 8, 9]])"
      ]
     },
     "execution_count": 145,
     "metadata": {},
     "output_type": "execute_result"
    }
   ],
   "source": [
    "X_sym = np.array([[0, 1, 2], [1, 7, 8], [2, 8, 9]])\n",
    "X_sym"
   ]
  },
  {
   "cell_type": "code",
   "execution_count": 146,
   "metadata": {
    "colab": {
     "base_uri": "https://localhost:8080/"
    },
    "id": "Skg1wSQVcgv2",
    "outputId": "dde3fe41-cc5b-4647-ffaf-5a207a82b644"
   },
   "outputs": [
    {
     "data": {
      "text/plain": [
       "array([[0, 1, 2],\n",
       "       [1, 7, 8],\n",
       "       [2, 8, 9]])"
      ]
     },
     "execution_count": 146,
     "metadata": {},
     "output_type": "execute_result"
    }
   ],
   "source": [
    "X_sym.T"
   ]
  },
  {
   "cell_type": "code",
   "execution_count": 147,
   "metadata": {
    "colab": {
     "base_uri": "https://localhost:8080/"
    },
    "id": "Jv40-i9H6SM1",
    "outputId": "b23c92fa-c452-4a36-ca27-92fd1dcd64bc"
   },
   "outputs": [
    {
     "data": {
      "text/plain": [
       "array([[ True,  True,  True],\n",
       "       [ True,  True,  True],\n",
       "       [ True,  True,  True]])"
      ]
     },
     "execution_count": 147,
     "metadata": {},
     "output_type": "execute_result"
    }
   ],
   "source": [
    "X_sym.T == X_sym"
   ]
  },
  {
   "cell_type": "markdown",
   "metadata": {
    "id": "QZFoUFkq6SM2"
   },
   "source": [
    "**Return to slides here.**"
   ]
  },
  {
   "cell_type": "markdown",
   "metadata": {
    "id": "Mq_c3ftZ6SM2"
   },
   "source": [
    "### Identity Matrices"
   ]
  },
  {
   "cell_type": "code",
   "execution_count": 148,
   "metadata": {
    "colab": {
     "base_uri": "https://localhost:8080/"
    },
    "id": "KVSNbH-Z6SM2",
    "outputId": "46ce4da4-9435-4744-e097-d7129142bf0b"
   },
   "outputs": [
    {
     "data": {
      "text/plain": [
       "tensor([[1, 0, 0],\n",
       "        [0, 1, 0],\n",
       "        [0, 0, 1]])"
      ]
     },
     "execution_count": 148,
     "metadata": {},
     "output_type": "execute_result"
    }
   ],
   "source": [
    "I = torch.tensor([[1, 0, 0], [0, 1, 0], [0, 0, 1]])\n",
    "I"
   ]
  },
  {
   "cell_type": "code",
   "execution_count": 149,
   "metadata": {
    "colab": {
     "base_uri": "https://localhost:8080/"
    },
    "id": "wcoPDhvR6SM3",
    "outputId": "2fb868dc-a57d-4c88-9fa9-d6009ec28a76"
   },
   "outputs": [
    {
     "data": {
      "text/plain": [
       "tensor([25,  2,  5])"
      ]
     },
     "execution_count": 149,
     "metadata": {},
     "output_type": "execute_result"
    }
   ],
   "source": [
    "x_pt = torch.tensor([25, 2, 5])\n",
    "x_pt"
   ]
  },
  {
   "cell_type": "code",
   "execution_count": 150,
   "metadata": {
    "colab": {
     "base_uri": "https://localhost:8080/"
    },
    "id": "tuA4RsMv6SM4",
    "outputId": "d8983050-aafa-4d61-9fa2-8814a245bc5a"
   },
   "outputs": [
    {
     "data": {
      "text/plain": [
       "tensor([25,  2,  5])"
      ]
     },
     "execution_count": 150,
     "metadata": {},
     "output_type": "execute_result"
    }
   ],
   "source": [
    "torch.matmul(I, x_pt)"
   ]
  },
  {
   "cell_type": "markdown",
   "metadata": {
    "id": "bgDiOYLk6SM5"
   },
   "source": [
    "**Return to slides here.**"
   ]
  },
  {
   "cell_type": "markdown",
   "metadata": {
    "id": "3S_6Yfdkcgv7"
   },
   "source": [
    "### Answers to Matrix Multiplication Qs"
   ]
  },
  {
   "cell_type": "code",
   "execution_count": 151,
   "metadata": {
    "colab": {
     "base_uri": "https://localhost:8080/"
    },
    "id": "pINsKNxH6SNC",
    "outputId": "749e8b80-4ece-4e71-d253-071ee8231e73"
   },
   "outputs": [
    {
     "data": {
      "text/plain": [
       "tensor([[0, 1, 2],\n",
       "        [3, 4, 5],\n",
       "        [6, 7, 8]])"
      ]
     },
     "execution_count": 151,
     "metadata": {},
     "output_type": "execute_result"
    }
   ],
   "source": [
    "M_q = torch.tensor([[0, 1, 2], [3, 4, 5], [6, 7, 8]])\n",
    "M_q"
   ]
  },
  {
   "cell_type": "code",
   "execution_count": 152,
   "metadata": {
    "colab": {
     "base_uri": "https://localhost:8080/"
    },
    "id": "gfjWd8OO6SNE",
    "outputId": "e05d8691-6939-4356-ef6e-d4cb66311d79"
   },
   "outputs": [
    {
     "data": {
      "text/plain": [
       "tensor([[-1,  0],\n",
       "        [ 1,  1],\n",
       "        [-2,  2]])"
      ]
     },
     "execution_count": 152,
     "metadata": {},
     "output_type": "execute_result"
    }
   ],
   "source": [
    "V_q = torch.tensor([[-1, 1, -2], [0, 1, 2]]).T\n",
    "V_q"
   ]
  },
  {
   "cell_type": "code",
   "execution_count": 153,
   "metadata": {
    "colab": {
     "base_uri": "https://localhost:8080/"
    },
    "id": "boSkaV2M6SNF",
    "outputId": "412a3565-f9fd-4e6f-f3b0-c85ec84b1a9f"
   },
   "outputs": [
    {
     "data": {
      "text/plain": [
       "tensor([[ -3,   5],\n",
       "        [ -9,  14],\n",
       "        [-15,  23]])"
      ]
     },
     "execution_count": 153,
     "metadata": {},
     "output_type": "execute_result"
    }
   ],
   "source": [
    "torch.matmul(M_q, V_q)"
   ]
  },
  {
   "cell_type": "markdown",
   "metadata": {
    "id": "slSNKUcN6SNG"
   },
   "source": [
    "### Matrix Inversion"
   ]
  },
  {
   "cell_type": "code",
   "execution_count": 154,
   "metadata": {
    "colab": {
     "base_uri": "https://localhost:8080/"
    },
    "id": "EW0i5ZRk6SNG",
    "outputId": "157f1989-5346-4066-98ed-f1c807610754"
   },
   "outputs": [
    {
     "data": {
      "text/plain": [
       "array([[ 4,  2],\n",
       "       [-5, -3]])"
      ]
     },
     "execution_count": 154,
     "metadata": {},
     "output_type": "execute_result"
    }
   ],
   "source": [
    "X = np.array([[4, 2], [-5, -3]])\n",
    "X"
   ]
  },
  {
   "cell_type": "code",
   "execution_count": 155,
   "metadata": {
    "colab": {
     "base_uri": "https://localhost:8080/"
    },
    "id": "hTYpxaWR6SNI",
    "outputId": "dee8a0e1-801f-48e7-ea6a-64d6822a6ba9"
   },
   "outputs": [
    {
     "data": {
      "text/plain": [
       "array([[ 1.5,  1. ],\n",
       "       [-2.5, -2. ]])"
      ]
     },
     "execution_count": 155,
     "metadata": {},
     "output_type": "execute_result"
    }
   ],
   "source": [
    "Xinv = np.linalg.inv(X)\n",
    "Xinv"
   ]
  },
  {
   "cell_type": "markdown",
   "metadata": {
    "id": "XFDBBdYOc-7E"
   },
   "source": [
    "As a quick aside, let's prove that $X^{-1}X = I_n$ as per the slides:"
   ]
  },
  {
   "cell_type": "code",
   "execution_count": 156,
   "metadata": {
    "colab": {
     "base_uri": "https://localhost:8080/"
    },
    "id": "tyPhf-uZcvdB",
    "outputId": "1b0f5f09-b0da-4f36-d248-f68056b0f4e1"
   },
   "outputs": [
    {
     "data": {
      "text/plain": [
       "array([[1.00000000e+00, 1.11022302e-16],\n",
       "       [2.22044605e-16, 1.00000000e+00]])"
      ]
     },
     "execution_count": 156,
     "metadata": {},
     "output_type": "execute_result"
    }
   ],
   "source": [
    "np.dot(Xinv, X)"
   ]
  },
  {
   "cell_type": "markdown",
   "metadata": {
    "id": "SVwvbBvclul1"
   },
   "source": [
    "...and now back to solving for the unknowns in $w$:"
   ]
  },
  {
   "cell_type": "code",
   "execution_count": 157,
   "metadata": {
    "colab": {
     "base_uri": "https://localhost:8080/"
    },
    "id": "Q5sQqFaz6SNK",
    "outputId": "92c47ee8-9375-4c79-c8ea-63c56ce5e396"
   },
   "outputs": [
    {
     "data": {
      "text/plain": [
       "array([ 4, -7])"
      ]
     },
     "execution_count": 157,
     "metadata": {},
     "output_type": "execute_result"
    }
   ],
   "source": [
    "y = np.array([4, -7])\n",
    "y"
   ]
  },
  {
   "cell_type": "code",
   "execution_count": 158,
   "metadata": {
    "colab": {
     "base_uri": "https://localhost:8080/"
    },
    "id": "PK7m6F1I6SNL",
    "outputId": "ac9bda7d-a937-4c90-e8d5-ed177a1f8dc0"
   },
   "outputs": [
    {
     "data": {
      "text/plain": [
       "array([-1.,  4.])"
      ]
     },
     "execution_count": 158,
     "metadata": {},
     "output_type": "execute_result"
    }
   ],
   "source": [
    "w = np.dot(Xinv, y)\n",
    "w"
   ]
  },
  {
   "cell_type": "markdown",
   "metadata": {
    "id": "fyBOHgdccgwD"
   },
   "source": [
    "Show that $y = Xw$:"
   ]
  },
  {
   "cell_type": "code",
   "execution_count": 159,
   "metadata": {
    "colab": {
     "base_uri": "https://localhost:8080/"
    },
    "id": "SVBojjwacgwD",
    "outputId": "805a0f2c-8ae0-41d8-c121-c270bd67c479"
   },
   "outputs": [
    {
     "data": {
      "text/plain": [
       "array([ 4., -7.])"
      ]
     },
     "execution_count": 159,
     "metadata": {},
     "output_type": "execute_result"
    }
   ],
   "source": [
    "np.dot(X, w)"
   ]
  },
  {
   "cell_type": "markdown",
   "metadata": {
    "id": "rKELsi0PZCr0"
   },
   "source": [
    "**Geometric Visualization**\n",
    "\n",
    "Recalling from the slides that the two equations in the system are:\n",
    "$$ 4b + 2c = 4 $$\n",
    "$$ -5b - 3c = -7 $$\n",
    "\n",
    "Both equations can be rearranged to isolate a variable, say $c$. Starting with the first equation:\n",
    "$$ 4b + 2c = 4 $$\n",
    "$$ 2b + c = 2 $$\n",
    "$$ c = 2 - 2b $$\n",
    "\n",
    "Then for the second equation:\n",
    "$$ -5b - 3c = -7 $$\n",
    "$$ -3c = -7 + 5b $$\n",
    "$$ c = \\frac{-7 + 5b}{-3} = \\frac{7 - 5b}{3} $$"
   ]
  },
  {
   "cell_type": "code",
   "execution_count": 160,
   "metadata": {
    "id": "ZASIBqroap7k"
   },
   "outputs": [],
   "source": [
    "b = np.linspace(-10, 10, 1000) # start, finish, n points"
   ]
  },
  {
   "cell_type": "code",
   "execution_count": 161,
   "metadata": {
    "id": "9XsUdVsmaqTr"
   },
   "outputs": [],
   "source": [
    "c1 = 2 - 2*b"
   ]
  },
  {
   "cell_type": "code",
   "execution_count": 162,
   "metadata": {
    "id": "8Mwn1tAca1Cl"
   },
   "outputs": [],
   "source": [
    "c2 = (7-5*b)/3"
   ]
  },
  {
   "cell_type": "code",
   "execution_count": 163,
   "metadata": {
    "colab": {
     "base_uri": "https://localhost:8080/",
     "height": 455
    },
    "id": "X5ozP9jZauQa",
    "outputId": "d6d69af4-657c-4a70-9020-b028c43c20fa"
   },
   "outputs": [
    {
     "data": {
      "image/png": "iVBORw0KGgoAAAANSUhEUgAAAjoAAAG2CAYAAAB20iz+AAAAOnRFWHRTb2Z0d2FyZQBNYXRwbG90bGliIHZlcnNpb24zLjEwLjAsIGh0dHBzOi8vbWF0cGxvdGxpYi5vcmcvlHJYcgAAAAlwSFlzAAAPYQAAD2EBqD+naQAAXjVJREFUeJzt3Xl4VOXB/vHvmZnsIQmQhH1HkCCbLIoIRjbZCSELWwJW27pWpdq36lu31xarti51q9oiYctKwo7siyIICIogCLLvYUvInszM74/8SksBCZCZk0nuz3XNdTmT55xzXw5Mbs458zyG0+l0IiIiIlINWcwOICIiIuIqKjoiIiJSbanoiIiISLWloiMiIiLVloqOiIiIVFsqOiIiIlJtqeiIiIhItaWiIyIiItWWio6IiIhUWyo6IiIiUm15TNF56aWXMAzjkkf9+vXNjiUiIiJVmM3sANejffv2LF++/OJzq9VqYhoRERGp6jyq6NhsNp3FERERkQrzqKKzZ88eGjZsiI+PD3fccQd/+tOfaNmy5VXHFxcXU1xcfPG5w+Hg7Nmz1K1bF8Mw3BFZREREbpLT6eTChQs0bNgQi+X67roxnE6n00W5KtXixYspKCigTZs2nDx5kldffZVdu3axY8cO6tate8VtXnrpJV5++WU3JxURERFXOHz4MI0bN76ubTym6Py3/Px8WrVqxe9+9zsmT558xTH/fUYnJyeHpk2bcvjwYYKCgtwVtUIcdgfzfzmfnRk7sXpZiUmNoWXfy89WleSXMH3gdE59f4r6neszYckEvPy8TEh84/JL8mn4l4YAHPvtMQK8A0xOVHM5HA527doFwK233nrd/1ISEXGH3NxcmjRpwvnz5wkODr6ubT3q0tV/CggIoEOHDuzZs+eqY3x8fPDx8bns9aCgoCpXdADGzR5Henw6uzJ3sXDcQsYvHk/ze5pfOigI7p9/Px93+5jz286z7nfrGPnZSI+6FGctsYJv+X8HBQWp6JjI4XAQGBgIlL8XKjoiUpXdyO86j/1UKy4u5ocffqBBgwZmR6k0Vi8rMckx3DLkFsoKy5g1dBaHvzp82biQ5iHEpMRgWA2+TfqWje9uNCGtiIhI1ecxRefpp59mzZo17N+/n40bNxITE0Nubi4TJ040O1qlsnpbicuIo0W/FpTmlzJz0EyObTl22biW/Voy8M2BACz97VL2r9zv7qgiIiJVnscUnSNHjjB27Fjatm1LdHQ03t7ebNiwgWbNmpkdrdLZfG2MmTuGpr2bUpxbzIyBMzj53cnLxt3xxB10TOiI0+4kLS6N8wfOuz/sDbBZbEzsNJGJnSZis3js1VMREfEAHnsz8o3Izc0lODiYnJycKnmPzn8rvlDM9AHTObrxKP5h/kxaM4mwdmGXjCktLGVq76kc33Kcep3q8cD6B/Dy96ybk8U8DoeDnTt3AhAREaF7dESkSrqZ39/6VKvCfGr5MGHJBOp3qU9BdgFJ/ZI4u/fsJWO8/LyIz4wnIDyAk9+eZO4v5lKDuquIiMjPUtGp4nxDfElYmkD4beHkHc8jqV8S5w+ev2RMcJNgYtNjsdgs7EjZwfo31psTtoKcTif5Jfnkl+SrlImIiEup6HgA/1B/EpYnULdtXXIO5ZDUN4nco7mXjGnWuxmD3h0EwPLfL2fvkr1mRK2QgtICAqcEEjglkILSArPjiIhINaai4yEC6wWSuCKR2i1rc27fOZL6JZF3Mu+SMd0e6kaXB7uAEzLGZlx2mUtERKSmUdHxIEGNgkhcmUhw02DO7D7D9P7TKTj97zMihmEw5L0hNL6zMUXni0iOSqb4QvHP7FFERKR6U9HxMCHNQkhckUhgg0BOfX+K6QOnU3iu8OLPbT424jLiCGwQSPaObLImZuF06D4YERGpmVR0PFCd1nVIXJGIf5g/J7aeYObgmZecuanVsBbxc+KxelvZlbmLdX9aZ2JaERER86joeKiwdmEkLk/Er44fRzceZdbQWZTkl1z8eeM7GzPk/SEArHphFbvn7zYrqoiIiGlUdDxYvY71mLB0Aj7BPhxad4jkkcmUFpZe/PntD95Ot0e6gRPmjJ/D6V2nTUwrIiLifio6Hq5h14aMXzwe70Bv9q/YT1pMGmXFZRd/PujtQTTr04ySCyUkj0ymKKfIxLTlrBYrMRExxETEYLVYzY4jIiLVmIpONdCkZxPGLRyHzc/GnkV7yBiTgb3UDpSviB6bFktQ4yDO/HiGOePnmH5zsq/Nl7TYNNJi0/C1+ZqaRUREqjcVnWqiWZ9mjJk7BquPlV1Zu8hKzMJhdwAQEB5AfFY8Nl8bexbuYdWLq0xOKyIi4h4qOtVIqwGtiEuPw+Jl4fvk75n3wLyLZ28adm3IsI+HAbDu1XXszNhpZlQRERG3UNGpZtoMa0NMcgyG1eDbad+y8JGFF9eT6pTQiTufuhOArIlZnPr+lCkZ80vyMV42MF42yC/JNyWDiIjUDCo61VC76HaMShoFBmz5+xY+f+rzi2VnwOsDaNG3BaX5pSSPTKbwbOE19iYiIuK5VHSqqQ7jOjDiHyMA2PjORlY8uwKn04nFZiEmJYaQ5iGc23eOjLEZF+/lERERqW5UdKqxLvd3YcgH5ZMGfvnnL1nzyhqgfDX0+Kx4vPy9+GnpT6x4doWZMUVERFxGRaea6/5wdwb+dSAAa15aw5evfwlA/U71GTl1JADr31jP9tnbTcsoIiLiKio6NUDPp3rS9099AVj+P8vZ+O5GANrHtafX73sBMO+BeRzfety0jCIiIq6golND9H62N33+0AeAJU8sYcvHWwDo+2pfWg9qTVlhGSlRKeRn61tQIiJSfajo1CCRL0fS8+meACx4aAHfJn2LxWohelY0dVrXIedQDunx6RdnVXYVq8XKkFuGMOSWIVoCQkREXEpFpwYxDIMBrw+g+2PdwQlz75/L9ynf41fbj/iseLwDvTmw6gDLnlnm0hy+Nl8WjlvIwnELtQSEiIi4lIpODWMYBoPfGUyXB7vgdDiZM34Ou7J2Ed4+nKikKKD86+jbpm0zNaeIiEhlUNGpgQyLwbCPhtExoSNOu5O0uDT2LN5Du1Ht6PNC+X08C369gKNfHzU5qYiIyM1R0amhLFYLI/85kojYCBylDlKjU9m3Yh+RL0bSdkRb7MV2UqJTyDuRV+nHzi/JJ+BPAQT8KUBLQIiIiEup6NRgFpuF6JnRtB3RlrKiMpJHJHPoy0OMmj6K0FtDuXD0AqkxqdhLKv/m5ILSAgpKCyp9vyIiIv9JRaeGs3pZiUmNofWg1pQWlDJr6Cyyf8hmzNwx+AT5cPjLwyx+YrHZMUVERG6Iio5g87ERNyeO5vc2p+RCCTMHzaQkv4ToWdHlC4N+tOXivDsiIiKeREVHAPDy82LsvLE06dWEovNFTB8wnZBmIfR9tXxG5UWPLeLw+sMmpxQREbk+KjpykXegN+MWjqNh94YUnikkqX8St0bfSkTM/79heXQquUdzzY4pIiJSYSo6cgnfYF8mLJlAvU71yD+Zz/T+0+nzQh/Cbwsn70QeqdGplBWVmR1TRESkQlR05DJ+dfxIWJZAWEQYF45eYPbw2Qz5YAi+tX05+vVRFj6yEKfTecP7txgW7ml2D/c0uweLoT+CIiLiOvotI1cUEBZAwvIE6txSh5yDOcz7xTyGfDAEw2Kwbeo2Nr2/6Yb37eflx+pJq1k9aTV+Xn6VmFpERORSKjpyVbUa1CJxRSIhzUM4u/csa19e++8V0J9cwoHVB8wNKCIicg0qOvKzgpsEk7gykaDGQZzedZpdmbtoN7pd+dIRsWnkHMoxO6KIiMhVqejINdVuUZvEFYkE1g/k5HcnObfvHOEdwyk4XUByVDKlBaXXtb/8knzC3ggj7I0wLQEhIiIupaIjFVK3TV0SVyTiH+rPia0nsNqs+NXx48TWE8z/1fzrvjn5dMFpThecdlFaERGRcio6UmFhEWEkLE/At7Yvx785TlCTILDA9pnb2fDWBrPjiYiIXEZFR65L/U71mfD5BHyCfDj57UnqtqkLwLJnlrFv+T6T04mIiFxKRUeuW6PujRi3aBxeAV6c2XWGoMZBOB1O0uPTObfvnNnxRERELlLRkRvStFdTxs4fi83XRu6RXHxr+1J4tpDkqGRK8krMjiciIgKo6MhNaHFvC+Kz4rF6Wyk6V4TV18qp7aeYe//cm5o5WUREpLKo6MhNaX1fa2LTYrHYLNiL7GDAzvSdfPHaF1fdxmJY6NawG90adtMSECIi4lL6LSM3re2ItkTPisawGPD/T+SsfG4lexbtueJ4Py8/Nv1yE5t+uUlLQIiIiEup6EilaB/bnqhpUWD8+7X0semc+fGMaZlERERUdKTSdJzQkeEfD7/4vCS3hOSoZIpzi01MJSIiNZmKjlSq2x+8ncF/G3zx+ekfTpOZkInT8e+bkwtKC2j+dnOav92cgtICM2KKiEgNoaIjla7HYz0Y8MaAi893z9vNmlfWXHzudDo5mHOQgzkH9e0sERFxKRUdcYm7nr6LyFciLz5f8/IadmXtMi+QiIjUSCo64jJ9/rcPdz9398Xn6WPSyd6ZbWIiERGpaVR0xGUMw6Dvq32544k7ALAX25nWdxpFOUUmJxMRkZrCY4vOlClTMAyDJ5980uwo8jMMw+C+t+6j06ROAOSfzGfm4JkmpxIRkZrCI4vOpk2b+Pjjj+nYsaPZUaQCDMNg5D9G0nZkWwBOfnfS5EQiIlJT2MwOcL3y8vIYP348n3zyCa+++uoN7SO/JB9rifWy160WK74230vGXY3FsFwyq+/1jC0oLbjqt40Mw8Dfy/+GxhaWFuJwOq6aI8A74IbGFpUVYXfYb3rs0NlDye+fz75N+wg7FYZfqN/Pfr3c38sfwyifgbC4rJgyR9lVx/p5+V1cTqLEXkKpvbRSxvrafLFarNc9ttReSon96oub+th8sFls1z22zFFGcdnV5yXytnrjZfWq8FirUZ7X7rSTX5KPxXLlf/t4Wb3wtnqXj3XYKSq7+uXH/xzrcDooLC2slLE2iw0fmw9Q/s29n/uzcz1jr+fvvT4jrjy2sj4j4Pr+3usz4vKxlf0Z8a+x1/P33lWfETfK44rOo48+ytChQ+nfv/81i05xcTHFxf9+E3NzcwFo+JeG4Hv5+CG3DGHhuIUXn4e/GX7VD8h7mt3D6kmrLz5v/k5zThecvuLYbg27semXmy4+j3g/goM5B684NiIsgh2P7Lj4vPsn3dmZvfOKY5sFN+PAkwcuPu/zWR82H9t8xbGh/qFkP/PvG4EHzxzMmoNrrjjW38uf/Of+/aE8OnU0i/YsuuJYAOeL//6QTchMIH1n+lXH5i7L5bPOn/HoB4+SGZVJ+JvhVx176ulThAWEATD588l8sPmDq47d/8R+moc0B+D5Fc/z5ldvXnXs9w9/T/vw9gD8ad2feHnNy1cd+/WDX9O9UXcA3tnwDr9b/rurjl01cRWRzSMB+HjLxzy2+LGrjl0wdgFD2wwFYOb2mdw/9/6rjk2NSSW2fSwAmT9kEpced9WxU0dOZVLnSQB8vvdzhs0edtWx7w1+j4e7PQzAN6e/ofOczlcd+3r/13mm1zPlY49/Q49Pe1x17Iv3vMhLkS8B8EP2D9z24W1XHft0z6d5Y+AbABzKOUSLd1pcdewj3R7h/aHvA3C64PTP/tmZ2Gkin0V9BpQXgcApgVcdGxMRQ1ps2sXnPzdWnxHlXPkZkfds3sVi9OsFv2bat9OuOlafEeVc+RnxaI9HAVh3aB33Trv3qmPd8Rlxozzq0lVycjLffPMNU6ZMqdD4KVOmEBwcfPHRpEkTFyeUa7HYLDz07UP4h/pfe7CIiMhNMpweMmPb4cOH6datG0uXLqVTp/IbWyMjI+ncuTNvv/32Fbe50hmdJk2acCz7GEFBQZeN12npK491xWnpC8cu8Ne2f6WkuATDapC4LJFGPRpdcSzotLQrL13t3LkTu9NOy1ta6tIVunR1I2N16ar6fkZUlUtXubm5BAcHk5OTc8Xf3z/HY4pOVlYWo0aNwmr99701drsdwzCwWCwUFxdf8rMruZn/UVJ5CkoL6P5Jd8oKy4h9LhavEi+sPlYe3Pgg9TvVNztejeJwONi5s/yyR0RExFWLjoiImW7m97fHfKr169eP7du3s23btouPbt26MX78eLZt23bNkiNVh9PpZGf2Tn7M+5Fhn5RfH7YX25nae6omFBQRkUrlMTcj16pVi9tuu/SGpYCAAOrWrXvZ6+I5OozpQO53uXz1l68ouVDC1D5TeeCrB6h7S12zo4mISDXgMWd0pPrq/+f+tBzQEoDCM4VMi5zGuf3nTE4lIiLVgUcXndWrV1/1RmTxHBarhdjUWGq3rA3AhWMXSOqXRO6RXJOTiYiIp/PooiPVh2+IL2MXjMUroPwO//P7z5PUL4m8E3kmJxMREU+moiNVRli7MEbPHn3x+Zkfz5DUL4n87Kt/LVdEROTnqOiI2xmGQbPgZjQLbnZxDox/aTu8LZGvRF58nr0zmxkDZ1B47urzLIiIiFyNio64nb+XPweePMCBJw9cMpnZv/R5vg+3jroVAMNicGLbCWYOmklx7tUnthIREbkSFR2pcgyLQdS0KMIiwnA6nFhsFo5+fZSZQ2ZSknf12UFFRET+m4qOVEk+tXwYM3cMviG+OMocWL2tHP7yMLNHzKa08OpTrIuIiPwnFR1xu8LSQrp/0p3un3T/2TVO6rSuU35zsgH2EjtWHysHVh0gNTqVsuKrr2kjIiLyLyo64nYOp4PNxzaz+djmn100EKD1oNb0m9KvfLsyBzZfG3uX7CU9Ph176dUXBhQREQEVHfEAvX7Xi/bx7XHandh8bVh9rOyeu5vMCZk4yn6+KImISM2moiNVnmEYjPjHCOp1qkfR+SKCmgRh8bKwI3UHc38xF6fDaXZEERGpolR0xCN4B3gzJmsMfnX9OLf3HE17NcWwGnw3/TsWPLQAp1NlR0RELqeiIx4jpHkIMSkxGFaDA6sP0GF8BwyLwTeffMOSJ5ao7IiIyGVUdMSjtOzXkoFvDgRg+8zt3PX0XQB8/bevWf4/y1V2RETkEio6YopQ/1BC/UNvaNs7nriDjgkdcdqdfPOPb+j7x74ArH9jPatfWl2JKUVExNOp6IjbBXgHkP1MNtnPZBPgHXDd2xuGwbC/D6NB1wYUnilkR+oO+r/eH4C1r6zli9e+qOzIIiLioVR0xCN5+XkRnxlPQHgAJ789yfEtxy/Ot7Pi2RVseHuDyQlFRKQqUNERjxXcJJjY9FgsNgs7UnZgWAzuefEeAD5/6nM2f7TZ5IQiImI2FR1xu8LSQiI/iyTys8ifXQKiIpr1bsagdwcBsPz3y2l0RyN6/U8vABY+vJBtn2272bgiIuLBVHTE7RxOB2sOrmHNwTXXXAKiIro91I0uD3YBJ8wZN4cuD3Shx296ADDvgXlsn739po8hIiKeSUVHPJ5hGAx5bwiN72xM0fkiUkalcO//3cvtv7odp8NJZkImP8z5weyYIiJiAhUdqRZsPjbiMuIIbBBI9o5s5k6ay9D3h9JpYiecdifpY9LZs2iP2TFFRMTNVHSk2qjVsBbxc+KxelvZlbmLL177ghH/GEH7+PY4Sh2kRKewb/k+s2OKiIgbqehItdL4zsYMeX8IAKteWMWeRXsYNX0Ut0bdir3YzuwRszm49qDJKUVExF1UdKTauf3B2+n2SLfym5PHz+HcT+cYnTya1oNbU1ZYxqyhsziy4YjZMUVExA1UdMQU/l7++Hv5u2z/g94eRLM+zSi5UELyyGTKisqIy4ijRd8WlOSVMGPQDI5/c9xlxxcRkapBRUfcLsA7gPzn8sl/Lv+GloCoCKuXldi0WIIaB3HmxzPMGT8Hm4+NMfPG0PTuphTnFDN9wHRObj/pkuOLiEjVoKIj1VZAeADxWfHYfG3sWbiHVS+uwjvAm3ELx9GoRyMKzxYyvf90Tu86bXZUERFxERUdqdYadm3IsI+HAbDu1XXszNiJT5AP45eMp37n+uSfyiepXxJnfzprclIREXEFFR1xu6KyIobOGsrQWUMpKity+fE6JXTizqfuBCBrYhanvj+FX20/EpYlENY+jAvHLpDUN4nzB8+7PIuIiLiXio64nd1hZ9GeRSzaswi7w+6WYw54fQAt+ragNL+U5JHJFJ4txD/Un8TlidRtU5ecQzkk9Usi92iuW/KIiIh7qOhIjWCxWYhJiSGkeQjn9p0jY2wGDruDwPqBJK5IJKRFCOd+OkdSvyTyTuaZHVdERCqJio7UGP6h/sRnxePl78VPS39ixbMrAAhqHMTElRMJahLEmd1nmD5gOgVnCkxOKyIilUFFR2qU+p3qM3LqSADWv7H+4srmIc1DmLhyIoENAjm1/RQzBs6g6Lzr7x8SERHXUtGRGqd9XHt6/b4XAPMemMfxreUTB9ZpXYfEFYn4h/lz/JvjzBw8k+ILxWZGFRGRm6SiIzVS31f70npQ+ZIQKVEp5GfnAxDWLozE5Yn41fHjyIYjzB42m9KCUpPTiojIjVLRkRrJYrUQPSuaOq3rkHMoh/T4dOyl5d8Aq9exHhOWTsAnyIeDaw9eXEJCREQ8j4qOuF2AdwDOF504X3S6bAmIivCr7Ud8Vjzegd4cWHWAZc8su/izhl0bMn7xeLwCvNi3fB+pManYS9zzVXgREak8KjpSo4W3DycqKQqAje9sZNu0bRd/1uSuJoxbOA6bX/kSEhljM3CUOcwJKiIiN0RFR2q8dqPa0eeFPgAs+PUCjn599OLPmt/TnDFZY7B6W/lhzg9kJmbisKvsiIh4ChUdcbuisiJi02KJTYt1yxIQFRH5YiRtR7TFXmwnJTqFvBP/njSw1cBWxKbHYrFZ+H7298x/cD5Oh9PEtCIiUlEqOuJ2doed9J3ppO9Md9sSENdiWAxGTR9F6K2hXDh64bJ7ctoOb8vo5NEYVoNtn21j0WOLcDpVdkREqjoVHZH/zyfIhzFzx+AT5MPhLw+z+InFl/w8YnQEo5JGgQGbP9zM55M/V9kREaniVHRE/kPdNnWJnhUNBmz5aAtbPt5yyc87jOvAiE9HALDx7Y2sfH6lyo6ISBWmoiPyX9oMbUPfV/sCsOixRRxef/iSn3f5RReGvD8EgC+mfMHaV9e6PaOIiFSMio7IFdz97N1ExETgKHWQOjqV3KO5l/y8+yPdGfiXgQCsfmE1X77xpRkxRUTkGlR0RK7AMAxGTh1J+G3h5J3IIzU69bLZkXtO7knfP5af+Vn+u+Vs/NtGM6KKiMjPUNERuQrvQG/is+Lxre3L0a+PsvCRhZfdj9P7ud70/t/eACz5zRK2fLLlSrsSERGTqOiI2/l7+ZP3bB55z+bh7+VvdpyfVadVHWJSYjAsBtumbmPT+5suG3PvK/fS87c9gfIJB7+d/q27Y4qIyFWo6IjbGYZBgHcAAd4BGIZhdpxrajWgFf1f7w/AkieXcGD1gUt+bhgGA94YQPdHu4MT5k6ay47UHSYkFRGR/6aiI1IBPSf3pMO4DjjtTtJi08g5lHPJzw3DYPC7g+nyYBecDidzxs9h19xdJqUVEZF/8Zii8+GHH9KxY0eCgoIICgqiZ8+eLF68+NobSpVTXFbMpKxJTMqaRHFZsdlxKsQwDIZ/Mpz6XepTcLqA5KhkSgtKLx1jMRj20TA6jO+Ao8xBelw6e5fsNSmxiIiABxWdxo0b89prr7F582Y2b95M3759GTlyJDt26BKBpylzlDHt22lM+3YaZY6ya29QRXj5exGfGY9/qD8ntp5g/q/mX3ZzssVqIeqzKCJiIrCX2EkZlcL+lftNSiwiIh5TdIYPH86QIUNo06YNbdq04Y9//COBgYFs2LDB7GhSg4Q0CyE2LRbDarB95nY2vHX5nz+LzUL0rGjaDG9DWVEZs4fP5tAXh0xIKyIiHlN0/pPdbic5OZn8/Hx69ux51XHFxcXk5uZe8hC5Wc0jm3PfW/cBsOyZZexbvu+yMVYvK7GpsbQa2IrSglJmDpnJ0a+PujuqiEiN51FFZ/v27QQGBuLj48NDDz1EZmYmERERVx0/ZcoUgoODLz6aNGnixrRSnfV4rAedJ3XG6XCSHp/OuX3nLhtj87URnxlP88jmlFwoYcZ9Mzix7YQJaUVEai6PKjpt27Zl27ZtbNiwgYcffpiJEyeyc+fOq45/9tlnycnJufg4fPjwVceKXA/DMBj64VAa9WhE4dlCkqOSKckruWycl78XY+ePpcldTSg6X8T0AdM5teOUCYlFRGomjyo63t7etG7dmm7dujFlyhQ6derEO++8c9XxPj4+F7+l9a+HSGWx+dqImxNHQL0ATm0/xdz7515xJXPvQG/GLRpHw24NKThdQFK/JM78eMaExCIiNY9HFZ3/5nQ6KS72jK8nS/UU1CiIuIw4LF4Wdqbv5IvXvrjiON9gXyZ8PoF6HeuRfzKfpH5JnNt/+eUuERGpXB5TdJ577jnWrVvHgQMH2L59O88//zyrV69m/PjxZkeT6+Tv5c+pp09x6ulTVX4JiIpo2qspQ94bAsDK51eyZ9GeK47zq+NHwvIEQtuFknskl6S+SeQczrniWBERqRweU3ROnjxJQkICbdu2pV+/fmzcuJElS5YwYMAAs6PJdTIMg7CAMMICwjxiCYiK6PqrrnT9dVdwQsa4jKtemgoICyBxRSJ1Wtfh/IHzJPVN4sLxC25OKyJScxjOK91UUE3l5uYSHBxMTk6O7teRSmcvsTOt7zQOf3mY0HahPLjhQXyCfK44NudwDp/1+YzzB84T2i6USasnERAe4ObE4HA4Lt7QHxERgcXiMf/2EZEa5GZ+f+tTTdyuuKyYRxc+yqMLH/WYJSAqwuptJS49jloNa3H6h9NkJmbidFz53xHBTYJJXJlIrUblY6cPmE7h2UI3JxYRqf5UdMTtyhxlfLD5Az7Y/IFHLQFREYH1A4nPjMfqY2X33N2seWXNVcfWblGbiSsnElAvgJPfnWTGfTMoyilyY1oRkepPRUekkjXq0YhhHw0DYM3La9iVdfVVzOu2qUviikT8Q/05tvkYs4bMuuJ8PCIicmNUdERcoPOkzvT4TQ8AMhMyyd6ZfdWx4e3DSViWgG+IL4fXH2b28NmXrYwuIiI3RkVHxEUGvjmwfPmHvBKSRyZTdP7ql6Xqd67PhM8n4F3LmwOrD5AyKoWy4up1WU9ExAwqOiIuYvWyEpMaQ3DTYM7uPUvGuAwcdsdVxzfq0Yjxi8bj5e/FT0t/Ii02DXuJ3Y2JRUSqHxUdERcKCAsgPisem5+NvYv3suoPq352fNO7mzJ2/lhsvjZ+nP8jc8bPwVF29XIkIiI/T0VHxMUadGnAiE9HAPDFlC/YkbrjZ8e36Nui/Jtb3lZ2pu9k7v1zf/ZMkIiIXJ2Kjridn5cf+5/Yz/4n9uPn5Wd2HLfoMK4DPZ/uCcDc++dy4tsTPzu+9aDWxKTGYLFZ+G7Gdyx4aMFV5+QREZGrU9ERt7MYFpqHNKd5SHMsRs35I9j/tf60GtiK0oJSUqJSKDhT8LPjbx15K9EzozEsBls/3cri3yy+4uroIiJydTXnt4yIySxWC6Nnj6Z2y9qcP3Ce9Pj0a95/0z6uPSM/GwkGbHp/E8t+t0xlR0TkOqjoiNuV2Et4ZukzPLP0GUrsNWtyPL86fsRnxeMV4MX+FftZ9j/LrrlNp4RODPt7+QSEX735FatfXO3ilCIi1YeKjrhdqb2UN796kze/epNSe82bGK9eh3pETYsCYMNfN/DdjO+uuU3XX3Zl0LuDAFj7f2tZ96d1rowoIlJtqOiImCBidAS9n+8NwPxfzufYlmPX3OaOx++g/+v9AVj5/Eq+eusrl2YUEakOVHRETBL5ciS3DL2FsqIyUkalkH8q/5rb9HqmF5EvRwKwdPJSNn2wyaUZRUQ8nYqOiEksVgvRM6Kp26YuuYdzy2dCLr32TMh9/tCHu5+9G4BFjy5i6z+3ujqqiIjHUtERMZFviC/xWfF41/Lm4NqDfP7U59fcxjAM+v6xL3c8eQcA8x6cx/ZZ210dVUTEI6noiJgsrF0Y0TOjgfKvkH/zj2+uuY1hGNz31/vo+lBXcEJmYiY7M3a6OqqIiMdR0RGpAtoOb0vkK5EALHpkEUc2HLnmNoZhMPT9oXSe1Bmn3UnGmAx+XPCji5OKiHgWFR1xOz8vP75/+Hu+f/j7GrMEREX0eb4Pt466FXuJnZToFC4cv3DNbQyLwfBPh3Pb2NtwlDlIHZ3KT0t/ckNaERHPoKIjbmcxLLQPb0/78PY1agmIazEsBlHTogiLCCPveB6po1MpKy675nYWq4WoaVEXS1JyVDIH1hxwfWAREQ+g3zIiVYhPLR/GzB2Db4gvR746wqLHFlVoyQerl5WY5Jjyr6sXljFr6CwOf3XYDYlFRKo2FR1xuxJ7CS+tfomXVr9U45aAqIg6reswevZoMGDrp1vZ8vctFdrO6m0lLj2Olv1bUppfysxBMzm2+doTEYqIVGcqOuJ2pfZSXl7zMi+veblGLgFREa0HtabflH4ALH58MQfXHazQdjZfG/FZ8TTt3ZTi3GKmD5zOye9OujKqiEiVpqIjUkX1+l0v2se3x1HmIC0mjZzDORXazjvAm3ELx9H4zsYUnSsiqX8S2T9kuzitiEjVpKIjUkUZhsGIf4ygXqd65J/KJ2VUCqWFFTsD5lPLh/GLx9Pg9gYUZBeQ1C+Js3vPujixiEjVo6IjUoV5B3gzJmsMfnX9OL7lOAsfWlihm5OhfNblCUsnEN4hnLzjeUzrO43zB867NrCISBWjoiNSxYU0DyEmJQbDavBt0rdsfHdjhbf1r+tPwrIEQm8NJfdwLkn9ksg9muvCtCIiVYuKjogHaNmvJQPfHAjA0t8uZf/K/RXeNrBeIAnLE6jdsjbn9p0jqW8SeSfyXBVVRKRKUdER8RB3PHEHHRM64rQ7SYtLu67LUEGNgkhcmUhw02DO/HiGpP5JFJwucF1YEZEqQkVH3M7X5svXD37N1w9+ja/N1+w4HsMwDIb9fRgNujag8EwhyVHJlBZU/Ov5Ic1CSFyZSK2Gtcjekc30gdMpPFfowsQiIuZT0RG3s1qsdG/Une6NumO1WM2O41G8/LyIz4wnIDyAk9+eZO4v5lb45mSAOq3qkLgikYDwAE5sPcGsIbMozdNcRiJSfanoiHiY4CbBxKbHYrFZ2JGyg/VvrL+u7UNvDSVheQJ+dfw49vUxvnz0S8oKrr2mloiIJ1LREbcrsZfwxpdv8MaXb2gJiBvUrHczBr07CIDlv1/O3iV7r2v7eh3qkbAsAZ9gH858c4b1v1lf4Tl6REQ8iYqOuF2pvZTfLf8dv1v+Oy0BcRO6PdSNLg92ASdkjM247gkBG9zegHGLxmHzt5G9MZv0mPQKrZYuIuJJVHREPJRhGAx5b0j5Ug/ni0iOSqb4QvF17aPxnY256/27sPpa2btkLxljMrCX2l2UWETE/VR0RDyYzcdGXEYcgQ0Cyd6RTdbELJyOit+cDBDWLYye7/bE6mNlV9YuMhMycdgdLkosIuJeKjoiHq5Ww1rEz4nH6m1lV+Yu1v1p3XXvo17PesSmxWLxKr/Bed4v5l13YRIRqYpUdESqgcZ3NmbI+0MAWPXCKnbP333d+7hl6C3EJP97qYmFj1R8XS0RkapKRUekmrj9wdvp9kg3cMKc8XM4vev0de+jXXQ7Rk0fBQZs+fsWPn/qc5UdEfFoKjoi1cigtwfRrE8zSi6UkDwymaKcouveR4exHRj5z5EAbHxnIyueXaGyIyIeS0VH3M7X5suqiatYNXGVloCoZFYvK7FpsQQ1DuLMj2eYM37ODd1r03lSZ4Z+OBSAL//8JWteWVPZUUVE3EJFR9zOarES2TySyOaRWgLCBQLCA4jPisfma2PPwj2senHVDe2n20PduO+t+wBY89IavvjzF5UZU0TELVR0RKqhhl0bMuzjYQCse3UdOzN23tB+7nzyTvpN6QfAit+vYMM7Gyoto4iIO6joiNuV2kt5/+v3ef/r9zUzsgt1SujEnU/dCUDWxCxOfX/qhvZz9+/vps8LfQD4/MnP2fLxlkrLKCLiaio64nYl9hIeW/wYjy1+TGtdudiA1wfQom8LSvNLSR6ZTOHZwhvaT+RLkdz1zF0ALHhoAdumbavElCIirqOiI1KNWWwWYlJiCGkewrl958gYm3FDsx4bhkH/P/enx+M9wAnzfjGP71O+d0FiEZHKpaIjUs35h/oTnxWPl78XPy39iRXPrrih/RiGwaB3BnH7L2/H6XAyZ/wcfsj8oZLTiohULhUdkRqgfqf6jJxaPjfO+jfWs3329hvaj2EYDPtoGB0TOuK0O0mPT2fPoj2VGVVEpFKp6IjUEO3j2tPr970AmPfAPI5vPX5D+zEsBiP/OZL2ce1xlDpIiU5h34p9lRlVRKTSqOiI1CB9X+1L60GtKSssIyUqhfzs/Bvaj8VmYdSMUbQd2RZ7sZ3kEckcXHewktOKiNw8jyk6U6ZMoXv37tSqVYvw8HCioqLYvfv6Fy4UqcksVgvRs6Kp07oOOYdymDN2Do7S6785GcpnYY5JiaH1oNaUFpQya8gsjmw8UsmJRURujscUnTVr1vDoo4+yYcMGli1bRllZGQMHDiQ//8b+RSrm8bH5sGDsAhaMXYCPzcfsODWOX20/4rPi8Q705sCqA2z/643drwNg87ERNyeO5vc2pySvhJmDZt7wJTEREVcwnDewWt+OTz7Bt25dWkVHX/L6T3PmUHz2LBEPPlhpAa8mOzub8PBw1qxZQ58+fSq0TW5uLsHBweTk5BAUFOTihCJV2w+ZP5AanQpAt1e7MfjZwVgsN/Zvn5L8EmbcN4PDXx7Gr64fk1ZPIvy28MqMKyI12M38/r6hT7W9qakEtWhx2evBrVuzJzX1RnZ53XJycgCoU6fOVccUFxeTm5t7yUNEyrUb1Y7ef+gNwDevfMPRr4/e8L68A7wZv2g8jXo0ovBMIUn9kji9+3RlRRURuWE3VHQKT5/GLyzsstd9a9emMDv7pkNdi9PpZPLkydx9993cdtttVx03ZcoUgoODLz6aNGni8mxybaX2Uj7b9hmfbftMS0CY7J4X7qFBZAMcJQ7SYtLIO5F3w/vyCfJh/JLx1O9cn/xT+ST1S+LcvnOVmFZE5PrdUNHxr1+f7K1bL3s9e+tW/MJdf7r6scce47vvvmP27Nk/O+7ZZ58lJyfn4uPw4cMuzybXVmIv4f6593P/3Pu1BITJDItB9yndqdWiFheOXiA1JhV7if2G9+dX248JSycQFhHGhaMXmNZ3GjmHcioxsYjI9bmhotN69Gi+ee01fsrMJP/YMfKPHeOnOXP45s9/pnVMTGVnvMTjjz/OvHnzWLVqFY0bN/7ZsT4+PgQFBV3yEJFLeQV60fPdnvgE+XD4y8MsfmLxTe0vICyAxBWJ1G1Tl5yDOUzrO40Lxy5UUloRketju5GN2j3wAMU5OWz+v//DUVp+6cHi40PEL35B+1/+slID/ovT6eTxxx8nMzOT1atX0+IK9wiJyI2p1bwWo2aMInlkMls+2kKDLg3o+quuN7y/wPqBJK5IZGqfqZz76RxJ/ZKYtGYSAeEBlZhaROTabuhbV/9Smp9P7r59WH19qdWsGVZv78rMdolHHnmEWbNmMXfuXNq2bXvx9eDgYPz8/Cq0D33rqmrIL8kncEogAHnP5hHgrV9+ZnE4HOzcuROAiIgIvnztS1Y+vxKLl4VJqyfR5K6bu6/t/IHzTO09ldwjuYR3CGfiqon41/WvjOgiUoO4/VtX/+IVEEDdDh0IueUWl5YcgA8//JCcnBwiIyNp0KDBxUdKSopLjytSk9z97N1ExETgKHWQOjqV3KM3903FkOYhJK5MJLB+IKe2n2LGfTMoOl9USWlFRK7NYyYMdDqdV3xMmjTJ7Ggi1YZhGIycOpLw28LJO5FHanQqZUVlN7XPurfUJXFFIv6h/hzfcpyZQ2ZSfKG4khKLiPw8jyk6IuIe3oHexGfF41vbl6NfH2XhIwu5iSvcAIRFhJGwPAHf2r4c+eoIs4fPprRAUwuIiOup6Ijb+dh8SI1JJTUmVUtAVFF1WtUhJiUGw2Kwbeo2Nr2/6ab3Wb9TfSZ8PgGfIB8OrjlIclTyTZ8tEhG5FhUdcTubxUZs+1hi28dis9zQF//EDVoNaEX/1/sDsOTJJRxYfeCm99moeyPGLx6PV4AX+5btIy027abm7RERuRYVHRG5qp6Te9JhXAecdidpsWmVMvlfk7uaMG7BOGy+Nn5c8CMZ4zJwlN3YCuoiIteioiNuV+YoI21HGmk70ihz6NJFVWYYBsM/GU79LvUpOF1AclRypdxb0zyyOfFZ8Vi9rfyQ8QNZE7Nw2FV2RKTyqeiI2xWXFROXHkdcehzFZfr2TVXn5e9FfGY8/qH+nNh6gvm/mn/TNycDtL6vNbHpsVhsFrbP2l6+X8fN71dE5D+p6IjINYU0CyE2LRbDarB95nY2vLWhUvbbdnhbomdFl9/0/M9tLHpsUaWUKBGRf1HREZEKaR7ZnPveug+AZc8sY9/yfZWy3/ax7YmaFgUGbP5wM0ufXqqyIyKVRkVHRCqsx2M96DypM06Hk/T4dM7tO1cp++04oSPDPxkOwIa/bmDVH1ZVyn5FRFR0RKTCDMNg6IdDadSjEYVnC0mOSqYkr6RS9n37A7cz+L3BAKz74zrWvrq2UvYrIjWbio6IXBebr424OXEE1Avg1PZTzL1/bqVdaurxaA8GvDkAgFV/WMX6v6yvlP2KSM2loiMi1y2oURBxGXFYvCzsTN/JF699UWn7vuu3d3Hv/90LwLKnl/H1+19X2r5FpOZR0RG387Z6M3XkVKaOnIq31bWr3ovrNO3VlCHvDQFg5fMr2bNoT6Xtu8//9qH3870BWPzYYr759JtK27eI1CwqOuJ2XlYvJnWexKTOk/CyepkdR25C1191peuvu4ITMsZlcObHM5W273v/717unHwnAPN/NZ/vZnxXafsWkZpDRUdEbsrgdwfTpFcTinOKSY5Kpji3ciaBNAyDgW8OpNsj3cAJWROz2JG2o1L2LSI1h4qOuF2Zo4yFPy5k4Y8LtQRENWD1thKXHkethrU4/cNpMhMzK22GY8MwGPK3IXT+RflX2ueMm8PuebsrZd8iUjOo6IjbFZcVM2z2MIbNHqYlIKqJwPqBxGfGY/Wxsnvubta8sqbS9m1YDIZ/PJwO4zrgKHOQFpvG3s/3Vtr+RaR6U9ERkUrRqEcjhn00DIA1L69hV9auStu3xWohaloU7Ua3w15iJyUqhQOrD1Ta/kWk+lLREZFK03lSZ3r8pgcAmQmZZO/MrrR9W2wWRs8aTZthbSgrKmPWsFkc+vJQpe1fRKonFR0RqVQD3xxI88jmlOSVkDwymaLzRZW2b6u3ldi0WFoOaElpfimzhszi6KajlbZ/Eal+VHREpFJZvazEpMYQ3DSYs3vPkjEuA4fdUWn7t/naGJM1hmb3NKM4t5gZ983gxLcnKm3/IlK9qOiISKULCAsgPisem5+NvYv3VvoinV7+XoydP5bGPRtTdK6I6f2nV+plMhGpPlR0RMQlGnRpwIhPRwDwxZQv2JFauXPg+NTyYfzi8TTo2oCC0wUk9UvizJ7Km7BQRKoHFR1xO2+rN+8Nfo/3Br+nJSCquQ7jOtDz6Z4AzL1/bqVfYvIN9mXC5xOo17EeeSfySOqbxLn95yr1GCLi2VR0xO28rF482uNRHu3xqJaAqAH6v9afVgNbUVpQSkpUCgVnCip1//51/UlYlkBou1Byj+SS1C+J3CO5lXoMEfFcKjoi4lIWq4XRs0dTu2Vtzh84T3p8Oo6yyrs5GSAgPIDE5YnUblWb8/vPM63vNC4cv1CpxxARz6SiI25nd9hZfWA1qw+sxu6wmx1H3MCvjh/xWfF4BXixf8V+lv3Psko/Rq2GtZi4ciLBzYI5u+cs0/tPJz87v9KPIyKeRUVH3K6orIh7p93LvdPupais8uZYkaqtXod6RE2LAmDDXze4ZDXy4KbBTFw5kVqNapG9M5sZA2dQeK6w0o8jIp5DRUdE3CZidAS9n+8NwPxfzufYlmOVfozaLWuTuCKRgHoBnNh2ghn3zai0FdVFxPOo6IiIW0W+HMktQ2+hrKiMlFEp5J+q/MtLoW1DSVyeiF9dP45tOsbMITMpySup9OOISNWnoiMibmWxWoieEU3dNnXJPZxLWmwa9tLKv1cr/LZwEpYl4Bviy+EvDzN7xGxKC0sr/TgiUrWp6IiI2/mG+BKfFY93LW8Orj3I50997pLjNOjSgPFLxuNdy5sDqw6QGp1KWXGZS44lIlWTio6ImCKsXRjRM6MB2PT+Jr75xzcuOU7jOxozbuE4vPy92LtkL+nx6S45gyQiVZOKjoiYpu3wtkS+EgnAokcWcWTDEZccp1nvZoyZNwarj5Xdc3czZ/ycSp/LR0SqJhUdcTsvqxev93+d1/u/rpmRhT7P9+HWUbdiL7GTEp3ison+WvZrSXxmPBYvCzvTdjL3F3NxOpwuOZaIVB0qOuJ23lZvnun1DM/0ekZrXQmGxSBqWhRhEWHkHc8jdbTr7qO5ZfAtxKbGYlgNvpv+HQseWoDTqbIjUp2p6IiI6Xxq+TBm7hh8Q3w58tURFj22yGUF5NaoW4meGY1hMfjmk29Y8sQSlR2RakxFR9zO7rCz6egmNh3dpCUg5KI6reswevZoMGDrp1vZ8vctLjvWbfG3MXLqSDDg6799zfL/Wa6yI1JNqeiI2xWVFdHj0x70+LSHloCQS7Qe1Jp+U/oBsPjxxRxcd9Blx+qU2IlhHw0DYP0b61n90mqXHUtEzKOiIyJVSq/f9aJ9fHscZQ7SYtLIOZzjsmN1/VVXBr0zCIC1r6xl3ZR1LjuWiJhDRUdEqhTDMBjxjxHU61SP/FP5pIxKcemMxnf85g76/7k/ACufW8mGtze47Fgi4n4qOiJS5XgHeDMmawx+df04vuU4Cx9a6NJ7aHr9rhf3vHQPAJ8/9TmbP9rssmOJiHup6IhIlRTSPISYlBgMq8G3Sd+y8d2NLj3ePS/cQ6//6QXAwocXsnXqVpceT0TcQ0VHRKqslv1aMvDNgQAs/e1S9q/c77JjGYZBvyn9uOOJOwCY98A8ts/e7rLjiYh7qOiISJV2xxN30DGhI067k7S4NM4fOO+yYxmGwX1v3UfXX3cFJ2QmZPLDnB9cdjwRcT0VHXE7L6sXL97zIi/e86KWgJBrMgyDYX8fRoOuDSg8U0hyVDKlBa67OdkwDIZ+MJROEzvhtDtJH5POjwt/dNnxRMS1VHTE7byt3rwU+RIvRb6kJSCkQrz8vIjPjCcgPICT354sX6fKhTcnG5byb37dNuY2HKUOUkensm/5PpcdT0RcR0VHRDxCcJNgYtNjsdgs7EjZwfo31rv0eBarhaikqPIFR4vtzB4xm4NrXTeBoYi4hoqOuJ3D6WDHqR3sOLUDh9NhdhzxIM16N2PQu+UT/C3//XL2Ltnr0uNZvayMnj2a1oNbU1ZYxqyhsziy4YhLjykilUtFR9yusLSQ2z68jds+vI3C0kKz44iH6fZQN7o82AWckDE2g7N7z7r0eDYfG3EZcbTo14KSvBJmDJrB8W+Ou/SYIlJ5PKrorF27luHDh9OwYUMMwyArK8vsSCLiZoZhMOS9ITS+szFF54tIjkqm+EKxS4/p5efFmLljaNq7KcU5xUwfMJ2T20+69JgiUjk8qujk5+fTqVMn3nvvPbOjiIiJ/nWWJbBBINk7ssmamIXT4drVx70DvBm3YByN7mhE4dlCkvolcXrXaZceU0RunkcVncGDB/Pqq68SHR1tdhQRMVmthrWInxOP1dvKrsxdrPuT6xfk9AnyYcKSCdTvUp+C7AKS+iVx9ifXXjoTkZvjUUVHROQ/Nb6zMUPeHwLAqhdWsXv+bpcf0zfEl4SlCYTfFs6FYxdI6pvE+YPnXX5cEbkx1broFBcXk5ube8lDRKqX2x+8nW6PdAMnzBk/xy2Xk/xD/UlYnkDdtnXJOZRDUt8kco/q80WkKqrWRWfKlCkEBwdffDRp0sTsSCLiAoPeHkSzPs0ouVBC8shkinKKXH7MwHqBJK5IpHbL2pzbd46kfknkncxz+XFF5PpU66Lz7LPPkpOTc/Fx+PBhsyMJ5UtAPN3zaZ7u+bSWgJBKYfWyEpsWS1DjIM78eIY54+e4/OZkgKBGQSSuTCSoSRBndp9hev/pFJwucPlxRaTiqnXR8fHxISgo6JKHmM/b6s0bA9/gjYFvaAkIqTQB4QHEZ8Vj87WxZ+EeVr24yi3HDWkWwsSVEwlsEMip708xfeB0is67/oySiFSMRxWdvLw8tm3bxrZt2wDYv38/27Zt49ChQ+YGE5EqoWHXhgz7eBgA615dx86MnW45bp3WdUhckYh/mD8ntp5g5uCZLp/bR0QqxqOKzubNm+nSpQtdunQBYPLkyXTp0oUXXnjB5GRyPRxOBwfOH+DA+QNaAkIqXaeETtz51J0AZE3M4tT3p9xy3LB2YSQuT8Svjh9HNhxh1tBZlOSXuOXYInJ1HlV0IiMjcTqdlz0+++wzs6PJdSgsLaTFOy1o8U4LLQEhLjHg9QG06NuC0vxSkkcmU3jWPX/O6nWsx4SlE/AJ8uHQukOkRKVQVlTmlmOLyJV5VNEREakIi81CTEoMIc1DOLfvHBljM3DY3XP2sGHXhoxfMh6vAC/2Ld9Hakwq9hK7W44tIpdT0RGRask/1J/4rHi8/L34aelPrHh2hduO3aRnE8YtHIfNr/zG6PQx6dhLVXZEzKCiIyLVVv1O9Rk5dSQA699Yz/bZ29127Ob3NGfM3DFYfcqXqMhKzHLbWSUR+TcVHRGp1trHtafX73sBMO+BeRzfetxtx241oBVx6XFYbBa+T/6e+Q/Od8v8PiLybyo6IlLt9X21L60HtaassIyUqBTys/Pdduw2w9owOnk0htVg22fbWPjoQpxOlR0Rd1HREZFqz2K1ED0rmjqt65BzKIf0ePfeMxMxOoJRSaPAgC0fbeHzyZ+r7Ii4iYqOuJ3NYuORbo/wSLdHsFlsZseRGsKvth/xWfF4B3pzYNUBlj2zzK3H7zCuAyP+MQKAjW9vZMVzK1R2RNxARUfczsfmw/tD3+f9oe/jY/MxO47UIOHtw4lKigJg4zsb2TZtm1uP3+X+Lgz5YAgAX772JWv/b61bjy9SE6noiEiN0m5UO/q80AeABb9ewNFNR916/O4Pd2fgXwcCsPrF1Xz5xpduPb5ITaOiI27ndDrJzs8mOz9bp+7FFJEvRtJ2RFvsxXZSRqWQdyLPrcfv+VRP+v6xLwDLf7ecjX/b6Nbji9QkKjridgWlBYS/GU74m+EUlBaYHUdqIMNiMGr6KEJvDeXC0QumzF7c+7ne9PlD+ZmlJb9ZwpaPt7j1+CI1hYqOiNRIPkE+jJk7Bp8gHw5/eZjFTyx2e4bIlyPp+XRPABY8tIBvp3/r9gwi1Z2KjojUWHXb1CV6VvTFr327+6yKYRgMeH0A3R/rDk6YO2kuO1J3uDWDSHWnoiMiNVqboW3o+2r5/TKLHlvE4fWH3Xp8wzAY/M5gujzYBafDSca4DHbN3eXWDCLVmYqOiNR4dz97NxExEThKHaSOTiX3aK5bj29YDIZ9NIyOEzritDtJj0tn75K9bs0gUl2p6IhIjWcYBiOnjiT8tnDyTuSRGp1KWVGZWzNYrBZGTh1JRGwE9pLyb4PtX7nfrRlEqiMVHRERwDvQm/iseHxr+3L066MsfMT9a1JZbBaiZ0bTdkRbyorKmD18Noe+OOTWDCLVjYqOuJ3NYmNip4lM7DRRS0BIlVKnVR1iUmIwLAbbpm5j0/ub3J7B6mUlJjWGVve1orSglJlDZnL0a/dOaihSnajoiNv52Hz4LOozPov6TEtASJXTakAr+r/eH4AlTy7hwOoDbs9g87ERPyee5vc2p+RCCTPum8GJbSfcnkOkOlDRERH5Lz0n96TDuA447U7SYtPIOZTj9gxe/l6MnTeWJr2aUHS+iKT+SZzaccrtOUQ8nYqOuJ3T6SS/JJ/8knwtASFVkmEYDP9kOPW71KfgdAHJUcmUFpS6PYd3oDfjFo6jYbeGFJ4pJKlfEmd+POP2HCKeTEVH3K6gtIDAKYEETgnUEhBSZXn5exGfGY9/qD8ntp5g/q/mm1LMfYN9mfD5BOp1qkf+yXym9Z3GuX3n3J5DxFOp6IiIXEVIsxBi02IxrAbbZ25nw1sbTMnhV8ePhGUJhEWEceHoBZL6JZFz2P2X00Q8kYqOiMjPaB7ZnPveug+AZc8sY9/yfabkCAgLIGF5AnVa1+H8gfMk9U3iwvELpmQR8SQqOiIi19DjsR50ntQZp8NJeny6aZeOajWoReLKREKah3B271mS+iWRfyrflCwinkJFR0TkGgzDYOiHQ2nUoxGFZwtJjkqmJK/ElCzBTYJJXJlIUOMgTv9wmukDplN4ttCULCKeQEVHRKQCbL424ubEEVAvgFPbTzH3/rmmfWuwdovaJK5IJLB+ICe/O8mM+2ZQlFNkShaRqk5FR0SkgoIaBRGXEYfFy8LO9J188doXpmWp26YuCcsT8A/159jmY8waMsu0s0wiVZmKjrid1WIlJiKGmIgYrBar2XFErkvTXk0Z8t4QAFY+v5I9i/aYliW8fTgJyxLwDfHl8PrDzB4+25T5fkSqMhUdcTtfmy9psWmkxabha/M1O47Idev6q650/XVXcELGuAxTJ/Gr37k+E5ZOwLuWNwdWHyBlVIrbV14XqcpUdEREbsDgdwfTpFcTinOKSY5Kpji32LQsjbo3Yvzi8XgFePHT0p9Ii0vDXmI3LY9IVaKiIyJyA6zeVuLS46jVsBanfzhNZmImTod5S5o07dWUsfPHYvO18eP8H5kzfg6OModpeUSqChUdcbv8knyMlw2Mlw3ySzQHiHiuwPqBxGfGY/Wxsnvubta8ssbUPC3ubVGex9vKzvSdZE3KwmFX2ZGaTUVHROQmNOrRiGEfDQNgzctr2JW1y9Q8rQe1JjYtFovNwvaZ21nw6wWmnmkSMZuKjojITeo8qTM9ftMDgMyETLJ3Zpuap+2ItkTPisawGGz9x1YW/2axaXP+iJhNRUdEpBIMfHMgzSObU5JXQvLIZIrOmzuBX/vY9kRNiwIDNr2/iWXPLFPZkRpJRUdEpBJYvazEpMYQ3DSYs3vPkjEuw/T7YzpO6Mjwj4cD8NVfvmLVC6tMzSNiBhUdEZFKEhAWQHxWPDY/G3sX72XVH8wvFrc/eDuD/zYYgHWvrmPtH9eanEjEvVR0REQqUYMuDRjx6QgAvpjyBTtSd5icqHz19QFvDABg1f+u4qu/fmVyIhH3UdERt7NarAy5ZQhDbhmiJSCkWuowrgM9n+4JwNz753Li2xMmJ4K7nr6LyFciAVj626Vs+mCTuYFE3ERFR9zO1+bLwnELWThuoZaAkGqr/2v9aTWwFaUFpaREpVBwpsDsSPT53z7c/ezdACx6dBFb/7nV5EQirqeiIyLiAharhdGzR1O7ZW3OHzhPeny66TMVG4ZB3z/25c6n7gRg3oPz+G7md6ZmEnE1FR0RERfxq+NHfFY8XgFe7F+xn2X/s8zsSBiGwcC/DKTbw93ACVkTs9iZsdPsWCIuo6Ijbpdfkk/AnwII+FOAloCQaq9eh3rl89kAG/66ge9mmH8GxTAMhrw3hM73d8Zpd5IxJoPd83ebHUvEJVR0xBQFpQUUlJp/z4KIO0SMjqD3870BmP/L+RzbcszkRGBYDIZ/Mpzbxt6Go8xBWkwaPy39yexYIpVORUdExA0iX47klqG3UFZURsqoFPJPmX8202K1MCppFO2i22EvsZMclcyBNQfMjiVSqVR0RETcwGK1ED0jmrpt6pJ7OJe02DTspXazY2Gxld80fcvQWygrLGPW0FkcXn/Y7FgilUZFR0TETXxDfInPise7ljcH1x7k86c+NzsSAFZvK3HpcbQc0JLS/FJmDp7Jsc3mX14TqQwqOiIibhTWLozomdFA+WKb3/zjG5MTlbP52hiTNYZmfZpRnFvM9IHTOfndSbNjidw0FR0RETdrO7ztxVmKFz2yiCMbjpgb6P/z8vdi7IKxNL6zMUXnikjqn0T2D9lmxxK5KSo64nYWw8I9ze7hnmb3YDH0R1Bqpj7P9+HWUbdiL7GTEp3CheMXzI4EgE8tH8YvHk+D2xtQkF1AUr8kzu49a3YskRvmcb9lPvjgA1q0aIGvry9du3Zl3bp1ZkeS6+Tn5cfqSatZPWk1fl5+ZscRMYVhMYiaFkVYRBh5x/NIHZ1KWXGZ2bGA8nuJJiydQHiHcPKO5zGt7zTOHzhvdiyRG+JRRSclJYUnn3yS559/nq1bt9K7d28GDx7MoUOHzI4mInLdfGr5MGbuGHxDfDny1REWPbYIp9NpdiwA/Ov6k7AsgdBbQ8k9nEtSvyRyj+SaHUvkuhnOqvK3qgLuuOMObr/9dj788MOLr7Vr146oqCimTJlyze1zc3MJDg7m3LlzBAUFuTKqiEdwOBzs2rULgFtvvRWLxaP+7VNt7F2yl9nDZoMThrw/hK4PdTU70kUXjl1gWuQ0zv10jjpt6jBx1UQC6weaHUtqmNzcXGrXrk1OTs51//62uShTpSspKWHLli38/ve/v+T1gQMHsn79+ituU1xcTHFx8cXnubnl/xrZtWsXgYH6i2qWgrICBi0eBMCSwUvwt/mbnEiAi4VHTNAUbnviNr5/+3sWP7GY/IB8QruGmp3qojs+uIO1k9Zy9sez/OOef9Dnn33wqe1jdiypQfLy8m54W4/559vp06ex2+3Uq1fvktfr1avHiRMnrrjNlClTCA4Ovvho0qSJO6JKBZwrOce5knNmxxCpMtr8og2NBzXGWeZkw+QNFJyoOkukBDQMoPc/euMb7kvu3lzW/WodJTklZscSqRCPOaPzL4ZhXPLc6XRe9tq/PPvss0yePPni89zcXJo0acKtt96qS1cmyi/Jh7nl/93u1nYEeAeYG6gG06WrquWW1Fv4rPdnnPz2JNt+v42Jaybi5edldqxyEdByVUuS7k0iZ1cOWyZvYcLnE/AJ0pkdcb1/XZG5ER5TdEJDQ7FarZedvTl16tRlZ3n+xcfHBx+fy/8SWiwWfaCb6D//3+u9qDr0XpjPt5YvY7LG8HG3jzm+5TiLH1nMyM9GXvUfc+4WHhFOwvIEpkVO49jXx0gensz4JePxDvA2O5pUczfz2eQxn2re3t507dqVZcuWXfL6smXLuOuuu0xKJSJSuUKahxCTEoNhNfg26Vs2vrvR7EiXqNehHgnLEvAJ9uHQF4dIHpFMaWGp2bFErspjig7A5MmT+fTTT/nnP//JDz/8wFNPPcWhQ4d46KGHzI4mIlJpWvZrycA3BwKw9LdL2b9yv8mJLtXg9gZMWDIB70Bv9q/cX6XmABL5bx5VdOLj43n77bd55ZVX6Ny5M2vXrmXRokU0a9bM7GgiIpXqjifuoGNCR5x2J2lxaVVuwr7GdzZm3KJxePl7sXfxXjLGZFSJ1dhF/ptHFR2ARx55hAMHDlBcXMyWLVvo06eP2ZHkOlkMC90adqNbw25aAkLkKgzDYNjfh9GgawMKzxSSHJVMaUHVukTUrHczxswbg9XHyq6sXWQmZOKwO8yOJXIJ/ZYRt/Pz8mPTLzex6ZebtASEyM/w8vMiPjMe/zB/Tn57knkPzKsyMyf/S8t+LYmfE4/Fy8KOlB3M+8U8nI6qlVFqNhUdEZEqLLhJMHEZcVhsFr5P/p71b1x5glQz3TLklktuoF7w8IIqV8ik5lLRERGp4pr1bsagd8tnE1/+++XsXbLX5ESXazeqHdEzojEsBt98/A1LnlyisiNVgoqOuF1BaQHN325O87ebU1BadWZ/FanKuj3UjS4PdgEnZIzN4Ozes2ZHusxtY25jxD9HAPD1u1+z4tkVKjtiOhUdcTun08nBnIMczDmoD0GRCjIMgyHvDaHxnY0pOl9EclQyxReKr72hm3We2JmhHw0F4Ms/f8maV9aYnEhqOhUdEREPYfOxEZcRR2CDQLJ3ZJM1MatK3vjb7dfduO/t+wBY89IavvjzFyYnkppMRUdExIPUaliL+DnxWL2t7Mrcxbo/rTM70hXd+cSd9JvSD4AVv1/Bhnc2mJxIaioVHRERD9P4zsYMeX8IAKteWMXu+btNTnRld//+bu558R4APn/yczb/fbPJiaQmUtEREfFAtz94O90e6QZOmDN+Dqd3nTY70hXd8+I93PW78vUIFz60kG3TtpkbSGocFR0REQ816O1BNOvTjJILJSSPTKYop8jsSJcxDIP+r/Wnx296ADDvF/P4Pvl7k1NJTaKiI25nGAYRYRFEhEVgGIbZcUQ8ltXLSmxaLEGNgzjz4xnmjJ9TJW9ONgyDQW8P4vZf3Y7T4WTOhDn8kPmD2bGkhlDREbfz9/JnxyM72PHIDvy9/M2OI+LRAsIDiM+Kx+ZrY8/CPax6cZXZka7IMAyGfTiMTomdcNqdpMens2fRHrNjSQ2goiMi4uEadm3IsI+HAbDu1XXszNhpcqIrMywGI/4xgvbx7XGUOkiJTmHfin1mx5JqTkVHRKQa6JTQiTufuhOArIlZnPr+lMmJrsxiszBq+ihujboVe7Gd2cNnc3DdQbNjSTWmoiNuV1BaQPsP2tP+g/ZaAkKkEg14fQAt+ragNL+U5JHJFJ4tNDvSFVm9rIxOHk3rQa0pKyxj1pBZHNl4xOxYUk2p6IjbOZ1OdmbvZGf2Ti0BIVKJLDYLMSkxhDQP4dy+c2SMzcBhd5gd64psPjbi5sTRom8LSvJKmHHfDI5/c9zsWFINqeiIiFQj/qH+xGfF4+XvxU9Lf2LFsyvMjnRVXn5ejJk3hqZ3N6U4p5jpA6dX2Utu4rlUdEREqpn6neozcupIANa/sZ7ts7ebnOjqvAO8GbdwHI16NKLwTCFJ/ZI4vbtqTn4onklFR0SkGmof155ev+8FwLwH5nF8a9W9LOQT5MP4JeOp37k++afySeqbxNmfzpodS6oJFR0RkWqq76t9L97wmxKVQn52vtmRrsqvth8JyxIIax/GhWMXSOqbRM6hHLNjSTWgoiMiUk1ZrBaiZ0VTp3Udcg7lkB6fjr3Ubnasq/IP9SdxeSJ129Ql51AO0/pO48KxC2bHEg+noiNuZxgGzYKb0Sy4mZaAEHExv9p+xGfF4x3ozYFVB1j2zDKzI/2swPqBJK5IJKRFCOd+OkdSvyTyT1XdM1FS9anoiNv5e/lz4MkDHHjygJaAEHGD8PbhRCVFAbDxnY1VfgXxoMZBTFw5kaAmQZzedZqk/kkUnNGcW3JjVHRERGqAdqPa0eeFPgAs+PUCjm46anKinxfSPITEFYkENgjk1PZTzLhvBkXnq97q7FL1qeiIiNQQkS9G0nZEW+zFdlJGpZB3Is/sSD+r7i11SVyeiH+YP8e3HGfm4JkUXyg2O5Z4GBUdcbvC0kK6f9Kd7p90p7C0ak5RL1IdGRaDUdNHEXprKBeOXiA1JhV7SdW9ORkgLCKMhGUJ+Nb25ciGI8weNpvSglKzY4kHUdERt3M4HWw+tpnNxzbjcFbN6elFqiufIB/GzB2DT5APh788zOInFpsd6Zrqd6pPwtIEfIJ8OLj2IMlRyZQVlZkdSzyEio6ISA1Tt01domdFgwFbPtrClo+3mB3pmhp2a8j4xePxCvBi37J9HnE2SqoGFR0RkRqozdA29H21LwCLHlvE4fWHTU50bU3uasK4BeOw+drYs3APGeMycJTprLD8PBUdEZEa6u5n7yYiJgJHqYPU0ankHs01O9I1NY9szpi5Y7B6W/kh4weyJmZV2RXapWpQ0RERqaEMw2Dk1JGE3xZO3ok8UqNTPeLel1YDWxGbHovFZmH7rO3M/+V8nA6n2bGkilLRERGpwbwDvYnPise3ti9Hvz7KwkcW4nRW/dLQdnhbRs8ejWEx2DZ1G4seW+QRucX9VHTEFKH+oYT6h5odQ0SAOq3qEJMSc7E0bHp/k9mRKiQiJqJ8xmcDNn+4maW/XaqyI5dR0RG3C/AOIPuZbLKfySbAO8DsOCICtBrQiv6v9wdgyZNLOLD6gLmBKqjj+I6M+HQEABve2sDK/11pciKpalR0REQEgJ6Te9JhXAecdidpsWnkHMoxO1KFdPlFFwa/NxiAL/70BWtfXWtyIqlKVHRERAQovzl5+CfDqd+lPgWnC0iOSvaYWYh7PNqDgX8ZCMCqP6xi/ZvrTU4kVYWKjrhdYWkhkZ9FEvlZpJaAEKlivPy9iM+Mxz/UnxNbTzD/V/M95r6XnpN7cu+r9wKw7JllfP3e1yYnkqpARUfczuF0sObgGtYcXKMlIESqoJBmIcSmxWJYDbbP3M6GtzaYHanC+jzfh97P9wZg8eOL+ebTb0xOJGZT0RERkcs0j2zOfW/dB5SfHdm3fJ/JiSru3v+7l56/7QnA/F/N57sZ35mcSMykoiMiIlfU47EedJ7UGafDSXp8Ouf2nTM7UoUYhsGANwbQ/dHu4ISsiVnsSNthdiwxiYqOiIhckWEYDP1wKI16NKLwbCHJUcmU5JWYHatCDMNg8LuD6fJAF5wOJ3PGzWH3vN1mxxITqOiIiMhV2XxtxM2JI6BeAKe2n2Lu/XM95uZkw2Iw7O/D6DC+A44yB2mxaez9fK/ZscTNVHRERORnBTUKIi4jDouXhZ3pO/nitS/MjlRhFquFqM+iiIiJwF5iJyUqhf2r9psdS9xIRUdM4e/lj7+Xv9kxRKSCmvZqypD3hgCw8vmV7Fm0x+REFWexWYieGU2b4W0oKypj9vDZHPrykNmxxE1UdMTtArwDyH8un/zn8rUEhIgH6fqrrnT9dVdwQsa4DM78eMbsSBVm9bYSmxpLq4GtKM0vZebgmRzddNTsWOIGKjoiIlJhg98dTJNeTSjOKSY5Kpni3GKzI1WYzddGfGY8zSObU3KhhBn3zeDEtyfMjiUupqIjIiIVZvW2EpceR62GtTj9w2kyEzNxOjzj5mQon/l57PyxNLmrCUXnipjefzrZO7PNjiUupKIjbldUVsTQWUMZOmsoRWVFZscRkesUWD+Q+Mx4rD5Wds/dzZpX1pgd6bp4B3ozbtE4GnZrSMHpApL6JXFmj+dchpPro6Ijbmd32Fm0ZxGL9izC7rCbHUdEbkCjHo0Y9tEwANa8vIZdWbtMTnR9fIN9mfD5BOp1rEfeiTyS+iZxbr9nTIgo10dFR0REbkjnSZ3p8ZseAGQmZHrcJSC/On4kLEsgtF0ouUdySeqXRM7hHLNjSSVT0RERkRs28M2B5Tf35pWQPDKZovOedTk6IDyAxBWJ1Gldh/P7z5PUL4kLxy+YHUsqkccUnT/+8Y/cdddd+Pv7ExISYnYcEREBrF5WYlJjCG4azNm9Z8kYl4HD7jA71nWp1aAWiSsSCW4WzNk9Z5nefzr52flmx5JK4jFFp6SkhNjYWB5++GGzo4iIyH8ICAsgPisem5+NvYv3suoPq8yOdN2CmwYzceVEajWqRfbObGYMnEHh2UKzY0kl8Jii8/LLL/PUU0/RoUMHs6OIiMh/adClASM+HQHAF1O+YEeq560WXrtlbSaunEhAvQBObDvBjEEzKMrxrEtxcjmb2QFcqbi4mOLif09mlZNTfpNZbm6uWZEEyC/Jh///2ZGbm4vdW9+8MovD4SAvLw8ofy8sFo/5t49UQc2GNaPj4x35+m9fkzIphYRGCdTrUM/sWNfFq74Xo+aOYtaQWezbtI9/3PcP4ufE4x3obXa0Gu1fv7dvaEFZp4eZOnWqMzg4uEJjX3zxRSeghx566KGHHnpUg8dPP/103b3B1DM6L730Ei+//PLPjtm0aRPdunW7of0/++yzTJ48+eLz8+fP06xZMw4dOkRwcPAN7VMqR25uLk2aNOHw4cMEBQWZHadG03tRdei9qFr0flQdOTk5NG3alDp16lz3tqYWnccee4wxY8b87JjmzZvf8P59fHzw8fG57PXg4GD9oa0igoKC9F5UEXovqg69F1WL3o+q40Yur5tadEJDQwkNDTUzgoiIiFRjHnMz8qFDhzh79iyHDh3Cbrezbds2AFq3bk1gYKC54URERKRK8pii88ILLzBt2rSLz7t06QLAqlWriIyMrNA+fHx8ePHFF694OUvcS+9F1aH3ourQe1G16P2oOm7mvTCczhv5rpaIiIhI1adJM0RERKTaUtERERGRaktFR0RERKotFR0RERGptmpk0Tlw4AAPPPAALVq0wM/Pj1atWvHiiy9SUlJidrQa6Y9//CN33XUX/v7+hISEmB2nxvnggw9o0aIFvr6+dO3alXXr1pkdqUZau3Ytw4cPp2HDhhiGQVZWltmRaqQpU6bQvXt3atWqRXh4OFFRUezevdvsWDXShx9+SMeOHS9O2NizZ08WL1583fupkUVn165dOBwO/v73v7Njxw7eeustPvroI5577jmzo9VIJSUlxMbG8vDDD5sdpcZJSUnhySef5Pnnn2fr1q307t2bwYMHc+jQIbOj1Tj5+fl06tSJ9957z+woNdqaNWt49NFH2bBhA8uWLaOsrIyBAweSn59vdrQap3Hjxrz22mts3ryZzZs307dvX0aOHMmOHTuuaz/6evn/98Ybb/Dhhx+yb98+s6PUWJ999hlPPvkk58+fNztKjXHHHXdw++238+GHH158rV27dkRFRTFlyhQTk9VshmGQmZlJVFSU2VFqvOzsbMLDw1mzZg19+vQxO06NV6dOHd544w0eeOCBCm9TI8/oXElOTs4NLRYm4qlKSkrYsmULAwcOvOT1gQMHsn79epNSiVQtOTk5APr9YDK73U5ycjL5+fn07Nnzurb1mJmRXemnn37ib3/7G3/5y1/MjiLiNqdPn8Zut1OvXr1LXq9Xrx4nTpwwKZVI1eF0Opk8eTJ33303t912m9lxaqTt27fTs2dPioqKCAwMJDMzk4iIiOvaR7U6o/PSSy9hGMbPPjZv3nzJNseOHWPQoEHExsby4IMPmpS8+rmR90LMYRjGJc+dTudlr4nURI899hjfffcds2fPNjtKjdW2bVu2bdvGhg0bePjhh5k4cSI7d+68rn1UqzM6jz32GGPGjPnZMc2bN7/438eOHePee++lZ8+efPzxxy5OV7Nc73sh7hcaGorVar3s7M2pU6cuO8sjUtM8/vjjzJs3j7Vr19K4cWOz49RY3t7etG7dGoBu3bqxadMm3nnnHf7+979XeB/VquiEhoYSGhpaobFHjx7l3nvvpWvXrkydOhWLpVqd3DLd9bwXYg5vb2+6du3KsmXLGDVq1MXXly1bxsiRI01MJmIep9PJ448/TmZmJqtXr6ZFixZmR5L/4HQ6KS4uvq5tqlXRqahjx44RGRlJ06ZNefPNN8nOzr74s/r165uYrGY6dOgQZ8+e5dChQ9jtdrZt2wZA69atCQwMNDdcNTd58mQSEhLo1q3bxTObhw4d4qGHHjI7Wo2Tl5fH3r17Lz7fv38/27Zto06dOjRt2tTEZDXLo48+yqxZs5g7dy61atW6eMYzODgYPz8/k9PVLM899xyDBw+mSZMmXLhwgeTkZFavXs2SJUuub0fOGmjq1KlO4IoPcb+JEyde8b1YtWqV2dFqhPfff9/ZrFkzp7e3t/P22293rlmzxuxINdKqVauu+Pdg4sSJZkerUa72u2Hq1KlmR6txfvGLX1z8bAoLC3P269fPuXTp0uvej+bRERERkWpLN6aIiIhItaWiIyIiItWWio6IiIhUWyo6IiIiUm2p6IiIiEi1paIjIiIi1ZaKjoiIiFRbKjoi4tlSImHVk2anEJEqSkVHREREqi0VHREREam2VHRExPM5ymDFY/BeCLxfF774X9DqNiKCio6IVAc7poHFBuM2Qt93YctbsP1Ts1OJSBVgMzuAiMhNq9UEIt8Cw4A6bSF7e3nZ6fhLs5OJiMl0RkdEPF+DO8tLzr807Ann94DDbl4mEakSVHRERESk2lLRERHPd3zD5c9DbgGL1Zw8IlJlqOiIiOe7cBhWT4azu+GH2bD1b3D7E2anEpEqQDcji4jni0iEskKY2aP8LE6Xx6Hjr8xOJSJVgOF0arIJERERqZ506UpERESqLRUdERERqbZUdERERKTaUtERERGRaktFR0RERKotFR0RERGptlR0REREpNpS0REREZFqS0VHREREqi0VHREREam2VHRERESk2lLRERERkWrr/wGd9kpOxlUs5QAAAABJRU5ErkJggg==",
      "text/plain": [
       "<Figure size 640x480 with 1 Axes>"
      ]
     },
     "metadata": {},
     "output_type": "display_data"
    }
   ],
   "source": [
    "fig, ax = plt.subplots()\n",
    "plt.xlabel('b', c='darkorange')\n",
    "plt.ylabel('c', c='brown')\n",
    "\n",
    "plt.axvline(x=0, color='lightgray')\n",
    "plt.axhline(y=0, color='lightgray')\n",
    "\n",
    "ax.set_xlim([-2, 3])\n",
    "ax.set_ylim([-1, 5])\n",
    "ax.plot(b, c1, c='purple')\n",
    "ax.plot(b, c2, c='purple')\n",
    "plt.axvline(x=-1, color='green', linestyle='--')\n",
    "_ = plt.axhline(y=4, color='green', linestyle='--')"
   ]
  },
  {
   "cell_type": "markdown",
   "metadata": {
    "id": "14uhePTna7ZV"
   },
   "source": [
    "In PyTorch and TensorFlow:"
   ]
  },
  {
   "cell_type": "code",
   "execution_count": 164,
   "metadata": {
    "colab": {
     "base_uri": "https://localhost:8080/"
    },
    "id": "7qo-SAvaansp",
    "outputId": "3bca970e-71dc-4072-dff7-3c59a0fb9b37"
   },
   "outputs": [
    {
     "data": {
      "text/plain": [
       "tensor([[ 1.5000,  1.0000],\n",
       "        [-2.5000, -2.0000]])"
      ]
     },
     "execution_count": 164,
     "metadata": {},
     "output_type": "execute_result"
    }
   ],
   "source": [
    "torch.inverse(torch.tensor([[4, 2], [-5, -3.]])) # float type"
   ]
  },
  {
   "cell_type": "code",
   "execution_count": 165,
   "metadata": {
    "colab": {
     "base_uri": "https://localhost:8080/"
    },
    "id": "uqtyF3Jqaz4l",
    "outputId": "2960b1e8-66a2-40be-eb09-a86754ab596c"
   },
   "outputs": [
    {
     "data": {
      "text/plain": [
       "<tf.Tensor: shape=(2, 2), dtype=float32, numpy=\n",
       "array([[ 1.4999998,  0.9999998],\n",
       "       [-2.4999995, -1.9999996]], dtype=float32)>"
      ]
     },
     "execution_count": 165,
     "metadata": {},
     "output_type": "execute_result"
    }
   ],
   "source": [
    "tf.linalg.inv(tf.Variable([[4, 2], [-5, -3.]])) # also float"
   ]
  },
  {
   "cell_type": "markdown",
   "metadata": {
    "id": "hcP2S4AMAHT_"
   },
   "source": [
    "**Exercises**:\n",
    "\n",
    "1. As done with NumPy above, use PyTorch to calculate $w$ from $X$ and $y$. Subsequently, confirm that $y = Xw$.\n",
    "2. Repeat again, now using TensorFlow."
   ]
  },
  {
   "cell_type": "markdown",
   "metadata": {
    "id": "AMxROg326SNN"
   },
   "source": [
    "**Return to slides here.**"
   ]
  },
  {
   "cell_type": "markdown",
   "metadata": {
    "id": "N8ZxpgcN6SNO"
   },
   "source": [
    "### Matrix Inversion Where No Solution"
   ]
  },
  {
   "cell_type": "code",
   "execution_count": 166,
   "metadata": {
    "colab": {
     "base_uri": "https://localhost:8080/"
    },
    "id": "RYORHY4E6SNO",
    "outputId": "ac15d9a5-90e8-4003-cd2e-1b2bccc6381c"
   },
   "outputs": [
    {
     "data": {
      "text/plain": [
       "array([[-4,  1],\n",
       "       [-8,  2]])"
      ]
     },
     "execution_count": 166,
     "metadata": {},
     "output_type": "execute_result"
    }
   ],
   "source": [
    "X = np.array([[-4, 1], [-8, 2]])\n",
    "X"
   ]
  },
  {
   "cell_type": "code",
   "execution_count": 167,
   "metadata": {
    "id": "o7GcISdI6SNP"
   },
   "outputs": [],
   "source": [
    "# Uncommenting the following line results in a \"singular matrix\" error\n",
    "# Xinv = np.linalg.inv(X)"
   ]
  },
  {
   "cell_type": "markdown",
   "metadata": {
    "id": "uk485dwoI021"
   },
   "source": [
    "Feel free to try inverting a non-square matrix; this will throw an error too.\n",
    "\n",
    "**Return to slides here.**"
   ]
  },
  {
   "cell_type": "markdown",
   "metadata": {
    "id": "BXomEBoyDQyO"
   },
   "source": [
    "### Orthogonal Matrices\n",
    "\n",
    "These are the solutions to Exercises 3 and 4 on **orthogonal matrices** from the slides.\n",
    "\n",
    "For Exercise 3, to demonstrate the matrix $I_3$ has mutually orthogonal columns, we show that the dot product of any pair of columns is zero:"
   ]
  },
  {
   "cell_type": "code",
   "execution_count": 168,
   "metadata": {
    "colab": {
     "base_uri": "https://localhost:8080/"
    },
    "id": "-Un4Aq805HM1",
    "outputId": "b3370a08-816a-4d36-a123-149db7fb661e"
   },
   "outputs": [
    {
     "data": {
      "text/plain": [
       "array([[1, 0, 0],\n",
       "       [0, 1, 0],\n",
       "       [0, 0, 1]])"
      ]
     },
     "execution_count": 168,
     "metadata": {},
     "output_type": "execute_result"
    }
   ],
   "source": [
    "I = np.array([[1, 0, 0], [0, 1, 0], [0, 0, 1]])\n",
    "I"
   ]
  },
  {
   "cell_type": "code",
   "execution_count": 169,
   "metadata": {
    "colab": {
     "base_uri": "https://localhost:8080/"
    },
    "id": "CUhMi2_IEyaI",
    "outputId": "0b7c751a-0cd2-49bb-dde5-8e3895d7a12d"
   },
   "outputs": [
    {
     "data": {
      "text/plain": [
       "array([1, 0, 0])"
      ]
     },
     "execution_count": 169,
     "metadata": {},
     "output_type": "execute_result"
    }
   ],
   "source": [
    "column_1 = I[:,0]\n",
    "column_1"
   ]
  },
  {
   "cell_type": "code",
   "execution_count": 170,
   "metadata": {
    "colab": {
     "base_uri": "https://localhost:8080/"
    },
    "id": "xsOtn-siE63K",
    "outputId": "a334201a-5e98-405b-d430-24e74307ac6d"
   },
   "outputs": [
    {
     "data": {
      "text/plain": [
       "array([0, 1, 0])"
      ]
     },
     "execution_count": 170,
     "metadata": {},
     "output_type": "execute_result"
    }
   ],
   "source": [
    "column_2 = I[:,1]\n",
    "column_2"
   ]
  },
  {
   "cell_type": "code",
   "execution_count": 171,
   "metadata": {
    "colab": {
     "base_uri": "https://localhost:8080/"
    },
    "id": "Pv3b51ExE9ZX",
    "outputId": "2cd0a54e-2440-4fef-ff71-c0c0401cc94f"
   },
   "outputs": [
    {
     "data": {
      "text/plain": [
       "array([0, 0, 1])"
      ]
     },
     "execution_count": 171,
     "metadata": {},
     "output_type": "execute_result"
    }
   ],
   "source": [
    "column_3 = I[:,2]\n",
    "column_3"
   ]
  },
  {
   "cell_type": "code",
   "execution_count": 172,
   "metadata": {
    "colab": {
     "base_uri": "https://localhost:8080/"
    },
    "id": "VhnRlc8eElYc",
    "outputId": "2473373b-936c-45e8-8ef2-a305351a9390"
   },
   "outputs": [
    {
     "data": {
      "text/plain": [
       "np.int64(0)"
      ]
     },
     "execution_count": 172,
     "metadata": {},
     "output_type": "execute_result"
    }
   ],
   "source": [
    "np.dot(column_1, column_2)"
   ]
  },
  {
   "cell_type": "code",
   "execution_count": 173,
   "metadata": {
    "colab": {
     "base_uri": "https://localhost:8080/"
    },
    "id": "mVq4m-LfFGjQ",
    "outputId": "d1b8a9b5-8b20-44d0-ce59-1a6b7ba05c2c"
   },
   "outputs": [
    {
     "data": {
      "text/plain": [
       "np.int64(0)"
      ]
     },
     "execution_count": 173,
     "metadata": {},
     "output_type": "execute_result"
    }
   ],
   "source": [
    "np.dot(column_1, column_3)"
   ]
  },
  {
   "cell_type": "code",
   "execution_count": 174,
   "metadata": {
    "colab": {
     "base_uri": "https://localhost:8080/"
    },
    "id": "nJj-aihzFILx",
    "outputId": "e11e422d-0268-4830-d840-22ebd21db873"
   },
   "outputs": [
    {
     "data": {
      "text/plain": [
       "np.int64(0)"
      ]
     },
     "execution_count": 174,
     "metadata": {},
     "output_type": "execute_result"
    }
   ],
   "source": [
    "np.dot(column_2, column_3)"
   ]
  },
  {
   "cell_type": "markdown",
   "metadata": {
    "id": "FIzpkdJmFYdY"
   },
   "source": [
    "We can use the `np.linalg.norm()` method from earlier in the notebook to demonstrate that each column of $I_3$ has unit norm:"
   ]
  },
  {
   "cell_type": "code",
   "execution_count": 175,
   "metadata": {
    "colab": {
     "base_uri": "https://localhost:8080/"
    },
    "id": "xKbbeqegFJSc",
    "outputId": "b496a162-a447-44b8-cad8-ce768afda24b"
   },
   "outputs": [
    {
     "data": {
      "text/plain": [
       "np.float64(1.0)"
      ]
     },
     "execution_count": 175,
     "metadata": {},
     "output_type": "execute_result"
    }
   ],
   "source": [
    "np.linalg.norm(column_1)"
   ]
  },
  {
   "cell_type": "code",
   "execution_count": 176,
   "metadata": {
    "colab": {
     "base_uri": "https://localhost:8080/"
    },
    "id": "Ycv0L8mpGKRC",
    "outputId": "1dad31ec-d76d-450c-ae53-4388241db990"
   },
   "outputs": [
    {
     "data": {
      "text/plain": [
       "np.float64(1.0)"
      ]
     },
     "execution_count": 176,
     "metadata": {},
     "output_type": "execute_result"
    }
   ],
   "source": [
    "np.linalg.norm(column_2)"
   ]
  },
  {
   "cell_type": "code",
   "execution_count": 177,
   "metadata": {
    "colab": {
     "base_uri": "https://localhost:8080/"
    },
    "id": "LsEuRezYGLgY",
    "outputId": "44d2899e-fef2-499f-9051-002e0b9deb33"
   },
   "outputs": [
    {
     "data": {
      "text/plain": [
       "np.float64(1.0)"
      ]
     },
     "execution_count": 177,
     "metadata": {},
     "output_type": "execute_result"
    }
   ],
   "source": [
    "np.linalg.norm(column_3)"
   ]
  },
  {
   "cell_type": "markdown",
   "metadata": {
    "id": "NMrHdyrsGQ1X"
   },
   "source": [
    "Since the matrix $I_3$ has mutually orthogonal columns and each column has unit norm, the column vectors of $I_3$ are *orthonormal*. Since $I_3^T = I_3$, this means that the *rows* of $I_3$ must also be orthonormal.\n",
    "\n",
    "Since the columns and rows of $I_3$ are orthonormal, $I_3$ is an *orthogonal matrix*."
   ]
  },
  {
   "cell_type": "markdown",
   "metadata": {
    "id": "K7EykcPdIZhE"
   },
   "source": [
    "For Exercise 4, let's repeat the steps of Exercise 3 with matrix *K* instead of $I_3$. We could use NumPy again, but for fun I'll use PyTorch instead. (You're welcome to try it with TensorFlow if you feel so inclined.)"
   ]
  },
  {
   "cell_type": "code",
   "execution_count": 178,
   "metadata": {
    "colab": {
     "base_uri": "https://localhost:8080/"
    },
    "id": "MXVyu8tSGMlZ",
    "outputId": "454c991b-1357-4a7e-f642-de51ad634095"
   },
   "outputs": [
    {
     "data": {
      "text/plain": [
       "tensor([[ 0.6667,  0.3333,  0.6667],\n",
       "        [-0.6667,  0.6667,  0.3333],\n",
       "        [ 0.3333,  0.6667, -0.6667]])"
      ]
     },
     "execution_count": 178,
     "metadata": {},
     "output_type": "execute_result"
    }
   ],
   "source": [
    "K = torch.tensor([[2/3, 1/3, 2/3], [-2/3, 2/3, 1/3], [1/3, 2/3, -2/3]])\n",
    "K"
   ]
  },
  {
   "cell_type": "code",
   "execution_count": 179,
   "metadata": {
    "colab": {
     "base_uri": "https://localhost:8080/"
    },
    "id": "xqkmSYNfJmTs",
    "outputId": "5b314b21-1200-45f0-b9ee-02ff3a76319f"
   },
   "outputs": [
    {
     "data": {
      "text/plain": [
       "tensor([ 0.6667, -0.6667,  0.3333])"
      ]
     },
     "execution_count": 179,
     "metadata": {},
     "output_type": "execute_result"
    }
   ],
   "source": [
    "Kcol_1 = K[:,0]\n",
    "Kcol_1"
   ]
  },
  {
   "cell_type": "code",
   "execution_count": 180,
   "metadata": {
    "colab": {
     "base_uri": "https://localhost:8080/"
    },
    "id": "ncoc3IxNJ0v2",
    "outputId": "9c0de5c0-1311-4d2a-f2a8-c8b035799afe"
   },
   "outputs": [
    {
     "data": {
      "text/plain": [
       "tensor([0.3333, 0.6667, 0.6667])"
      ]
     },
     "execution_count": 180,
     "metadata": {},
     "output_type": "execute_result"
    }
   ],
   "source": [
    "Kcol_2 = K[:,1]\n",
    "Kcol_2"
   ]
  },
  {
   "cell_type": "code",
   "execution_count": 181,
   "metadata": {
    "colab": {
     "base_uri": "https://localhost:8080/"
    },
    "id": "ISEKQ0AqJ2wf",
    "outputId": "beaa5849-4d3c-4af7-cead-e4cd90faee99"
   },
   "outputs": [
    {
     "data": {
      "text/plain": [
       "tensor([ 0.6667,  0.3333, -0.6667])"
      ]
     },
     "execution_count": 181,
     "metadata": {},
     "output_type": "execute_result"
    }
   ],
   "source": [
    "Kcol_3 = K[:,2]\n",
    "Kcol_3"
   ]
  },
  {
   "cell_type": "code",
   "execution_count": 182,
   "metadata": {
    "colab": {
     "base_uri": "https://localhost:8080/"
    },
    "id": "jvdXuMzbJ44d",
    "outputId": "8c35ee3b-9dbd-4a2e-c11a-857fa688d535"
   },
   "outputs": [
    {
     "data": {
      "text/plain": [
       "tensor(-3.3114e-09)"
      ]
     },
     "execution_count": 182,
     "metadata": {},
     "output_type": "execute_result"
    }
   ],
   "source": [
    "torch.dot(Kcol_1, Kcol_2)"
   ]
  },
  {
   "cell_type": "code",
   "execution_count": 183,
   "metadata": {
    "colab": {
     "base_uri": "https://localhost:8080/"
    },
    "id": "BUR60eBuKEbU",
    "outputId": "abd95aa8-5557-4b29-871a-e09409095f62"
   },
   "outputs": [
    {
     "data": {
      "text/plain": [
       "tensor(3.3114e-09)"
      ]
     },
     "execution_count": 183,
     "metadata": {},
     "output_type": "execute_result"
    }
   ],
   "source": [
    "torch.dot(Kcol_1, Kcol_3)"
   ]
  },
  {
   "cell_type": "code",
   "execution_count": 184,
   "metadata": {
    "colab": {
     "base_uri": "https://localhost:8080/"
    },
    "id": "Rg7QvQwuKGJZ",
    "outputId": "bf55069c-186d-4a53-9b68-84b42e5e4454"
   },
   "outputs": [
    {
     "data": {
      "text/plain": [
       "tensor(6.6227e-09)"
      ]
     },
     "execution_count": 184,
     "metadata": {},
     "output_type": "execute_result"
    }
   ],
   "source": [
    "torch.dot(Kcol_2, Kcol_3)"
   ]
  },
  {
   "cell_type": "markdown",
   "metadata": {
    "id": "wNdV36-QKNK-"
   },
   "source": [
    "We've now determined that the columns of $K$ are orthogonal."
   ]
  },
  {
   "cell_type": "code",
   "execution_count": 185,
   "metadata": {
    "colab": {
     "base_uri": "https://localhost:8080/"
    },
    "id": "DDgyhj1AKHdS",
    "outputId": "ae72ed8b-2617-4cd4-91ec-7c94a1ab94d7"
   },
   "outputs": [
    {
     "data": {
      "text/plain": [
       "tensor(1.)"
      ]
     },
     "execution_count": 185,
     "metadata": {},
     "output_type": "execute_result"
    }
   ],
   "source": [
    "torch.norm(Kcol_1)"
   ]
  },
  {
   "cell_type": "code",
   "execution_count": 186,
   "metadata": {
    "colab": {
     "base_uri": "https://localhost:8080/"
    },
    "id": "KvQZy_E2KorW",
    "outputId": "10824173-467d-45c4-e931-4e65bec68229"
   },
   "outputs": [
    {
     "data": {
      "text/plain": [
       "tensor(1.)"
      ]
     },
     "execution_count": 186,
     "metadata": {},
     "output_type": "execute_result"
    }
   ],
   "source": [
    "torch.norm(Kcol_2)"
   ]
  },
  {
   "cell_type": "code",
   "execution_count": 187,
   "metadata": {
    "colab": {
     "base_uri": "https://localhost:8080/"
    },
    "id": "7H7dx8a7Kp9f",
    "outputId": "7de33d74-e385-4542-9dd7-375ae744a50a"
   },
   "outputs": [
    {
     "data": {
      "text/plain": [
       "tensor(1.)"
      ]
     },
     "execution_count": 187,
     "metadata": {},
     "output_type": "execute_result"
    }
   ],
   "source": [
    "torch.norm(Kcol_3)"
   ]
  },
  {
   "cell_type": "markdown",
   "metadata": {
    "id": "VPPtOk5OKtJ_"
   },
   "source": [
    "We've now determined that, in addition to being orthogonal, the columns of $K$ have unit norm, therefore they are orthonormal.\n",
    "\n",
    "To ensure that $K$ is an orthogonal matrix, we would need to show that not only does it have orthonormal columns but it has orthonormal rows are as well. Since $K^T \\neq K$, we can't prove this quite as straightforwardly as we did with $I_3$.\n",
    "\n",
    "One approach would be to repeat the steps we used to determine that $K$ has orthogonal columns with all of the matrix's rows (please feel free to do so). Alternatively, we can use an orthogonal matrix-specific equation from the slides, $A^TA = I$, to demonstrate that $K$ is orthogonal in a single line of code:"
   ]
  },
  {
   "cell_type": "code",
   "execution_count": 188,
   "metadata": {
    "colab": {
     "base_uri": "https://localhost:8080/"
    },
    "id": "W8Ao0KhVNHqF",
    "outputId": "3a3ae6c8-91c3-456a-9060-5b6e0524cde6"
   },
   "outputs": [
    {
     "data": {
      "text/plain": [
       "tensor([[ 1.0000e+00, -3.3114e-09,  3.3114e-09],\n",
       "        [-3.3114e-09,  1.0000e+00,  6.6227e-09],\n",
       "        [ 3.3114e-09,  6.6227e-09,  1.0000e+00]])"
      ]
     },
     "execution_count": 188,
     "metadata": {},
     "output_type": "execute_result"
    }
   ],
   "source": [
    "torch.matmul(K.T, K)"
   ]
  },
  {
   "cell_type": "markdown",
   "metadata": {
    "id": "scM6FCpjNgYA"
   },
   "source": [
    "Notwithstanding rounding errors that we can safely ignore, this confirms that $K^TK = I$ and therefore $K$ is an orthogonal matrix."
   ]
  }
 ],
 "metadata": {
  "colab": {
   "include_colab_link": true,
   "name": "1-intro-to-linear-algebra.ipynb",
   "provenance": []
  },
  "kernelspec": {
   "display_name": "Python 3 (ipykernel)",
   "language": "python",
   "name": "python3"
  },
  "language_info": {
   "codemirror_mode": {
    "name": "ipython",
    "version": 3
   },
   "file_extension": ".py",
   "mimetype": "text/x-python",
   "name": "python",
   "nbconvert_exporter": "python",
   "pygments_lexer": "ipython3",
   "version": "3.12.8"
  }
 },
 "nbformat": 4,
 "nbformat_minor": 4
}
