{
 "cells": [
  {
   "cell_type": "markdown",
   "id": "ccc86697-36e2-4516-906a-9e69eae92d5d",
   "metadata": {},
   "source": [
    "## AWS Study Notes \n",
    "\n",
    "Feb 2025 "
   ]
  },
  {
   "cell_type": "markdown",
   "id": "39cb17f8-5fd0-4492-9246-aa3fd6cdb23c",
   "metadata": {},
   "source": [
    "### IAM \n",
    "\n",
    "**Principals** make requests to IAM for carrying out actions or operations on an AWS service.\n",
    "\n",
    "**Entities** are objects that authenticate to an AWS account. \n"
   ]
  },
  {
   "cell_type": "markdown",
   "id": "75bd132e-b2d8-4db3-9a05-a0bd9cab1807",
   "metadata": {},
   "source": [
    "> All policy evaluations start with an **implicit** deny, followed by checking for any **explicit** deny, then comes a check for explicit Allow before the final default decision *deny*.\n",
    "\n",
    "All policies attached to the User, Group, and Role are evaluated. "
   ]
  },
  {
   "cell_type": "markdown",
   "id": "5a59c938-eac6-4f03-8546-f5b558550af3",
   "metadata": {},
   "source": [
    "#### Policy elements \n",
    "\n",
    "Effect - Allow/Deny\n",
    "\n",
    "Condition - Default(*); Can be date or time. \n",
    "\n",
    "Service - ARN Amazon Resource Number \n",
    "\n",
    "Actions like: List, Read, Tagging, Write, etc. \n"
   ]
  },
  {
   "cell_type": "markdown",
   "id": "93976f47-277d-4ea5-9c10-786f3ef7a5ae",
   "metadata": {},
   "source": [
    "#### IAM Groups \n",
    "\n",
    "IAM Group is __not__ an *identity* \n",
    "\n",
    "IAM Groups **cannot** be nested; also, there are no *default* IAM groups. \n",
    "\n",
    "Groups can contain only IAM Users. \n",
    "\n",
    "The default number of IAM groups is 300. \n",
    "\n",
    "An IAM User can be a member of 10 IAM groups. \n",
    "\n",
    "Maximum number of IAM users in an account is 5,000. \n"
   ]
  },
  {
   "cell_type": "markdown",
   "id": "1df8c321-005e-48f0-9454-56909260d631",
   "metadata": {},
   "source": [
    "#### Route table \n",
    "In AWS, route tables are associated with subnets, not the VPC itself, and each subnet must be associated with a route table, which controls the routing for that subnet. \n",
    "\n",
    "Here's a more detailed explanation:\n",
    "* __Route Tables and Routing:__ A route table contains a set of rules (routes) that determine where network traffic from a subnet or gateway is directed. \n",
    "* __Subnet Association:__ Each subnet in your VPC must be associated with a route table. \n",
    "* __Implicit Association:__ If you don't explicitly associate a subnet with a specific route table, it is implicitly associated with the main route table. \n",
    "* __Multiple Subnets and a Route Table:__ A single route table can be associated with multiple subnets. \n",
    "* __One Route Table per Subnet:__ A subnet can only be associated with one route table at a time. \n",
    "* __Main Route Table:__ The main route table is the default route table for the VPC and is used by any subnet that is not explicitly associated with another route table. \n",
    "* __Custom Route Tables:__ You can create custom route tables to control routing for specific subnets.\n",
    "\n"
   ]
  },
  {
   "cell_type": "markdown",
   "id": "c8dfa41e-8c23-46fa-bf75-344ff83e029a",
   "metadata": {},
   "source": [
    "#### Security Groups \n",
    "\n",
    "AWS Security Groups are __stateful__, meaning if you allow inbound traffic, the corresponding outbound traffic is automatically allowed, even without explicit outbound rules. \n",
    "\n",
    "Here's a more detailed explanation:\n",
    "* Stateful Nature:\n",
    "Security groups track the state of network connections. This means that once an inbound connection is established, the return traffic (outbound) is automatically permitted, regardless of whether you have defined an outbound rule. \n",
    "\n",
    "* Simplified Configuration:\n",
    "The stateful nature simplifies security group configuration because you primarily focus on defining inbound rules, and the corresponding outbound traffic is handled automatically. \n",
    "\n",
    "Example:\n",
    "If you allow inbound traffic on port 80 from a specific IP address, the corresponding outbound traffic on port 80 will also be allowed, even if you don't have a specific outbound rule for port 80. \n",
    "\n",
    "__Contrast with Network ACLs:__\n",
    "\n",
    "Network Access Control Lists (NACLs) are stateless, meaning they don't track the state of connections, and you need to define both inbound and outbound rules to allow traffic. \n",
    "* Security Groups are instance-level firewalls, while __NACLs operate at the *subnet level*__.\n",
    "\n",
    "Security Group Functionality:\n",
    "* Security groups are used to control inbound and outbound traffic to and from AWS resources, such as EC2 instances. \n",
    "* Security groups are used for a variety of AWS services, including EC2, ELB, RDS, and more. \n",
    "\n",
    "\n"
   ]
  }
 ],
 "metadata": {
  "kernelspec": {
   "display_name": "Python 3 (ipykernel)",
   "language": "python",
   "name": "python3"
  },
  "language_info": {
   "codemirror_mode": {
    "name": "ipython",
    "version": 3
   },
   "file_extension": ".py",
   "mimetype": "text/x-python",
   "name": "python",
   "nbconvert_exporter": "python",
   "pygments_lexer": "ipython3",
   "version": "3.12.8"
  }
 },
 "nbformat": 4,
 "nbformat_minor": 5
}
